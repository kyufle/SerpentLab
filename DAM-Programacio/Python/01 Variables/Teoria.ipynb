{
 "cells": [
  {
   "cell_type": "markdown",
   "metadata": {},
   "source": [
    "<div style=\"display: flex; width: 100%;\">\n",
    "    <div style=\"flex: 1; padding: 0px;\">\n",
    "        <p>© Albert Palacios Jiménez, 2023</p>\n",
    "    </div>\n",
    "    <div style=\"flex: 1; padding: 0px; text-align: right;\">\n",
    "        <img src=\"../assets/ieti.png\" height=\"32\" alt=\"Logo de IETI\" style=\"max-height: 32px;\">\n",
    "    </div>\n",
    "</div>\n",
    "<hr/>"
   ]
  },
  {
   "cell_type": "markdown",
   "metadata": {},
   "source": [
    "# Variables\n",
    "\n",
    "Les \"variables\" guarden una informació.\n",
    "\n",
    "<center><img src=\"../assets/01a_00.png\" width=\"300\" /></center>\n",
    "\n",
    "Imagina les variables com una caixa, on deixem informació\n",
    "\n",
    "Aquesta informació pot ser un número, un text, un objecte, ..."
   ]
  },
  {
   "cell_type": "markdown",
   "metadata": {},
   "source": [
    "### Nom de les variables\n",
    "\n",
    "Per distinguir una variable d'una altre (una caixa amb informació d'una altre), etiquetem les variables amb un nom\n",
    "\n",
    "El nom pot ser el què volguem, però en general:\n",
    "* El nom serà curt i entenedor\n",
    "* El nom està relacionat amb la informació que conté la variable\n",
    "* El nom no conté accents, ni espais, ni caràcters extranys\n",
    "* El nom no comença per un número\n",
    "* Si té diferents paraules, les separem amb un guió de baix _ (però això només per Python)"
   ]
  },
  {
   "cell_type": "markdown",
   "metadata": {},
   "source": [
    "### Assignar un valor a una variable\n",
    "\n",
    "Hem dit que les variables guarden una informació, per exemple un nom \"Bob\"\n",
    "\n",
    "Per indicar a la variable quin text ha de guardar fem servir el simbol =\n",
    "\n",
    "Per exemple:\n",
    "```python\n",
    "        nom = \"Bob\"\n",
    "```\n",
    "En aquesta instrucció, hem creat una variable anomenada 'nom' i li hem guardat com a informació el text \"Bob\"\n",
    "```python     \n",
    "        preu = 299.9\n",
    "```\n",
    "En aquesta instrucció, hem creat una variable anomenada 'preu' i li hem guardat com a informació el valor 299.9"
   ]
  },
  {
   "cell_type": "code",
   "execution_count": null,
   "metadata": {},
   "outputs": [],
   "source": [
    "# Exemple\n",
    "producte = \"Meló\"\n",
    "preu = 2.9\n",
    "quantitat = 3\n",
    "\n",
    "print(f\"Aquest estiu el \\\"{producte}\\\" estava a {preu}€ el kilo, i n'hem venut {quantitat}\")"
   ]
  },
  {
   "cell_type": "markdown",
   "metadata": {},
   "source": [
    "### Tipus de variables\n",
    "\n",
    "Segons el tipus de informació que guarden les variables, les distingim en diferents tipus:\n",
    "* **int**: Són números enters (sense decimals), per exemple: -3, 6, 123\n",
    "* **float**: Són números amb decimals, per exemple: -4.7, 3.14, 321.45\n",
    "* **str**: cadenes de text (Strings), per exemple: \"Hola\", 'món'\n",
    "\n",
    "Hi ha molts altres tipus, però ja els aprendrem més endavant."
   ]
  },
  {
   "cell_type": "code",
   "execution_count": 1,
   "metadata": {},
   "outputs": [
    {
     "name": "stdout",
     "output_type": "stream",
     "text": [
      "El tipus de la variable \"producte\" és: \"str\"\n",
      "El tipus de la variable \"preu\" és: \"float\"\n",
      "El tipus de la variable \"quantitat\" és: \"int\"\n",
      "El tipus de la variable \"veritat\" és: \"bool\"\n"
     ]
    }
   ],
   "source": [
    "# Exemple\n",
    "producte = \"Meló\"\n",
    "preu = 2.9\n",
    "quantitat = 3\n",
    "veritat = False\n",
    "\n",
    "print(f'El tipus de la variable \"producte\" és: \"{type(producte).__name__}\"')\n",
    "print(f'El tipus de la variable \"preu\" és: \"{type(preu).__name__}\"')\n",
    "print(f'El tipus de la variable \"quantitat\" és: \"{type(quantitat).__name__}\"')\n",
    "print(f'El tipus de la variable \"veritat\" és: \"{type(veritat).__name__}\"')"
   ]
  },
  {
   "cell_type": "markdown",
   "metadata": {},
   "source": [
    "### Valor 'None'\n",
    "\n",
    "A vegades una variable no té valor (no guarda cap informació), en aquest cas es diu que té valor 'None'"
   ]
  },
  {
   "cell_type": "code",
   "execution_count": 2,
   "metadata": {},
   "outputs": [
    {
     "name": "stdout",
     "output_type": "stream",
     "text": [
      "El valor de \"res\" és >None<\n"
     ]
    }
   ],
   "source": [
    "# Exemple\n",
    "res = None\n",
    "print(f'El valor de \"res\" és >{res}<')"
   ]
  },
  {
   "cell_type": "markdown",
   "metadata": {},
   "source": [
    "## Operacions amb les variables\n",
    "\n",
    "Amb les variables podem fer operacions, el més fàcil és fer operacions numèriques entre variables que tenen números.\n",
    "\n",
    "Quan es fa una operació amb variables, la operació es calcula amb el valor que està guardat en aquella variable\n",
    "\n",
    "Quan es fa una operació, el valor que es guarda a la variable és el resultat de la operació\n",
    "```python\n",
    "    a = 2\n",
    "    b = 3\n",
    "    c = a + b\n",
    "```\n",
    "En aquest exemple, la variable 'c' té valor 5 (que és el resultat de sumar 2 + 3)\n",
    "\n",
    "Les **opracions** que podem fer són:\n",
    "* \\+ Sumar\n",
    "* \\- Restar\n",
    "* \\* Multiplicar\n",
    "* \\*\\* Elevar a un exponent\n",
    "* / Dividir\n",
    "* // Divisió entera\n",
    "* % Calcular un mòdul"
   ]
  },
  {
   "cell_type": "code",
   "execution_count": 3,
   "metadata": {},
   "outputs": [
    {
     "name": "stdout",
     "output_type": "stream",
     "text": [
      "Tinc 10 animals a casa meva.\n"
     ]
    }
   ],
   "source": [
    "# Exemple\n",
    "gats = 3\n",
    "gossos = 2\n",
    "conills = 5\n",
    "total = gats + gossos + conills\n",
    "print(f'Tinc {total} animals a casa meva.')"
   ]
  },
  {
   "cell_type": "code",
   "execution_count": 4,
   "metadata": {},
   "outputs": [
    {
     "name": "stdout",
     "output_type": "stream",
     "text": [
      "El valor de la variable \"a\" és: 6\n",
      "El valor de la variable \"b\" és: 3\n"
     ]
    }
   ],
   "source": [
    "# Exemple\n",
    "x = 5\n",
    "y = 3\n",
    "a = x + 1\n",
    "b = a - y\n",
    "\n",
    "print(f'El valor de la variable \"a\" és: {a}')\n",
    "print(f'El valor de la variable \"b\" és: {b}')"
   ]
  },
  {
   "cell_type": "markdown",
   "metadata": {},
   "source": [
    "## Nota important\n",
    "\n",
    "Per evitar que apareguin molts decimals quan dibuixem el resultat d'un càlcul matemàtic, tenim dues opcions:\n",
    "* Al moment de dibuixar el text, posar :.Xf, en aquest cas no perdem informació (X és el número de decimals a mostrar, entre 0 i infinit)\n",
    "* Retallar els decimals del número, en aquest cas queda el número reduit però perdem informació"
   ]
  },
  {
   "cell_type": "code",
   "execution_count": null,
   "metadata": {},
   "outputs": [],
   "source": [
    "# Exemple de treure decimals a un número\n",
    "num_decimals = 3.14159265359\n",
    "print(f'No mostrar cap decimal: {num_decimals:.0f}')\n",
    "print(f'Mostrar dos decimals: {num_decimals:.2f}')\n",
    "print(f'Mostrar quatre decimals: {num_decimals:.4f}')\n",
    "print(f\"Mostrar tots els decimals: {num_decimals}, no s'ha perdut informació\")\n",
    "\n",
    "num_decimals_reduit_3 = round(num_decimals, 3)\n",
    "num_decimals_reduit_6 = round(num_decimals, 6)\n",
    "print(f\"Mostrar el nou número amb els decimals reduïts a 3: {num_decimals_reduit_3}, es perden els últims decimals\")\n",
    "print(f\"Mostrar el nou número amb els decimals reduïts a 6: {num_decimals_reduit_6}, es perden els últims decimals\")"
   ]
  },
  {
   "cell_type": "markdown",
   "metadata": {},
   "source": [
    "## Exercici 0\n",
    "\n",
    "Fes un programa que amb tres variables numèriques:\n",
    "\n",
    "* Una anomenada 'x' amb valor 1345 \n",
    "* La segona anomenada 'y' amb valor 64\n",
    "* La tercera s'ha de dir 'resultat' i serà el valor de calcular x dividit per y (simbol /)\n",
    "\n",
    "Finalment, el programa ha de mostrar dos textos: \n",
    "\n",
    "'El resultat de la divisió és ?', on ? mostra el resultat de la operació anterior\n",
    "\n",
    "'El resultat arrodonit de la divisió és ?', on ? mostra el resultat de la operació anterior amb 2 decimals"
   ]
  },
  {
   "cell_type": "code",
   "execution_count": 5,
   "metadata": {},
   "outputs": [
    {
     "name": "stdout",
     "output_type": "stream",
     "text": [
      "El resultat arrodonit de la divisió es 21.02\n"
     ]
    }
   ],
   "source": [
    "# Fes aquí el programa de l'exercici 0\n",
    "x = 1345\n",
    "y = 64\n",
    "resultat = x/y\n",
    "print(f\"El resultat arrodonit de la divisió es {resultat:.2f}\")"
   ]
  },
  {
   "cell_type": "markdown",
   "metadata": {},
   "source": [
    "## Canvi de valor\n",
    "\n",
    "A les variables els hi podem canviar el valor de la informació que contenen, per això s'anomenen variables.\n",
    "\n",
    "Per fer-ho, només cal assignar-los un nou valor.\n"
   ]
  },
  {
   "cell_type": "code",
   "execution_count": 6,
   "metadata": {},
   "outputs": [
    {
     "name": "stdout",
     "output_type": "stream",
     "text": [
      "La variable \"nom\" conté el valor: Albert\n",
      "La variable \"nom\" conté el valor: Marta\n",
      "La variable \"nom\" conté el valor: Il\n"
     ]
    }
   ],
   "source": [
    "# Exemple de canvi de valor d'una variable\n",
    "\n",
    "nom = \"Albert\"\n",
    "print(f'La variable \"nom\" conté el valor: {nom}')\n",
    "nom = \"Marta\"\n",
    "print(f'La variable \"nom\" conté el valor: {nom}')\n",
    "nom = \"Il\"\n",
    "print(f'La variable \"nom\" conté el valor: {nom}')"
   ]
  },
  {
   "cell_type": "markdown",
   "metadata": {},
   "source": [
    "## Canvi de tipus\n",
    "\n",
    "A vegades tenim una variable d'un tipus (per exemple de text) però necessitem que sigui d'un altre tipus (per exemple un número)\n",
    "\n",
    "Per exemple tenim un text \"45\" i volem transformar-lo el número 45.\n",
    "\n",
    "Aleshores haurem de crear una nova variable a partir de la variable original, però amb el nou tipus.\n",
    "\n",
    "Python ens permet fer aquesta conversió amb la funció 'float'. \n",
    "\n",
    "Un cop obtenim el valor en format de número, ja podem fer operacions amb ell."
   ]
  },
  {
   "cell_type": "code",
   "execution_count": 7,
   "metadata": {},
   "outputs": [
    {
     "ename": "TypeError",
     "evalue": "unsupported operand type(s) for +: 'int' and 'str'",
     "output_type": "error",
     "traceback": [
      "\u001b[1;31m---------------------------------------------------------------------------\u001b[0m",
      "\u001b[1;31mTypeError\u001b[0m                                 Traceback (most recent call last)",
      "Cell \u001b[1;32mIn[7], line 3\u001b[0m\n\u001b[0;32m      1\u001b[0m \u001b[38;5;66;03m# Aquest programa produeix un error, perquè no podem sumar un text i un número\u001b[39;00m\n\u001b[0;32m      2\u001b[0m text \u001b[38;5;241m=\u001b[39m \u001b[38;5;124m\"\u001b[39m\u001b[38;5;124m45\u001b[39m\u001b[38;5;124m\"\u001b[39m\n\u001b[1;32m----> 3\u001b[0m suma \u001b[38;5;241m=\u001b[39m \u001b[38;5;241;43m2\u001b[39;49m\u001b[43m \u001b[49m\u001b[38;5;241;43m+\u001b[39;49m\u001b[43m \u001b[49m\u001b[43mtext\u001b[49m\n",
      "\u001b[1;31mTypeError\u001b[0m: unsupported operand type(s) for +: 'int' and 'str'"
     ]
    }
   ],
   "source": [
    "# Aquest programa produeix un error, perquè no podem sumar un text i un número\n",
    "text = \"45\"\n",
    "suma = 2 + text"
   ]
  },
  {
   "cell_type": "code",
   "execution_count": 8,
   "metadata": {},
   "outputs": [
    {
     "name": "stdout",
     "output_type": "stream",
     "text": [
      "La suma és: 47.0\n"
     ]
    }
   ],
   "source": [
    "# Aquest programa funciona bé, perquè primer transforma el text a tipus numèric\n",
    "text = \"45\"\n",
    "numero = float(text)\n",
    "suma = 2 + numero\n",
    "print(f'La suma és: {suma}')"
   ]
  },
  {
   "cell_type": "code",
   "execution_count": 9,
   "metadata": {},
   "outputs": [
    {
     "name": "stdout",
     "output_type": "stream",
     "text": [
      "El tipo de 'numero' es: <class 'int'>\n",
      "El tipo de 'texto' es: <class 'str'>\n"
     ]
    }
   ],
   "source": [
    "#Aquest programa mostra com canviar de tipus, però de número a text amb la funció 'str'\n",
    "numero = 42\n",
    "texto = str(numero)\n",
    "\n",
    "print(f\"El tipo de 'numero' es: {type(numero)}\")\n",
    "print(f\"El tipo de 'texto' es: {type(texto)}\")"
   ]
  },
  {
   "cell_type": "code",
   "execution_count": 10,
   "metadata": {},
   "outputs": [
    {
     "name": "stdout",
     "output_type": "stream",
     "text": [
      "El resultat de la suma és: 86.5\n",
      "El tipus de 'num_enter' es: <class 'int'>\n",
      "El tipus de 'num_decimals' es: <class 'float'>\n",
      "El tipus de 'suma' es: <class 'float'>\n"
     ]
    }
   ],
   "source": [
    "# Al sumar un inter amb un numero amb decimals, obtenim un float (número amb decimals)\n",
    "num_enter = 42\n",
    "num_decimals = 44.5\n",
    "suma = num_enter + num_decimals\n",
    "\n",
    "print(f'El resultat de la suma és: {suma}')\n",
    "print(f\"El tipus de 'num_enter' es: {type(num_enter)}\")\n",
    "print(f\"El tipus de 'num_decimals' es: {type(num_decimals)}\")\n",
    "print(f\"El tipus de 'suma' es: {type(suma)}\")"
   ]
  },
  {
   "cell_type": "markdown",
   "metadata": {},
   "source": [
    "## Exercici 1\n",
    "\n",
    "Fes un programa que demani \"Quina edat tens?\" (amb un input), i calculi l'edat que tindríes si fós un gos.\n",
    "\n",
    "Per calcular l'edat de 'gos', multiplica l'edat humana per 7\n",
    "\n",
    "Com a sortida mostra: \"Si fossis un gos, tindries X anys\", on X és el resultat del càlcul anterior"
   ]
  },
  {
   "cell_type": "code",
   "execution_count": 11,
   "metadata": {},
   "outputs": [
    {
     "name": "stdout",
     "output_type": "stream",
     "text": [
      "Si fossis un gos, tindries 546.0 anys\n"
     ]
    }
   ],
   "source": [
    "# Fes aquí el programa de l'exercici 1\n",
    "edat = float(input(\"Quina edad tens: \"))\n",
    "resultat = edat * 7\n",
    "print(f\"Si fossis un gos, tindries {resultat} anys\")"
   ]
  },
  {
   "cell_type": "markdown",
   "metadata": {},
   "source": [
    "## Exercici 2\n",
    "\n",
    "Fes un programa que demani dos números (fent servir inputs) i calculi la resta entre ells.\n",
    "\n",
    "Com a sortida ha de mostrar: \"El resultat de calcular X - Y és Z\", on:\n",
    "\n",
    "* X és el primer valor escrit\n",
    "* Y és el segon valor escrit\n",
    "* Z és el resultat de restar-los"
   ]
  },
  {
   "cell_type": "code",
   "execution_count": 12,
   "metadata": {},
   "outputs": [
    {
     "name": "stdout",
     "output_type": "stream",
     "text": [
      "El resultat de calcular 500656.0 - 23049.0 és 477607.0\n"
     ]
    }
   ],
   "source": [
    "# Fes aquí el programa de l'exercici 2\n",
    "x = float(input(\"Indica el primer nombre: \"))\n",
    "y = float(input(\"Indica el segon nombre: \"))\n",
    "z = x-y\n",
    "print(f\"El resultat de calcular {x} - {y} és {z}\")"
   ]
  },
  {
   "cell_type": "markdown",
   "metadata": {},
   "source": [
    "## Exercici 3\n",
    "\n",
    "Fes un programa que guardi:\n",
    "\n",
    "* A la variable 'subjecte', el resultat de preguntar: \"Digues un animal: \"\n",
    "* A la variable 'verb', el resultat de preguntar: \"Digues què fa l'animal: \"\n",
    "* A la variable 'objecte', el resultat de preguntar: \"Digues un objecte: \"\n",
    "\n",
    "Finalment es mostren els continguts de subjecte, verb i objecte separats per una \", \""
   ]
  },
  {
   "cell_type": "code",
   "execution_count": 13,
   "metadata": {},
   "outputs": [
    {
     "name": "stdout",
     "output_type": "stream",
     "text": [
      "perro,comer,comida\n"
     ]
    }
   ],
   "source": [
    "# Fes aquí el programa de l'exercici 3\n",
    "subjecte = input(\"Digues un animal: \")\n",
    "verb = input(\"Digues què fa l'animal: \")\n",
    "objecte = input(\"Digues un objecte\")\n",
    "print(f\"{subjecte},{verb},{objecte}\")"
   ]
  },
  {
   "cell_type": "markdown",
   "metadata": {},
   "source": [
    "## Exercici 4\n",
    "\n",
    "Fes un programa que converteixi la temperatura de Celsius a Fahrenheit.\n",
    "\n",
    "Primer ha de demanar a l'usuari: \"En graus Celsius, quina temperatura fa?\"\n",
    "\n",
    "Després ha de fer el càlcul: fahrenheit = (graus * 1.8) + 32\n",
    "\n",
    "Finalment ha de mostrar el resultat: \"X graus Celsius són Y graus Fahrenheit\"\n",
    "\n",
    "On X són els graus introduits i Y són els graus resultants del càlcul."
   ]
  },
  {
   "cell_type": "code",
   "execution_count": 14,
   "metadata": {},
   "outputs": [
    {
     "name": "stdout",
     "output_type": "stream",
     "text": [
      "40.0 graus Celsius són 104.0 graus Fahrenheit\n"
     ]
    }
   ],
   "source": [
    "# Fes aquí el programa de l'exercici 4\n",
    "celsius = float(input(\"En graus Celsius, quina temperatura fa?\"))\n",
    "fahrenheit = (celsius*1.8) + 32\n",
    "print(f\"{celsius} graus Celsius són {fahrenheit} graus Fahrenheit\")"
   ]
  },
  {
   "cell_type": "markdown",
   "metadata": {},
   "source": [
    "## Exercici 5\n",
    "\n",
    "Fes un programa que a partir de demanar el pes i l'altura, calculi l'índex de massa corporal IMC\n",
    "\n",
    "Aquest càlcul es fa així: imc = pes / (altura * altura)"
   ]
  },
  {
   "cell_type": "code",
   "execution_count": null,
   "metadata": {},
   "outputs": [
    {
     "name": "stdout",
     "output_type": "stream",
     "text": [
      "Amb el pes 49.5 i l'altura 1.8 és 15.277777777777777\n"
     ]
    }
   ],
   "source": [
    "# Fes aquí el programa de l'exercici 5\n",
    "pes = float(input(\"Quin es el teu pes? \"))\n",
    "altura = float(input(\"Quina es la teva altura? \"))\n",
    "imc = pes / (altura*altura)\n",
    "print(f\"Amb el pes {pes} i l'altura {altura} és {imc:.2f}\")"
   ]
  },
  {
   "cell_type": "markdown",
   "metadata": {},
   "source": [
    "## Exercici 6\n",
    "\n",
    "Fes un programa que converteixi un valor en Euros cap a Dollars, per fer-ho ha de demanar:\n",
    "\n",
    "* El valor en Euros que es vol convertir\n",
    "* La tasa de conversió que ha d'aplicar\n",
    "\n",
    "Ha de mostrar la quantitat resultant com a: \"El valor de X€ són Y$\"\n",
    "\n",
    "La operació és senzilla, simplement és multiplicar els euros pel valor de la tasa de conversió\n",
    "\n",
    "On X són els euros introduits i Y el resultat de la conversió."
   ]
  },
  {
   "cell_type": "code",
   "execution_count": 20,
   "metadata": {},
   "outputs": [
    {
     "name": "stdout",
     "output_type": "stream",
     "text": [
      "El valor de 900.0 són 1350.0\n"
     ]
    }
   ],
   "source": [
    "# Fes aquí el programa de l'exercici 6\n",
    "euros = float(input(\"Quants euros vols convertir: \"))\n",
    "tasa = float(input(\"Quina és la tasa de conversió que ha d'aplicar: \"))\n",
    "calcul = euros * tasa\n",
    "print(f\"El valor de {euros} són {calcul}\")"
   ]
  },
  {
   "cell_type": "markdown",
   "metadata": {},
   "source": [
    "## Exercici 7\n",
    "\n",
    "Fes un programa que demani a l'usuari 3 notes d'exàmens i en calculi la nota mitjana.\n",
    "\n",
    "El resultat ha de ser: \"La nota mitjana entre X, Y, Z és A\"\n",
    "\n",
    "On X, Y i Z són els valors introduits per l'usuari i A és el resultat del càlcul de la mitjana."
   ]
  },
  {
   "cell_type": "code",
   "execution_count": 18,
   "metadata": {},
   "outputs": [
    {
     "name": "stdout",
     "output_type": "stream",
     "text": [
      "La mitjana de 4.0,5.0,7.0 és 5.33\n"
     ]
    }
   ],
   "source": [
    "# Fes aquí el programa de l'exercici 7\n",
    "x = float(input(\"Inserta la nota del primer exàmen: \"))\n",
    "y = float(input(\"Inserta la nota del segon exàmen: \"))\n",
    "z = float(input(\"Inserta la nota del tercer exàmen: \"))\n",
    "mitjana = (x+y+z) / 3\n",
    "print(f\"La mitjana de {x},{y},{z} és {mitjana:.2f}\")"
   ]
  },
  {
   "cell_type": "markdown",
   "metadata": {},
   "source": [
    "## Variables temporals\n",
    "\n",
    "A vegades, necessitem variables que només fem servir momentàniament. \n",
    "\n",
    "Són necessàries pel funcionament del codi, però només durant una operació curta.\n",
    "\n",
    "Aquestes variables en diem **temporals**."
   ]
  },
  {
   "cell_type": "markdown",
   "metadata": {},
   "source": [
    "### Exemple de variable temporal\n",
    "\n",
    "En el següent programa, veuràs com s'intercanvia el contingut de la variable \"transport_a\" amb el contingut de la variable \"transport_b\".\n",
    "\n",
    "Per fer aquest intercanvi, necessitem momentàniament una tercera variable (una tercera caixa on deixar un moment la informació)\n",
    "\n",
    "Com que aquesta tercera caixa només la fem servir al moment de l'intercanvi, diem que és temporal."
   ]
  },
  {
   "cell_type": "code",
   "execution_count": null,
   "metadata": {},
   "outputs": [],
   "source": [
    "# Exemple\n",
    "transport_a = \"bicicleta\"\n",
    "transport_b = \"cotxe\"\n",
    "\n",
    "print(f\"L'Ana va a treballar amb '{transport_a}' i en Miquel va a treballar amb '{transport_b}'\")\n",
    "\n",
    "print(f'Intercanvi!')\n",
    "tmp = transport_a\n",
    "transport_a = transport_b\n",
    "transport_b = tmp\n",
    "\n",
    "print(f\"L'Ana va a treballar amb '{transport_a}' i en Miquel va a treballar amb '{transport_b}'\")"
   ]
  },
  {
   "cell_type": "markdown",
   "metadata": {},
   "source": [
    "## Exercici 8\n",
    "\n",
    "Demana a l'usuari que escrigui 3 valors per calcular l'àrea d'un trapèzi:\n",
    "\n",
    "* Longitud de la primera base\n",
    "* Longitud de la segona base\n",
    "* Altura\n",
    "\n",
    "El càlcul és area = (base1 + base2) / (2 * altura)\n",
    "\n",
    "Mostra el resultat d'aquesta area: \"L'àrea del trapèzi és: ?\" on ? és el valor de l'area\n",
    "\n",
    "Aleshores fes servir una variable temporal, per intercanviar el valor de les bases i calcular la nova àrea (però amb les bases intercanviades)\n",
    "\n",
    "Finalment mostra: \"L'àrea del trapèzi amb les bases intercanviades és: ?\" on ? és el valor de la nova àera"
   ]
  },
  {
   "cell_type": "code",
   "execution_count": 16,
   "metadata": {},
   "outputs": [
    {
     "name": "stdout",
     "output_type": "stream",
     "text": [
      "L'àrea del trapèzi és: 1.625\n",
      "L'àrea del trapèzi amb les bases intercanviades és: 1.625\n"
     ]
    }
   ],
   "source": [
    "# Fes aquí el programa de l'exercici 8\n",
    "base1 = float(input(\"Digues la longitud de la primera base: \"))\n",
    "base2 = float(input(\"Digues la longitud de la segona base: \"))\n",
    "altura = float(input(\"Digues l'altura: \"))\n",
    "calcul = (base1+base2) / (2*altura)\n",
    "print(f\"L'àrea del trapèzi és: {calcul}\")\n",
    "tmp = base1\n",
    "base1 = base2\n",
    "base2 = tmp\n",
    "calcul = (base1+base2) / (2*altura)\n",
    "print(f\"L'àrea del trapèzi amb les bases intercanviades és: {calcul}\")"
   ]
  }
 ],
 "metadata": {
  "kernelspec": {
   "display_name": "Python 3",
   "language": "python",
   "name": "python3"
  },
  "language_info": {
   "codemirror_mode": {
    "name": "ipython",
    "version": 3
   },
   "file_extension": ".py",
   "mimetype": "text/x-python",
   "name": "python",
   "nbconvert_exporter": "python",
   "pygments_lexer": "ipython3",
   "version": "3.13.0"
  },
  "orig_nbformat": 4
 },
 "nbformat": 4,
 "nbformat_minor": 2
}
