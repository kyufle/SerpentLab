{
 "cells": [
  {
   "cell_type": "markdown",
   "metadata": {},
   "source": [
    "<div style=\"display: flex; width: 100%;\">\n",
    "    <div style=\"flex: 1; padding: 0px;\">\n",
    "        <p>© Albert Palacios Jiménez, 2023</p>\n",
    "    </div>\n",
    "    <div style=\"flex: 1; padding: 0px; text-align: right;\">\n",
    "        <img src=\"./assets/ieti.png\" height=\"32\" alt=\"Logo de IETI\" style=\"max-height: 32px;\">\n",
    "    </div>\n",
    "</div>\n",
    "<hr/>"
   ]
  },
  {
   "cell_type": "markdown",
   "metadata": {},
   "source": [
    "# Operacions amb booleans\n",
    "\n",
    "<center><img src=\"./assets/02c_00.jpeg\" height=\"250\" style=\"max-height: 250px;\" /></center>\n",
    "\n",
    "Les variables booleanes només poden tenir dos valors \"True\" i \"False\"\n",
    "\n",
    "En programació permeten pendre decissions, si volem fer una acció o no fer-la.\n",
    "\n",
    "Al nivell més baix, podem dir que tots els ordinadors bàsicament funcionen amb booleans."
   ]
  },
  {
   "cell_type": "markdown",
   "metadata": {},
   "source": [
    "## Exemples conceptuals\n",
    "\n",
    "* Com decidim si s'ha de mostrar una imatge o no? \n",
    "```text\n",
    "        Amb un valor booleà que ens diu \"True\" (mostrar la imatge) o \"False\" (no mostrar-la)\n",
    "```\n",
    "* Com decidim si cal repetir una operació? \n",
    "```text\n",
    "        Amb un valor booleà que ens diu \"True\" (repetir la operació) o \"False\" (no repetir-la)\n",
    "```\n",
    "I així  amb totes les decisions que prenen les màquines ..."
   ]
  },
  {
   "cell_type": "markdown",
   "metadata": {},
   "source": [
    "## Comparacions\n",
    "\n",
    "Com ja s'ha dit, les variables booleanes només tenen dos valors \"True\"i \"False\"\n",
    "\n",
    "Però també podem fer **comparacions** per obtenir aquests valors, per exemple:\n",
    "\n",
    "3 és més gran que 5 ? No, doncs obtenim un \"False\"\n",
    "\n",
    "7 és igual a 8 ? No, doncs obtenim un \"False\"\n",
    "\n",
    "Els operadors de comparació són:\n",
    "\n",
    "* **==** El valor de l'esquerra és igual al valor de la dreta?\n",
    "\n",
    "* **!=** El valor de l'esquerra és diferent al valor de la dreta?\n",
    "\n",
    "* **<** El valor de l'esquerra és menor que el valor de la dreta?\n",
    "\n",
    "* **>** El valor de l'esquerra és més gran que el valor de la dreta?\n",
    "\n",
    "* **<=** El valor de l'esquerra és menor o igual al valor de la dreta?\n",
    "\n",
    "* **>=** El valor de l'esquerra és més gran o igual al valor de la dreta?"
   ]
  },
  {
   "cell_type": "code",
   "execution_count": null,
   "metadata": {},
   "outputs": [],
   "source": [
    "# Exemples de comparació d'igualtat\n",
    "\n",
    "x = 10\n",
    "y = 5\n",
    "z = 5\n",
    "k = \"5\"\n",
    "\n",
    "son_iguals = (x == y)\n",
    "print(f\"Són iguals {x} i {y} ? {son_iguals}\")\n",
    "\n",
    "son_iguals = (y == z)\n",
    "print(f\"Són iguals {y} i {z} ? {son_iguals}\")\n",
    "\n",
    "son_iguals = (y == k)\n",
    "print(f\"Són iguals {y} i {k} ? {son_iguals}\") # K és una cadena de text!"
   ]
  },
  {
   "cell_type": "code",
   "execution_count": null,
   "metadata": {},
   "outputs": [],
   "source": [
    "# Exemples de comparació de diferència\n",
    "\n",
    "x = 10\n",
    "y = 5\n",
    "z = 5\n",
    "k = \"5\"\n",
    "\n",
    "son_diferents = (x != y)\n",
    "print(f\"Són diferents {x} i {y} ? {son_diferents}\")\n",
    "\n",
    "son_diferents = (y != z)\n",
    "print(f\"Són diferents {y} i {z} ? {son_diferents}\")\n",
    "\n",
    "son_diferents = (y != k)\n",
    "print(f\"Són diferents {y} i {k} ? {son_diferents}\") # K és una cadena de text!"
   ]
  },
  {
   "cell_type": "code",
   "execution_count": null,
   "metadata": {},
   "outputs": [],
   "source": [
    "# Exemples de comparació de menor\n",
    "\n",
    "x = 10\n",
    "y = 5\n",
    "z = 5\n",
    "\n",
    "es_menor = (x < y)\n",
    "print(f\"És menor {x} que {y} ? {es_menor}\")\n",
    "\n",
    "es_menor = (y < x)\n",
    "print(f\"És menor {y} que {x} ? {es_menor}\")\n",
    "\n",
    "es_menor = (y < z)\n",
    "print(f\"És menor {y} que {z} ? {es_menor}\")"
   ]
  },
  {
   "cell_type": "code",
   "execution_count": null,
   "metadata": {},
   "outputs": [],
   "source": [
    "# Exemples de comparació de major\n",
    "\n",
    "x = 10\n",
    "y = 5\n",
    "z = 5\n",
    "\n",
    "es_major = (x > y)\n",
    "print(f\"És major {x} que {y} ? {es_major}\")\n",
    "\n",
    "es_major = (y > x)\n",
    "print(f\"És major {y} que {x} ? {es_major}\")\n",
    "\n",
    "es_major = (y > z)\n",
    "print(f\"És major {y} que {z} ? {es_major}\")"
   ]
  },
  {
   "cell_type": "code",
   "execution_count": null,
   "metadata": {},
   "outputs": [],
   "source": [
    "# Exemples de comparació de menor o igual\n",
    "\n",
    "x = 10\n",
    "y = 5\n",
    "z = 5\n",
    "\n",
    "es_menor = (x <= y)\n",
    "print(f\"És menor o igual {x} que {y} ? {es_menor}\")\n",
    "\n",
    "es_menor = (y <= x)\n",
    "print(f\"És menor o igual {y} que {x} ? {es_menor}\")\n",
    "\n",
    "es_menor = (y <= z)\n",
    "print(f\"És menor o igual {y} que {z} ? {es_menor}\")"
   ]
  },
  {
   "cell_type": "code",
   "execution_count": null,
   "metadata": {},
   "outputs": [],
   "source": [
    "# Exemples de comparació de major o igual\n",
    "\n",
    "x = 10\n",
    "y = 5\n",
    "z = 5\n",
    "\n",
    "es_major = (x >= y)\n",
    "print(f\"És major o igual {x} que {y} ? {es_major}\")\n",
    "\n",
    "es_major = (y >= x)\n",
    "print(f\"És major o igual {y} que {x} ? {es_major}\")\n",
    "\n",
    "es_major = (y >= z)\n",
    "print(f\"És major o igual {y} que {z} ? {es_major}\")"
   ]
  },
  {
   "cell_type": "markdown",
   "metadata": {},
   "source": [
    "## Exercici 0\n",
    "\n",
    "Fes un programa que comprovi les següents igualtats:\n",
    "```text\n",
    "    5 és menor que 10?\n",
    "    5 és menor que 4?\n",
    "    5 és major o igual a 4?\n",
    "    5 és major o igual a 5?\n",
    "    5 és igual a \"5\"?\n",
    "    \"5\" és diferent de 5?\n",
    "```"
   ]
  },
  {
   "cell_type": "code",
   "execution_count": null,
   "metadata": {},
   "outputs": [],
   "source": [
    "# Fes aquí el programa de l'exercici 0"
   ]
  },
  {
   "cell_type": "markdown",
   "metadata": {},
   "source": [
    "## Operadors lògics\n",
    "\n",
    "A part de comparar números, podem fer altres operacions que ens dónen valors tipus \"True\" o \"False\"\n",
    "\n",
    "Hi ha tres operadors lògics imprescindibles:\n",
    "\n",
    "* **and**: Significa \"i\", és a dir: la condició de l'esquerra **i** la condició de la dreta es compleixen?\n",
    "\n",
    "    <span style=\"color:green\">Totes les condicions separades per 'and' s'ha de complir perquè el resultat sigui True</span>\n",
    "\n",
    "* **or**: Significa \"o\", és a dir: la condició de l'esquerra **o** la condició de la dreta es compleixen?\n",
    "\n",
    "    <span style=\"color:green\">Amb 'or' només cal que una de les condicions separades per 'or' es compleixi perquè el resultat sigui True</span>\n",
    "\n",
    "* **not**: Significa \"no\", és a dir: no es compleix aquesta condició?"
   ]
  },
  {
   "cell_type": "code",
   "execution_count": null,
   "metadata": {},
   "outputs": [],
   "source": [
    "# Exemples amb True i False\n",
    "\n",
    "print(f\"True and True = {True and True}\")\n",
    "print(f\"True and False = {True and False}\")\n",
    "print(f\"False and True = {False and True}\")\n",
    "print(f\"False and False = {False and False}\")\n",
    "\n",
    "# Amb 'and' s'ha de complir que tots els valors siguin True perquè el resultat sigui True\n",
    "\n",
    "print(f\"True and True and True = {True and True and True}\")\n",
    "print(f\"True and True and False = {True and True and False}\")\n",
    "print(f\"True and False and True = {True and False and True}\")\n",
    "\n",
    "print(f\"True or True = {True or True}\")\n",
    "print(f\"True or False = {True or False}\")\n",
    "print(f\"False or True = {False or True}\")\n",
    "print(f\"False or False = {False or False}\")\n",
    "\n",
    "# Amb 'or' només cal que un dels valors sigui True perquè el resultat sigui True\n",
    "\n",
    "print(f\"True or True or True = {True or True or True}\")\n",
    "print(f\"True or True or False = {True or True or False}\")\n",
    "print(f\"False or False or True = {False or False or True}\")"
   ]
  },
  {
   "cell_type": "code",
   "execution_count": null,
   "metadata": {},
   "outputs": [],
   "source": [
    "# Exemples de 'and'\n",
    "\n",
    "edat = 25\n",
    "carnet = True\n",
    "pot_conduir = (edat >= 18) and carnet\n",
    "\n",
    "print(f\"\"\"És més gran o igual a 18? {(edat >= 18)}, i té carnet? {carnet}. \n",
    "      Aleshores pot conduir? {pot_conduir}\"\"\")\n",
    "\n",
    "edat = 18\n",
    "carnet = False\n",
    "pot_conduir = (edat >= 18) and carnet\n",
    "\n",
    "print(f\"\"\"És més gran o igual a 18? {(edat >= 18)}, i té carnet? {carnet}. \n",
    "      Aleshores pot conduir? {pot_conduir}\"\"\")\n",
    "\n",
    "edat = 16\n",
    "carnet = True\n",
    "pot_conduir = (edat >= 18) and carnet\n",
    "\n",
    "print(f\"\"\"És més gran o igual a 18? {(edat >= 18)}, i té carnet? {carnet}. \n",
    "      Aleshores pot conduir? {pot_conduir}\"\"\")"
   ]
  },
  {
   "cell_type": "code",
   "execution_count": null,
   "metadata": {},
   "outputs": [],
   "source": [
    "# Exemples de 'or'\n",
    "\n",
    "tecnica = True\n",
    "inversio = True\n",
    "potemprendre = tecnica or inversio\n",
    "\n",
    "print(f\"\"\"Té habilitats tècniques? {tecnica}, o té capital per invertir? {inversio}.\n",
    "      Doncs, pot emprendre un negoci? {potemprendre}.\"\"\")\n",
    "\n",
    "tecnica = False\n",
    "inversio = True\n",
    "potemprendre = tecnica or inversio\n",
    "\n",
    "print(f\"\"\"Té habilitats tècniques? {tecnica}, o té capital per invertir? {inversio}.\n",
    "      Doncs, pot emprendre un negoci? {potemprendre}.\"\"\")\n",
    "\n",
    "tecnica = True\n",
    "inversio = False\n",
    "potemprendre = tecnica or inversio\n",
    "\n",
    "print(f\"\"\"Té habilitats tècniques? {tecnica}, o té capital per invertir? {inversio}.\n",
    "      Doncs, pot emprendre un negoci? {potemprendre}.\"\"\")\n",
    "\n",
    "tecnica = False\n",
    "inversio = False\n",
    "potemprendre = tecnica or inversio\n",
    "\n",
    "print(f\"\"\"Té habilitats tècniques? {tecnica}, o té capital per invertir? {inversio}.\n",
    "      Doncs, pot emprendre un negoci? {potemprendre}.\"\"\")"
   ]
  },
  {
   "cell_type": "code",
   "execution_count": null,
   "metadata": {},
   "outputs": [],
   "source": [
    "# Exemples de 'not'\n",
    "\n",
    "plou = False\n",
    "no_plou = not plou\n",
    "\n",
    "print(f\"\"\"Està plovent? {plou}. Doncs, no està plovent? {no_plou}.\"\"\")\n",
    "\n",
    "edat = 16\n",
    "major_edat = (edat >= 18)\n",
    "no_major_edat = not major_edat\n",
    "\n",
    "print(f\"\"\"L'edat és {edat}. És major d'edat? {major_edat}. No és major d'edat? {no_major_edat}.\"\"\")"
   ]
  },
  {
   "cell_type": "markdown",
   "metadata": {},
   "source": [
    "## Preferència entre 'or' i 'and'\n",
    "\n",
    "Quan hi ha una ambiguitat entre una condició múltiple, que implica 'and' i 'or'. \n",
    "\n",
    "Primer es calcula 'and' i després 'or', és a dir 'and' té preferència.\n",
    "\n",
    "Per exemple:\n",
    "```text\n",
    "        X and B or C: Equival a (X and B) or C\n",
    "        X or B and C: Equival a X or (B and C)\n",
    "```"
   ]
  },
  {
   "cell_type": "code",
   "execution_count": null,
   "metadata": {},
   "outputs": [],
   "source": [
    "# Exemple de preferència entre 'or' i 'and' (1)\n",
    "a = True\n",
    "b = False\n",
    "c = True\n",
    "\n",
    "resultat = a or b and c \n",
    "    # a or (b and c)\n",
    "print(f\"{a} or {b} and {c} és {resultat}\")\n",
    "\n",
    "resultat = (a or b) and c \n",
    "print(f\"({a} or {b}) and {c} és {resultat}\")\n",
    "\n",
    "resultat = a or (b and c)\n",
    "print(f\"{a} or ({b} and {c}) és {resultat}\")"
   ]
  },
  {
   "cell_type": "code",
   "execution_count": null,
   "metadata": {},
   "outputs": [],
   "source": [
    "# Exemple de preferència entre 'or' i 'and' (2)\n",
    "a = True\n",
    "b = False\n",
    "c = True\n",
    "\n",
    "resultat = a and b or c\n",
    "    # (a and b) or c\n",
    "print(f\"{a} or {b} and {c} és {resultat}\")\n",
    "\n",
    "resultat = (a and b) or c\n",
    "print(f\"({a} or {b}) and {c} és {resultat}\")\n",
    "\n",
    "resultat = a and (b or c)\n",
    "print(f\"{a} or ({b} and {c}) és {resultat}\")\n"
   ]
  },
  {
   "cell_type": "markdown",
   "metadata": {},
   "source": [
    "## Textos i booleans\n",
    "\n",
    "Es poden comparar cadenes amb == i !="
   ]
  },
  {
   "cell_type": "code",
   "execution_count": null,
   "metadata": {},
   "outputs": [],
   "source": [
    "# Exemple comparar Strings\n",
    "print(f\"Hola == hola : {'Hola' == 'hola'}\")\n",
    "print(f\"Hola == Hola : {'Hola' == 'Hola'}\")\n",
    "\n",
    "print(f\"Hola != hola : {'Hola' != 'hola'}\")\n",
    "print(f\"Hola != Hola : {'Hola' != 'Hola'}\")"
   ]
  },
  {
   "cell_type": "markdown",
   "metadata": {},
   "source": [
    "## Textos i booleans\n",
    "\n",
    "Hi ha algunes funciones de textos, que ens retornen valors booleans.\n",
    "\n",
    "És útil recordar-les, perquè sovint ens ajuden a simplificar molt el codi.\n",
    "\n",
    "* **isalpha**: Retorna \"True\" si la cadena no és buida i només conté lletres\n",
    "\n",
    "* **isdigit**: Retorna \"True\" si la cadena no és buida i només conté números\n",
    "\n",
    "* **islower**: Retorna \"True\" si tots els caràcters d'una cadena estàn en minúscules\n",
    "\n",
    "* **isupper**: Retorna \"True\" si tots els caràcters d'una cadena estàn en majúscules\n",
    "\n",
    "* **isspace**: Retorna \"True\" si la cadena no és buida i tots els caràctersson espais blancs\n",
    "\n",
    "* **startswith**: Retornen \"True\" si una cadena comença d'una manera concreta\n",
    "\n",
    "* **endswith**: Retorna \"True\" si una cadena acaba d'una manera concreta"
   ]
  },
  {
   "cell_type": "code",
   "execution_count": null,
   "metadata": {},
   "outputs": [],
   "source": [
    "# Exemples de 'isalpha'\n",
    "\n",
    "text = \"HolaMón\"\n",
    "es_alfabetic = text.isalpha()\n",
    "print(f\"El text '{text}' és alfabètic? {es_alfabetic}\")\n",
    "\n",
    "text = \"Hola12\"\n",
    "es_alfabetic = text.isalpha()\n",
    "print(f\"El text '{text}' és alfabètic? {es_alfabetic}\")\n",
    "\n",
    "text = \"1234\"\n",
    "es_alfabetic = text.isalpha()\n",
    "print(f\"El text '{text}' és alfabètic? {es_alfabetic}\")\n",
    "\n",
    "text = \"12.34\"\n",
    "es_alfabetic = text.isalpha()\n",
    "print(f\"El text '{text}' és alfabètic? {es_alfabetic}\") # Atenció!!!"
   ]
  },
  {
   "cell_type": "code",
   "execution_count": null,
   "metadata": {},
   "outputs": [],
   "source": [
    "# Exemples de 'isdigit'\n",
    "\n",
    "text = \"HolaMón\"\n",
    "es_digit = text.isdigit()\n",
    "print(f\"El text '{text}' són números? {es_digit}\")\n",
    "\n",
    "text = \"Hola12\"\n",
    "es_digit = text.isdigit()\n",
    "print(f\"El text '{text}' són números? {es_digit}\")\n",
    "\n",
    "text = \"1234\"\n",
    "es_digit = text.isdigit()\n",
    "print(f\"El text '{text}' són números? {es_digit}\")\n",
    "\n",
    "text = \"12.34\"\n",
    "es_digit = text.isdigit()\n",
    "print(f\"El text '{text}' són números? {es_digit}\") # Atenció!!!"
   ]
  },
  {
   "cell_type": "code",
   "execution_count": null,
   "metadata": {},
   "outputs": [],
   "source": [
    "# Exemples de 'islower'\n",
    "\n",
    "text = \"Hola Món\"\n",
    "es_minuscula = text.islower()\n",
    "print(f\"El text '{text}' és tot minúscula? {es_minuscula}\")\n",
    "\n",
    "text = \"hola món\"\n",
    "es_minuscula = text.islower()\n",
    "print(f\"El text '{text}' és tot minúscula? {es_minuscula}\")\n",
    "\n",
    "text = \"HOLA MÓN\"\n",
    "es_minuscula = text.islower()\n",
    "print(f\"El text '{text}' és tot minúscula? {es_minuscula}\")"
   ]
  },
  {
   "cell_type": "code",
   "execution_count": null,
   "metadata": {},
   "outputs": [],
   "source": [
    "# Exemples de 'isupper'\n",
    "\n",
    "text = \"Hola Món\"\n",
    "es_majuscula = text.isupper()\n",
    "print(f\"El text '{text}' és tot en majúscules? {es_majuscula}\")\n",
    "\n",
    "text = \"hola món\"\n",
    "es_majuscula = text.isupper()\n",
    "print(f\"El text '{text}' és tot en majúscules? {es_majuscula}\")\n",
    "\n",
    "text = \"HOLA MÓN\"\n",
    "es_majuscula = text.isupper()\n",
    "print(f\"El text '{text}' és tot en majúscules? {es_majuscula}\")"
   ]
  },
  {
   "cell_type": "code",
   "execution_count": null,
   "metadata": {},
   "outputs": [],
   "source": [
    "# Exemples de 'isspace'\n",
    "\n",
    "text = \"\"\n",
    "es_espais = text.isspace()\n",
    "print(f\"El text '{text}' només conté espais? {es_espais}\")\n",
    "\n",
    "text = \"   \"\n",
    "es_espais = text.isspace()\n",
    "print(f\"El text '{text}' només conté espais? {es_espais}\")\n",
    "\n",
    "text = \"  a  \"\n",
    "es_espais = text.isspace()\n",
    "print(f\"El text '{text}' només conté espais? {es_espais}\")"
   ]
  },
  {
   "cell_type": "code",
   "execution_count": null,
   "metadata": {},
   "outputs": [],
   "source": [
    "# Exemples de 'statswith' i 'endswith'\n",
    "\n",
    "frase = \"Hola, com estàs?\"\n",
    "comenca_amb_Hola = frase.startswith(\"Hola\")\n",
    "comenca_amb_hola = frase.startswith(\"hola\")\n",
    "acaba_amb_pregunta = frase.endswith(\"?\")\n",
    "acaba_amb_estas = frase.endswith(\"estàs\")\n",
    "\n",
    "print(f\"La frase '{frase}' comença amb 'Hola'? {comenca_amb_Hola}\")\n",
    "print(f\"La frase '{frase}' comença amb 'hola'? {comenca_amb_hola}\")\n",
    "print(f\"La frase '{frase}' acaba amb el símbol de pregunta? {acaba_amb_pregunta}\")\n",
    "print(f\"La frase '{frase}' acaba amb estàs? {acaba_amb_estas}\")"
   ]
  },
  {
   "cell_type": "markdown",
   "metadata": {},
   "source": [
    "## Exercici 1\n",
    "\n",
    "Fes un programa que demani a l'usuari el seu nom i la seva edat, i comprovi que realment són noms i edats vàlids."
   ]
  },
  {
   "cell_type": "code",
   "execution_count": null,
   "metadata": {},
   "outputs": [],
   "source": [
    "# Fes aquí el programa de l'exercici 1"
   ]
  }
 ],
 "metadata": {
  "kernelspec": {
   "display_name": "Python 3",
   "language": "python",
   "name": "python3"
  },
  "language_info": {
   "codemirror_mode": {
    "name": "ipython",
    "version": 3
   },
   "file_extension": ".py",
   "mimetype": "text/x-python",
   "name": "python",
   "nbconvert_exporter": "python",
   "pygments_lexer": "ipython3",
   "version": "3.11.5"
  },
  "orig_nbformat": 4
 },
 "nbformat": 4,
 "nbformat_minor": 2
}
