{
 "cells": [
  {
   "cell_type": "markdown",
   "metadata": {},
   "source": [
    "<div style=\"display: flex; width: 100%;\">\n",
    "    <div style=\"flex: 1; padding: 0px;\">\n",
    "        <p>© Albert Palacios Jiménez, 2023</p>\n",
    "    </div>\n",
    "    <div style=\"flex: 1; padding: 0px; text-align: right;\">\n",
    "        <img src=\"../assets/ieti.png\" height=\"32\" alt=\"Logo de IETI\" style=\"max-height: 32px;\">\n",
    "    </div>\n",
    "</div>\n",
    "<hr/>"
   ]
  },
  {
   "cell_type": "markdown",
   "metadata": {},
   "source": [
    "# Autoaprenentatge 0\n",
    "\n",
    "<center><img src=\"../assets/06b_00.png\" height=\"200\" style=\"max-height: 200px;\" /></center>\n",
    "\n",
    "Aquests exercicis estàn resolts, perquè primer practiquis i després comprovis si ho has fet bé.\n",
    "\n",
    "Recorda que no hi ha una única solució correcta, hi ha diferents maneres de resoldre un mateix problema.\n",
    "\n",
    "Però no facis trampes, recorda també que s'atrapa abans a un mentider que a un coix."
   ]
  },
  {
   "cell_type": "markdown",
   "metadata": {},
   "source": [
    "## Exercici 0\n",
    "\n",
    "Fes un programa que escrigui el doble d'un número donat."
   ]
  },
  {
   "cell_type": "code",
   "execution_count": null,
   "metadata": {},
   "outputs": [],
   "source": [
    "numero = 5\n",
    "doble = 5 * 2\n",
    "print(doble)"
   ]
  },
  {
   "cell_type": "markdown",
   "metadata": {},
   "source": [
    "## Exercici 1\n",
    "\n",
    "Fes un programa que pregunti a l'usuari:\n",
    "\n",
    "* El seu esport preferit i després escrigui: \"El teu esport preferit és: X\"\n",
    "* La seva edat i després calculi la seva edat * 2: \"La teva edat multiplicada per 2 és: Y\""
   ]
  },
  {
   "cell_type": "code",
   "execution_count": null,
   "metadata": {},
   "outputs": [],
   "source": [
    "esport = input(\"Quin es el teu esport preferit? \")\n",
    "edat = int(input(\"Quina edat tens? \"))\n",
    "doble = edat * 2\n",
    "\n",
    "print(f\"El teu esport preferit és: {esport}\")\n",
    "print(f\"La teva edat multiplicada per 2 és: {doble}\")"
   ]
  },
  {
   "cell_type": "markdown",
   "metadata": {},
   "source": [
    "## Exercici 2\n",
    "\n",
    "Fes un programa que pregunti a l'usuari:\n",
    "\n",
    "* La base i alçada d'un triangle i després escrigui: \"L'àrea del triangle és: X\"\n",
    "\n",
    "L'area d'un triangle es calcula amb: (base * alçada) / 2"
   ]
  },
  {
   "cell_type": "code",
   "execution_count": null,
   "metadata": {},
   "outputs": [],
   "source": [
    "base = int(input(\"Escriu la base del triangle: \"))\n",
    "altura = int(input(\"Escriu l'altura del triangle: \"))\n",
    "area = (base * altura) / 2\n",
    "\n",
    "print(f\"El triangle té una àrea de: {area}\")"
   ]
  },
  {
   "cell_type": "markdown",
   "metadata": {},
   "source": [
    "## Exercici 3\n",
    "\n",
    "Fes un programa que pregunti a l'usuari quin és el preu del seu cotxe en euros i després calculi el preu final incloent els impostos (que són del 21%)."
   ]
  },
  {
   "cell_type": "code",
   "execution_count": null,
   "metadata": {},
   "outputs": [],
   "source": [
    "preu = int(input(\"Escriu el preu del cotxe: \"))\n",
    "iva = preu * 0.21\n",
    "preu_final = preu + iva\n",
    "\n",
    "print(f\"Els impostos a pagar pel cotxe són: {iva}\")\n",
    "print(f\"El preu final del cotxe és: {preu_final}\")"
   ]
  },
  {
   "cell_type": "markdown",
   "metadata": {},
   "source": [
    "## Exercici 4\n",
    "\n",
    "Fes un programa que demani un número i calculi:\n",
    "\n",
    "* El seu doble\n",
    "* El seu quadrat"
   ]
  },
  {
   "cell_type": "code",
   "execution_count": null,
   "metadata": {},
   "outputs": [],
   "source": [
    "num = float(input(\"Escriu un número: \"))\n",
    "doble = num * 2\n",
    "quadrat = num ** 2\n",
    "\n",
    "print(f\"El doble del número és: {doble}\")\n",
    "print(f\"El quadrat del número és: {quadrat}\")"
   ]
  },
  {
   "cell_type": "markdown",
   "metadata": {},
   "source": [
    "## Exercici 5\n",
    "\n",
    "Fes una funció 'tiraDau' que simuli el llançament d'un dau i retorni un valor entre 1 i 6"
   ]
  },
  {
   "cell_type": "code",
   "execution_count": null,
   "metadata": {},
   "outputs": [],
   "source": [
    "import random\n",
    "def tiraDau():\n",
    "    resultat = random.randint(1, 6)\n",
    "    return resultat\n",
    "\n",
    "# Exemple d'ús\n",
    "valor_dau = tiraDau()\n",
    "print(f'El resultat del llançament del dau és: {valor_dau}')"
   ]
  },
  {
   "cell_type": "markdown",
   "metadata": {},
   "source": [
    "## Exercici 6\n",
    "\n",
    "Fes una funció (tira_monedes) que simuli tirar tres monedes a l'aire i retorni el número de cares que han sortit."
   ]
  },
  {
   "cell_type": "code",
   "execution_count": null,
   "metadata": {},
   "outputs": [],
   "source": [
    "import random\n",
    "def tira_moneda():\n",
    "    resultat = random.randint(1, 2)\n",
    "    if resultat == 1:\n",
    "        return \"cara\"\n",
    "    else:\n",
    "        return \"creu\"\n",
    "\n",
    "def tira_monedes():\n",
    "    moneda0 = tira_moneda()\n",
    "    moneda1 = tira_moneda()\n",
    "    moneda2 = tira_moneda()\n",
    "    return moneda0, moneda1, moneda2\n",
    "\n",
    "m0, m1, m2 = tira_monedes()\n",
    "cares = 0\n",
    "if m0 == \"cara\":\n",
    "    cares = cares + 1\n",
    "if m1 == \"cara\":\n",
    "    cares = cares + 1\n",
    "if m2 == \"cara\":\n",
    "    cares = cares + 1\n",
    "\n",
    "print(f'El resultat del llançament de les tres monedes és: {m0}, {m1}, {m2}')\n",
    "print(f'El nombre de cares és: {cares}')"
   ]
  },
  {
   "cell_type": "markdown",
   "metadata": {},
   "source": [
    "## Exercici 7\n",
    "\n",
    "Fes una funció (mono_al_teclat) que generi una cadena de text aleatòria de 5 caràcters.\n",
    "\n",
    "Pots fer servir la funció 'chr' que converteix números en caràcters ASCII.\n",
    "\n",
    "Les lletres entre 'a' i 'z' tenen els codis ASCII entre 97 i 122."
   ]
  },
  {
   "cell_type": "code",
   "execution_count": null,
   "metadata": {},
   "outputs": [],
   "source": [
    "import random\n",
    "\n",
    "def mono_al_teclat():\n",
    "    caracter0 = chr(random.randint(97, 122))\n",
    "    caracter1 = chr(random.randint(97, 122))\n",
    "    caracter2 = chr(random.randint(97, 122))\n",
    "    caracter3 = chr(random.randint(97, 122))\n",
    "    caracter4 = chr(random.randint(97, 122))\n",
    "    return caracter0+caracter1+caracter2+caracter3+caracter4\n",
    "\n",
    "resultat = mono_al_teclat()\n",
    "print(f\"El mono ha escrit: {resultat}\")"
   ]
  },
  {
   "cell_type": "markdown",
   "metadata": {},
   "source": [
    "## Exercici 8\n",
    "\n",
    "Fes un programa amb la funció 'generaJugada' que retorna aleatòriament un número entre 1 i 5\n",
    "\n",
    "El programa demana a l'usuari que escrigui un número entre 1 i 5 i després comprova si ha encertat.\n",
    "\n",
    "El resultat ha de ser de l'estil:\n",
    "\n",
    "- \"Has encertat, has escrit X i el programa ha escollit Y\"\n",
    "- \"No has encertat, has escrit X i el programa ha escollit Y\""
   ]
  },
  {
   "cell_type": "code",
   "execution_count": null,
   "metadata": {},
   "outputs": [],
   "source": [
    "import random\n",
    "\n",
    "aleatori = random.randint(1, 5)\n",
    "jugador = int(input(\"Escriu un número entre 1 i 5: \"))\n",
    "\n",
    "if jugador == aleatori:\n",
    "    print(f\"Has encertat, has escrit {jugador} i el programa ha escollit {aleatori}\")\n",
    "else:\n",
    "    print(f\"No has encertat, has escrit {jugador} i el programa ha escollit {aleatori}\")"
   ]
  },
  {
   "cell_type": "markdown",
   "metadata": {},
   "source": [
    "## Exercici 9\n",
    "\n",
    "Un cuidador de gossos cobra 30€ per dia que cuida un gos.\n",
    "\n",
    "Si el gos es queda de nit, cobra 20€ més.\n",
    "\n",
    "D'aquests diners, ha de pagar un 16% d'impostos al govern.\n",
    "\n",
    "Fes la funció 'benefici_dia' que calculi el benefici que obté el cuidador per cada gos que cuida.\n",
    "\n",
    "A partir dels paràmetres:\n",
    "* dia: número de gossos que només es queden de dia\n",
    "* nit: número de gossos que es queden de dia i de nit"
   ]
  },
  {
   "cell_type": "code",
   "execution_count": null,
   "metadata": {},
   "outputs": [],
   "source": [
    "def benefici_dia(dia, nit):\n",
    "    preu_per_gos_dia = 30\n",
    "    preu_per_gos_nit = 20\n",
    "    impostos = 0.16  # 16% d'impostos\n",
    "    \n",
    "    total_dia = dia * preu_per_gos_dia\n",
    "    total_nit = nit * (preu_per_gos_dia + preu_per_gos_nit)\n",
    "    \n",
    "    benefici_total = total_dia + total_nit\n",
    "    impostos = benefici_total * impostos\n",
    "    benefici_net = benefici_total - impostos\n",
    "   \n",
    "    return benefici_net\n",
    "\n",
    "# Exemple d'ús:\n",
    "dia = 5\n",
    "nit = 3\n",
    "\n",
    "benefici = benefici_dia(dia, nit)\n",
    "print(f\"El benefici per gos és de: {benefici} €\")\n"
   ]
  },
  {
   "cell_type": "markdown",
   "metadata": {},
   "source": [
    "## Exercici 10\n",
    "\n",
    "Fes una funció (ordena_4) que rebi quatre números i els retorni ordenats."
   ]
  },
  {
   "cell_type": "code",
   "execution_count": null,
   "metadata": {},
   "outputs": [],
   "source": [
    "def ordena_4(num1, num2, num3, num4):\n",
    "    if num1 > num2:\n",
    "        num1, num2 = num2, num1\n",
    "    if num3 > num4:\n",
    "        num3, num4 = num4, num3\n",
    "    if num1 > num3:\n",
    "        num1, num3 = num3, num1\n",
    "    if num2 > num4:\n",
    "        num2, num4 = num4, num2\n",
    "    if num2 > num3:\n",
    "        num2, num3 = num3, num2\n",
    "\n",
    "    return num1, num2, num3, num4\n",
    "\n",
    "# Exemple d'ús:\n",
    "num1 = 10\n",
    "num2 = 5\n",
    "num3 = 8\n",
    "num4 = 3\n",
    "\n",
    "ordenats = ordena_4(num1, num2, num3, num4)\n",
    "print(f\"Els números ordenats són: {ordenats}\")"
   ]
  },
  {
   "cell_type": "markdown",
   "metadata": {},
   "source": [
    "## Exercici 11\n",
    "\n",
    "Fes un programa que rebi el nom d'un més i digui si té 28, 29, 30 o 31 dies."
   ]
  },
  {
   "cell_type": "code",
   "execution_count": null,
   "metadata": {},
   "outputs": [],
   "source": [
    "def nombre_de_dies(mes):\n",
    "    mes = mes.lower()\n",
    "    \n",
    "    if mes == \"gener\" or mes == \"març\" or mes == \"maig\" or mes == \"juliol\" or mes == \"agost\" or mes == \"octubre\" or mes == \"desembre\":\n",
    "        return f\"{mes.capitalize()} té 31 dies.\"\n",
    "    elif mes == \"abril\" or mes == \"juny\" or mes == \"setembre\" or mes == \"novembre\":\n",
    "        return f\"{mes.capitalize()} té 30 dies.\"\n",
    "    elif mes == \"febrer\":\n",
    "        return \"Febrer té 28 o 29 dies (en anys de traspàs).\"\n",
    "    else:\n",
    "        return \"No reconec aquest mes.\"\n",
    "\n",
    "# Demana a l'usuari que escrigui el nom d'un mes\n",
    "mes = input(\"Escriu el nom d'un mes: \")\n",
    "\n",
    "# Mostra el nombre de dies del mes\n",
    "resultat = nombre_de_dies(mes)\n",
    "print(resultat)\n"
   ]
  },
  {
   "cell_type": "markdown",
   "metadata": {},
   "source": [
    "## Exercici 12\n",
    "\n",
    "Una empresa d'autobusos té 3 rutes diferents. Cada ruta té un preu diferent per persona.\n",
    "\n",
    "- Ruta 1: 2.5 €\n",
    "- Ruta 2: 3.0 €\n",
    "- Ruta 3: 3.5 €\n",
    "\n",
    "Primer es paguen els impostos al govern, que són d'un 21%.\n",
    "\n",
    "Després es paga la comissió de l'ajuntament que és d'un 25%.\n",
    "\n",
    "El restant són diners per l'empresa.\n",
    "\n",
    "Fes una funció (calcula_benefici) que a partir de 3 paràmetres (nombre d'usuaris de cada ruta) calculi:\n",
    "\n",
    "* El benefici total de l'empresa.\n",
    "* El cost d'operació\n",
    "* El benefici de l'ajuntament.\n",
    "* El benefici del govern"
   ]
  },
  {
   "cell_type": "code",
   "execution_count": null,
   "metadata": {},
   "outputs": [],
   "source": [
    "def calcula_benefici(usuaris_ruta1, usuaris_ruta2, usuaris_ruta3):\n",
    "    preu_ruta1 = 2.5\n",
    "    preu_ruta2 = 3.0\n",
    "    preu_ruta3 = 3.5\n",
    "    impostos_govern = 0.21  # 21% d'impostos\n",
    "    percentatge_ajuntament = 0.25  # 25% per a l'ajuntament\n",
    "    cost_operacio = 0.5  # 50 cèntims per viatger\n",
    "    \n",
    "    ingressos_ruta1 = usuaris_ruta1 * preu_ruta1\n",
    "    ingressos_ruta2 = usuaris_ruta2 * preu_ruta2\n",
    "    ingressos_ruta3 = usuaris_ruta3 * preu_ruta3\n",
    "    \n",
    "    ingressos_totals = ingressos_ruta1 + ingressos_ruta2 + ingressos_ruta3\n",
    "    impostos = ingressos_totals * impostos_govern\n",
    "    benefici_sense_impostos = ingressos_totals - impostos\n",
    "    \n",
    "    benefici_ajuntament = benefici_sense_impostos * percentatge_ajuntament\n",
    "    cost_operacio_total = (usuaris_ruta1 + usuaris_ruta2 + usuaris_ruta3) * cost_operacio\n",
    "    benefici_empresa = benefici_sense_impostos - benefici_ajuntament - cost_operacio_total\n",
    "    benefici_govern = impostos\n",
    "    \n",
    "    return benefici_empresa, cost_operacio_total, benefici_ajuntament, benefici_govern\n",
    "\n",
    "# Exemple d'ús:\n",
    "usuaris_ruta1 = 50\n",
    "usuaris_ruta2 = 40\n",
    "usuaris_ruta3 = 30\n",
    "\n",
    "resultats = calcula_benefici(usuaris_ruta1, usuaris_ruta2, usuaris_ruta3)\n",
    "benefici_empresa, cost_operacio, benefici_ajuntament, benefici_govern = resultats\n",
    "\n",
    "print(f\"Benefici de l'empresa: {benefici_empresa} €\")\n",
    "print(f\"Cost d'operació: {cost_operacio} €\")\n",
    "print(f\"Benefici de l'ajuntament: {benefici_ajuntament} €\")\n",
    "print(f\"Benefici del govern (impostos): {benefici_govern} €\")"
   ]
  },
  {
   "cell_type": "markdown",
   "metadata": {},
   "source": [
    "## Exercici 13\n",
    "\n",
    "Fes una funció que permeti calcular els impostos que pagues quan fas la compra.\n",
    "\n",
    "La funció rebrà dos paràmetres:\n",
    "* Preu del total de la compra en productes de necessitat bàsica\n",
    "* Preu del total de la compra en productes de luxe"
   ]
  },
  {
   "cell_type": "code",
   "execution_count": null,
   "metadata": {},
   "outputs": [],
   "source": [
    "def calcula_impostos(compra_necessitat, compra_luxe):\n",
    "    impost_necessitat = compra_necessitat * 0.10  # 10% d'impost per productes de necessitat bàsica\n",
    "    impost_luxe = compra_luxe * 0.21  # 21% d'impost per productes de luxe\n",
    "    \n",
    "    impostos_totals = impost_necessitat + impost_luxe\n",
    "    return impostos_totals\n",
    "\n",
    "# Exemple d'ús:\n",
    "preu_productes_necessitat = 200.0\n",
    "preu_productes_luxe = 150.0\n",
    "\n",
    "impostos = calcula_impostos(preu_productes_necessitat, preu_productes_luxe)\n",
    "\n",
    "print(f\"Import total d'impostos: {impostos} €\")\n"
   ]
  },
  {
   "cell_type": "markdown",
   "metadata": {},
   "source": [
    "## Exercici 14\n",
    "\n",
    "Crea una funció calcula_sou_net a partir d'un salari brut:\n",
    "\n",
    "* **sou_brut**: El sou brut de l'empleat abans de les retencions i impostos.\n",
    "* **retencio_seguretat_social**: La quantitat de retenció de la Seguretat Social en euros que és un 18%\n",
    "* **impostos**: La quantitat d'impostos en euros que són del 10% si es cobre menys de 1500€ i del 15% altrament\n",
    "\n",
    "La funció ha de calcular el sou net de l'empleat després de les retencions i impostos i retornar aquest valor.\n",
    "\n",
    "Fes una crida a la funció per un salari de 1425€ i un salari de 2750€"
   ]
  },
  {
   "cell_type": "code",
   "execution_count": null,
   "metadata": {},
   "outputs": [],
   "source": [
    "def calcula_sou_net(sou_brut, retencio_seguretat_social, impostos):\n",
    "    sou_net = sou_brut - retencio_seguretat_social - impostos\n",
    "    return sou_net\n",
    "\n",
    "def calcula_impostos(sou_brut):\n",
    "    retencio_seguretat_social = sou_brut * 0.18  # 18% de retenció de la Seguretat Social\n",
    "    \n",
    "    if sou_brut < 1500:\n",
    "        impostos = sou_brut * 0.10  # 10% d'impostos si el sou és inferior a 1500€\n",
    "    else:\n",
    "        impostos = sou_brut * 0.15  # 15% d'impostos si el sou és igual o superior a 1500€\n",
    "    \n",
    "    return retencio_seguretat_social, impostos\n",
    "\n",
    "# Crida a la funció amb un sou de 1425€\n",
    "sou_1 = 1425\n",
    "retencio_1, impostos_1 = calcula_impostos(sou_1)\n",
    "sou_net_1 = calcula_sou_net(sou_1, retencio_1, impostos_1)\n",
    "print(f\"Sou brut: {sou_1}€\")\n",
    "print(f\"Retenció de la Seguretat Social: {retencio_1}€\")\n",
    "print(f\"Impostos: {impostos_1}€\")\n",
    "print(f\"Sou net: {sou_net_1}€\")\n",
    "\n",
    "# Crida a la funció amb un sou de 2750€\n",
    "sou_2 = 2750\n",
    "retencio_2, impostos_2 = calcula_impostos(sou_2)\n",
    "sou_net_2 = calcula_sou_net(sou_2, retencio_2, impostos_2)\n",
    "print(f\"Sou brut: {sou_2}€\")\n",
    "print(f\"Retenció de la Seguretat Social: {retencio_2}€\")\n",
    "print(f\"Impostos: {impostos_2}€\")\n",
    "print(f\"Sou net: {sou_net_2}€\")\n"
   ]
  }
 ],
 "metadata": {
  "kernelspec": {
   "display_name": "Python 3",
   "language": "python",
   "name": "python3"
  },
  "language_info": {
   "codemirror_mode": {
    "name": "ipython",
    "version": 3
   },
   "file_extension": ".py",
   "mimetype": "text/x-python",
   "name": "python",
   "nbconvert_exporter": "python",
   "pygments_lexer": "ipython3",
   "version": "3.11.5"
  },
  "orig_nbformat": 4
 },
 "nbformat": 4,
 "nbformat_minor": 2
}
