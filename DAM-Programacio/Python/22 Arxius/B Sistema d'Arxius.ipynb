{
 "cells": [
  {
   "cell_type": "markdown",
   "metadata": {},
   "source": [
    "<div style=\"display: flex; width: 100%;\">\n",
    "    <div style=\"flex: 1; padding: 0px;\">\n",
    "        <p>© Albert Palacios Jiménez, 2023</p>\n",
    "    </div>\n",
    "    <div style=\"flex: 1; padding: 0px; text-align: right;\">\n",
    "        <img src=\"../assets/ieti.png\" height=\"32\" alt=\"Logo de IETI\" style=\"max-height: 32px;\">\n",
    "    </div>\n",
    "</div>\n",
    "<hr/>"
   ]
  },
  {
   "cell_type": "markdown",
   "metadata": {},
   "source": [
    "## Sistema d'arxius\n",
    "\n",
    "Des de Python es poden fer operacions sobre el sistema d'arxius, semblant a com es faría amb la consola de comandes.\n",
    "\n",
    "Cal fer servir dues lliberies:\n",
    "\n",
    "- 'os' funcionalitats senzilles amb el sistema de fitxers\n",
    "- 'shutil' funcionalitats complexes amb el sistema de fitxers "
   ]
  },
  {
   "cell_type": "code",
   "execution_count": 1,
   "metadata": {},
   "outputs": [
    {
     "name": "stdout",
     "output_type": "stream",
     "text": [
      "/Users/albertpalaciosjimenez/Documents/GitHub/DAM-MP03-Programacio/UF123/Teoria\n"
     ]
    }
   ],
   "source": [
    "# Exemple de com obtenir la carpeta (i ruta) on s'executa el programa\n",
    "\n",
    "import os\n",
    "\n",
    "# Carpeta on s'executa el programa\n",
    "carpeta = os.getcwd()\n",
    "print(carpeta)"
   ]
  },
  {
   "cell_type": "code",
   "execution_count": 10,
   "metadata": {},
   "outputs": [
    {
     "name": "stdout",
     "output_type": "stream",
     "text": [
      "Continguts: ['05a Control de fluxe (if else).ipynb', '02a Operacions matemàtiques.ipynb', '12d TestArbres.py', '51a Dibuix ipycanvas.ipynb', '06a Entrenament 0.ipynb', '07b Bucles (for).ipynb', '08a Entrenament 1.ipynb', '08b Autoaprenentatge 1.ipynb', '09c Dades (diccionaris).ipynb', '.DS_Store', '15a Entrenament 3.ipynb', '11i TestEntrenament exàmen.py', '20b Arxius - Salut.txt', '12d Arbres.py', '17a Entrenament examen 3.py', '98a MySQL plot.ipynb', '02c Operacions amb booleans.ipynb', '10b Autoaprenentatge 2.ipynb', '09a Dades (llistes).ipynb', '09e Dades (sorted).ipynb', '12b Recursivitat.py', \"21a Sistema d'Arxius.ipynb\", '50a Dibuix.ipynb', '17b Test entrenament examen 3', '12a Funcions recursives.ipynb', '04a Funcions.ipynb', '16a Entrenament examen 2.py', '__pycache__', '10a Entrenament 2.ipynb', 'imports_extra.py', '13a Imports.ipynb', '11a Jocs, El Rellotge.py', '00a Introduccio.ipynb', '06b Autoaprenentatge 0.ipynb', '11h Jocs, MicroFarm.ipynb', '09b Dades (llistes avançades).ipynb', '12b TestRecursivitat.py', '09d Dades (filter i map).ipynb', '11f Jocs, El Mac i el Bruixot.ipynb', '20a Arxius.ipynb', '03a Random.ipynb', '11g Jocs, LaOca.ipynb', '.vscode', '11c Jocs, Qui és qui.py', '12c Arbres.ipynb', 'assets', '11e Jocs, Daus - versió llistes.py', '01a Variables.ipynb', '07a Bucles (while).ipynb', '02b Operacions de text.ipynb', '11i Entrenament exàmen.py', '99a Tutorial llibreria de dibuix.ipynb', '11d Jocs, Daus - versió text.py', '14a Excepcions.ipynb', '11b Jocs, Tres en ratlla.py']\n",
      "Carpetes: ['17b Test entrenament examen 3', '__pycache__', '.vscode', 'assets']\n"
     ]
    }
   ],
   "source": [
    "# Exemple de llistar el contingut de la carpeta\n",
    "\n",
    "import os\n",
    "\n",
    "# Llista el contingut de la carpeta\n",
    "carpeta = os.getcwd()\n",
    "llista = os.listdir(carpeta)\n",
    "print(f'Continguts: {llista}')\n",
    "\n",
    "# Carpetes del directori \n",
    "llistaCarpetes = list(filter(os.path.isdir, os.listdir(os.getcwd())))\n",
    "print(f'Carpetes: {llistaCarpetes}')"
   ]
  },
  {
   "cell_type": "code",
   "execution_count": 12,
   "metadata": {},
   "outputs": [],
   "source": [
    "# Exemple de crear i renombrar carpetes\n",
    "\n",
    "import os\n",
    "\n",
    "# Crea una carpeta nova\n",
    "os.mkdir('novaCarpeta')\n",
    "\n",
    "# Crea una carpeta dins d'altres carpetes\n",
    "os.makedirs('novaCarpeta/carpeta2/carpeta3')\n",
    "\n",
    "# Canvia el nom d'una carpeta\n",
    "os.rename('novaCarpeta', 'novaCarpeta2')"
   ]
  },
  {
   "cell_type": "code",
   "execution_count": 17,
   "metadata": {},
   "outputs": [
    {
     "name": "stdout",
     "output_type": "stream",
     "text": [
      "Arxius .txt: ['nouArxiu.txt', '20b Arxius - Salut.txt']\n",
      "Arxius .txt: ['20b Arxius - Salut.txt', 'nouArxiu2.txt']\n",
      "Arxius .txt: ['20b Arxius - Salut.txt']\n"
     ]
    }
   ],
   "source": [
    "# Aquest codi té tres exemples:\n",
    "# - Com llistar tots els arxius que tenen una extensió concreta\n",
    "# - Com canviar el nom d'un arxiu\n",
    "# - Com esborrar un arxiu\n",
    "\n",
    "import os\n",
    "\n",
    "def llistaExtensio(carpeta, extensio):\n",
    "    llista = os.listdir(carpeta)\n",
    "    resultat = []\n",
    "    for nom in llista:\n",
    "        if nom.endswith(extensio):\n",
    "            resultat.append(nom)\n",
    "    return resultat\n",
    "\n",
    "# Crea un arxiu nou\n",
    "arxiu = open('nouArxiu.txt', 'w')\n",
    "\n",
    "# Llista tots els arxius .txt (1)\n",
    "llista = llistaExtensio(os.getcwd(), '.txt')\n",
    "print(f'Arxius .txt: {llista}')\n",
    "\n",
    "# Canvia el nom d'un arxiu\n",
    "os.rename('nouArxiu.txt', 'nouArxiu2.txt')\n",
    "\n",
    "# Llista tots els arxius .txt (3)\n",
    "llista = llistaExtensio(os.getcwd(), '.txt')\n",
    "print(f'Arxius .txt: {llista}')\n",
    "\n",
    "# Esborra un arxiu\n",
    "os.remove('nouArxiu2.txt')\n",
    "\n",
    "# Llista tots els arxius .txt (3)\n",
    "llista = llistaExtensio(os.getcwd(), '.txt')\n",
    "print(f'Arxius .txt: {llista}')"
   ]
  },
  {
   "cell_type": "code",
   "execution_count": null,
   "metadata": {},
   "outputs": [],
   "source": [
    "# Exemple de com copiar un arxiu\n",
    "\n",
    "import shutil\n",
    "\n",
    "# Crea un arxiu nou\n",
    "arxiu = open('arxiu0.txt', 'w')\n",
    "\n",
    "# Copia l'arxiu\n",
    "shutil.copy('arxiu0.txt', 'arxiu1.txt')\n",
    "\n",
    "# Esborra l'arxiu original\n",
    "os.remove('arxiu0.txt')"
   ]
  },
  {
   "cell_type": "code",
   "execution_count": 18,
   "metadata": {},
   "outputs": [
    {
     "name": "stdout",
     "output_type": "stream",
     "text": [
      "Continguts de carpeta1: ['arxiu0.txt']\n"
     ]
    }
   ],
   "source": [
    "# Exemple de com copiar una carpeta i tots els seus continguts\n",
    "\n",
    "import shutil\n",
    "\n",
    "# Crea una carpeta nova\n",
    "os.mkdir('carpeta0')\n",
    "\n",
    "# Crea un arxiu dins la carpeta\n",
    "arxiu = open('carpeta0/arxiu0.txt', 'w')\n",
    "\n",
    "# Copia la carpeta\n",
    "shutil.copytree('carpeta0', 'carpeta1')\n",
    "\n",
    "# Esborra la carpeta original\n",
    "shutil.rmtree('carpeta0')\n",
    "\n",
    "# Llista els cotinguts de 'carpeta1'\n",
    "llista = os.listdir('carpeta1')\n",
    "print(f'Continguts de carpeta1: {llista}')\n",
    "\n",
    "# Esborra 'carpeta1'\n",
    "shutil.rmtree('carpeta1')"
   ]
  },
  {
   "cell_type": "code",
   "execution_count": 19,
   "metadata": {},
   "outputs": [
    {
     "name": "stdout",
     "output_type": "stream",
     "text": [
      "Continguts de carpeta1: ['arxiu0.txt']\n"
     ]
    }
   ],
   "source": [
    "# Exemple de fer un 'mv' per moure arxius i carpetes\n",
    "\n",
    "import shutil\n",
    "\n",
    "# Crea una carpeta nova\n",
    "os.mkdir('carpeta0')\n",
    "\n",
    "# Crea un arxiu dins la carpeta\n",
    "arxiu = open('carpeta0/arxiu0.txt', 'w')\n",
    "\n",
    "# Mou la carpeta\n",
    "shutil.move('carpeta0', 'carpeta1')\n",
    "\n",
    "# Llista els cotinguts de 'carpeta1'\n",
    "llista = os.listdir('carpeta1')\n",
    "print(f'Continguts de carpeta1: {llista}')\n",
    "\n",
    "# Esborra 'carpeta1'\n",
    "shutil.rmtree('carpeta1')"
   ]
  },
  {
   "cell_type": "code",
   "execution_count": 20,
   "metadata": {},
   "outputs": [],
   "source": [
    "# Exemple de com eliminar una carpeta i tots els seus continguts\n",
    "\n",
    "import shutil\n",
    "\n",
    "# Crea una carpeta nova\n",
    "os.mkdir('carpeta0')\n",
    "\n",
    "# Crea un arxiu dins la carpeta\n",
    "arxiu = open('carpeta0/arxiu0.txt', 'w')\n",
    "\n",
    "# Esborra la carpeta\n",
    "shutil.rmtree('carpeta0')"
   ]
  },
  {
   "cell_type": "markdown",
   "metadata": {},
   "source": [
    "## Exercici 0\n",
    "\n",
    "Fes un programa que actuï de manera diferent segons si existeix o no una carpeta\n",
    "anomenada \"Tmp\" a carpeta de treball. \n",
    "\n",
    "- Si no existeix, l’ha d’intentar crear. \n",
    "- Si existeix, l’ha d’esborrar. \n",
    "\n",
    "Cada cop que es realitza una acció, cal dir si s’ha pogut dur a terme i la ruta absoluta de la carpeta processada."
   ]
  },
  {
   "cell_type": "code",
   "execution_count": null,
   "metadata": {},
   "outputs": [],
   "source": [
    "# Resol aquí l'exercici 0"
   ]
  },
  {
   "cell_type": "markdown",
   "metadata": {},
   "source": [
    "## Exercici 1\n",
    "\n",
    "Fes un programa que pregunti a l’usuari dues cadenes de text, de\n",
    "manera que les pugui escriure pel teclat en una mateixa línia. \n",
    "\n",
    "El programa ha de cercar tots els fitxers en el seu directori de treball que tinguin com extensió la primera cadena\n",
    "de text i canviar-la a la segona. \n",
    "\n",
    "Per exemple, si l’usuari escriu “txt jpg”, tots els fitxers amb extensió ”.txt” han de passar a tenir l’extensió ”.jpg”. "
   ]
  },
  {
   "cell_type": "code",
   "execution_count": null,
   "metadata": {},
   "outputs": [],
   "source": [
    "# Resol aquí l'exercici 1"
   ]
  },
  {
   "cell_type": "markdown",
   "metadata": {},
   "source": [
    "## Exercici 2\n",
    "\n",
    "Fes un programa que pregunti per pantalla el nom d’un fitxer i el text de la ruta a una carpeta. Aquestes dades les introduirà l’usuari pel teclat.\n",
    "\n",
    "Llavors el programa ha de cercar i mostrar per pantalla la ruta absoluta de tots els fitxers que continguin aquest nom (text) a partir de la carpeta assenyalada (tant directament dintre seu com dins d’altres carpetes successives).\n",
    "\n",
    "És a dir, si s'introdueix 'py' ha de mostrar tots els arxius que tenen les lletres 'py' al nom o a l'extensió."
   ]
  },
  {
   "cell_type": "code",
   "execution_count": null,
   "metadata": {},
   "outputs": [],
   "source": [
    "# Resol aquí l'exercici 2"
   ]
  },
  {
   "cell_type": "markdown",
   "metadata": {},
   "source": [
    "## Exercici 3\n",
    "\n",
    "Fes un programa que respòn a les següents accions per gestionar arxius:\n",
    "\n",
    "- llistar, mostra els arxius i carpetes de la direcció on està el programa\n",
    "- llistar arxius, mostra els arxius de la direcció on està el programa\n",
    "- llistar carpetes, mostra les carpetes de la direcció on està el programa\n",
    "- copiar arxiu1.txt arxiu2.txt, copia el primer arxiu cap a un nou arxiu\n",
    "- moure arxiu1.txt arxiu2.txt, canvia el nom d'un arxiu o carpeta\n",
    "- esborrar arxiu1.txt, esborra un arxiu o carpeta segon el nom indicat"
   ]
  },
  {
   "cell_type": "code",
   "execution_count": null,
   "metadata": {},
   "outputs": [],
   "source": [
    "# Resol aquí l'exercici 3"
   ]
  },
  {
   "cell_type": "markdown",
   "metadata": {},
   "source": [
    "## Exercici 4\n",
    "\n",
    "Fes un programa, que a partir de la carpeta actual, mostri l'estructura de carpetes tipus la comanda 'tree'.\n",
    "\n",
    "Per exemple:\n",
    "```text\n",
    "./\n",
    "├── a-first.html\n",
    "├── b-second.html\n",
    "├── subfolder\n",
    "│   ├── readme.html\n",
    "│   ├── code.cpp\n",
    "│   └── code.h\n",
    "└── z-last-file.html\n",
    "\n",
    "1 directories, 6 files\n",
    "```"
   ]
  },
  {
   "cell_type": "code",
   "execution_count": null,
   "metadata": {},
   "outputs": [],
   "source": [
    "# Resol aquí l'exercici 4"
   ]
  }
 ],
 "metadata": {
  "kernelspec": {
   "display_name": "Python 3",
   "language": "python",
   "name": "python3"
  },
  "language_info": {
   "codemirror_mode": {
    "name": "ipython",
    "version": 3
   },
   "file_extension": ".py",
   "mimetype": "text/x-python",
   "name": "python",
   "nbconvert_exporter": "python",
   "pygments_lexer": "ipython3",
   "version": "3.11.6"
  }
 },
 "nbformat": 4,
 "nbformat_minor": 2
}
