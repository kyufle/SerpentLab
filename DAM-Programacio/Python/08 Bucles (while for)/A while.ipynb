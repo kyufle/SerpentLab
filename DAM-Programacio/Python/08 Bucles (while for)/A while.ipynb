{
 "cells": [
  {
   "cell_type": "markdown",
   "metadata": {},
   "source": [
    "<div style=\"display: flex; width: 100%;\">\n",
    "    <div style=\"flex: 1; padding: 0px;\">\n",
    "        <p>© Albert Palacios Jiménez, 2023</p>\n",
    "    </div>\n",
    "    <div style=\"flex: 1; padding: 0px; text-align: right;\">\n",
    "        <img src=\"../assets/ieti.png\" height=\"32\" alt=\"Logo de IETI\" style=\"max-height: 32px;\">\n",
    "    </div>\n",
    "</div>\n",
    "<hr/>"
   ]
  },
  {
   "cell_type": "markdown",
   "metadata": {},
   "source": [
    "# Bucles 'while'\n",
    "\n",
    "<center><img src=\"../assets/07a_00.png\" height=\"200\" style=\"max-height: 200px;\" /></center>\n",
    "\n",
    "Un bucle 'while' és una estructura que permet repetir un bloc de codi mentre una condició sigui certa.\n",
    "\n",
    "Sintaxi:\n",
    "\n",
    "```python\n",
    "    while condició:\n",
    "        # Bloc de codi que es repetirà mentre la condició sigui certa\n",
    "```"
   ]
  },
  {
   "cell_type": "code",
   "execution_count": null,
   "metadata": {},
   "outputs": [],
   "source": [
    "# Exemple de bucle while\n",
    "contador = 2\n",
    "while (contador <= 5):\n",
    "    print(contador)\n",
    "    contador = contador + 1"
   ]
  },
  {
   "cell_type": "code",
   "execution_count": null,
   "metadata": {},
   "outputs": [],
   "source": [
    "# Exemple, escriure números parells amb while\n",
    "numero = 2\n",
    "while (numero <= 10):\n",
    "    print(numero)\n",
    "    numero = numero + 2"
   ]
  },
  {
   "cell_type": "code",
   "execution_count": null,
   "metadata": {},
   "outputs": [],
   "source": [
    "# Exemple, demanar contrasenya fins que l'usuari escrigui el text 'secreta'\n",
    "\n",
    "contrasenya_correcta = \"secreta\"\n",
    "contrasenya = input(\"Escriu la contrasenya: \")\n",
    "\n",
    "demanar_contrasenya = True\n",
    "while demanar_contrasenya:\n",
    "    if contrasenya == contrasenya_correcta:\n",
    "        demanar_contrasenya = False\n",
    "    else:\n",
    "        contrasenya = input(\"Contrasenya incorrecta. Torna-ho a provar.\")\n",
    "        contrasenya = input(\"Escriu la contrasenya: \")    \n",
    "\n",
    "print(\"Contrasenya correcta. Accés concedit.\")"
   ]
  },
  {
   "cell_type": "markdown",
   "metadata": {},
   "source": [
    "## Exercici 0\n",
    "\n",
    "Fes un programa que generi un número aleatori entre 0 i 9 (inclòssos)\n",
    "\n",
    "Després demana a l'usuari que escrigui un número i comprova:\n",
    "\n",
    "- Si l'ha encertat escriu: \"Felicitats, has encertat amb X **intents**\"\n",
    "\n",
    "- Si no l'ha encertat i el número de l'usuari és més gran que el número secret escriu: \"Has escrit X, el número secret és més petit\"\n",
    "\n",
    "- Si no l'ha encertat i el número de l'usuari és més petit que el número secret escriu: \"Has escrit X, el número secret és més gran\"\n",
    "\n",
    "Aquest procés es repeteix fins que l'usuari encerta el número."
   ]
  },
  {
   "cell_type": "code",
   "execution_count": null,
   "metadata": {},
   "outputs": [],
   "source": [
    "# Fes aquí el codi de l'exercici 0\n",
    "import random\n",
    "\n",
    "n = random.randint(0,9)\n",
    "nIntentat = None\n",
    "intents = 0\n",
    "\n",
    "while n != nIntentat:\n",
    "    nIntentat = int(input(\"Escriu un número\"))\n",
    "    if n < nIntentat: print(f\"Has escrit {nIntentat}, el número secret és més petit\")\n",
    "    elif n > nIntentat: print(f\"Has escrit {nIntentat}, el número secret és més gran\")\n",
    "    intents += 1\n",
    "\n",
    "\n",
    "print(f\"Felicitats, has encertat amb {intents} intents\")"
   ]
  },
  {
   "cell_type": "markdown",
   "metadata": {},
   "source": [
    "## Exercici 1\n",
    "\n",
    "Fes un programa que demani un número entre 0 i 10 a l'usuari.\n",
    "\n",
    "El programa comprova si el número està entre 0 i 10.\n",
    "\n",
    "Gràcies a un bucle 'while' podràs fer que aquesta pregunta es repeteixi, mentre l'usuari no entri un número vàlid\n",
    "\n",
    "Exemple d'execució:\n",
    "```text\n",
    "Escriu un número entre 0 i 10: 11\n",
    "El número 11 és incorrecte. Torna-ho a provar.\n",
    "Escriu un número entre 0 i 10: 15\n",
    "El número 15 és incorrecte. Torna-ho a provar.\n",
    "Escriu un número entre 0 i 10: 5\n",
    "El número 5 és correcte. Gràcies.\n",
    "```"
   ]
  },
  {
   "cell_type": "code",
   "execution_count": null,
   "metadata": {},
   "outputs": [],
   "source": [
    "# Fes aquí el codi de l'exercici 1\n",
    "valild_number = False\n",
    "user_num = None\n",
    "\n",
    "while not valild_number:\n",
    "    user_num = int(input(\"Introdueix un número entre o i 10: \"))\n",
    "\n",
    "    if user_num <= 0 or user_num >= 10:\n",
    "        print(f\"El número {user_num} és incorrecte. Torna-ho a provar.\")\n",
    "    else:\n",
    "        valild_number = True\n",
    "\n",
    "print(f\"El número {user_num} és correcte. Gràcies.\")"
   ]
  },
  {
   "cell_type": "markdown",
   "metadata": {},
   "source": [
    "## La instrucció 'break'\n",
    "\n",
    "En un bucle 'while' (igual que en un 'for') la instrucció 'break' permet sortir del bucle abans d'hora.\n",
    "\n",
    "En el moment que s'executa 'break' el bucle s'atura i el programa continua amb la instrucció següent."
   ]
  },
  {
   "cell_type": "code",
   "execution_count": null,
   "metadata": {},
   "outputs": [],
   "source": [
    "x = 1\n",
    "\n",
    "while (x <= 10):\n",
    "    if x == 5:\n",
    "        print(\"Hem arribat al 5, aturant el bucle.\")\n",
    "        break\n",
    "    print(\"Comptador:\", x)\n",
    "    x = x + 1\n",
    "print(\"Final del bucle while.\")\n"
   ]
  },
  {
   "cell_type": "markdown",
   "metadata": {},
   "source": [
    "## Exercici 2\n",
    "\n",
    "Fes un programa que fent ús d'un bucle 'while' mostri el següent menú:\n",
    "```text\n",
    "Menú:\n",
    "1. Saluda\n",
    "2. Parla\n",
    "3. Sortir\n",
    "```\n",
    "Aleshores:\n",
    "\n",
    "- Quan s'escull la opció 1 es mostra \"Hola!\"\n",
    "- Quan s'escull la opció 2 es mostra una de les següents frases a l'atzar:\n",
    "\n",
    "    * Tinc un gos que es diu Pelut\n",
    "    * M'agrada menjar xocolata\n",
    "    * Vull vitajar al Japó\n",
    "\n",
    "- Quan s'escull la opcio 3 el programa acaba"
   ]
  },
  {
   "cell_type": "code",
   "execution_count": null,
   "metadata": {},
   "outputs": [],
   "source": [
    "# Fes aquí el codi de l'exercici 2 (no cal break!)\n",
    "def mostrar_menu():\n",
    "    print(\"\\nMenú:\")\n",
    "    print(\"1. Saluda\")\n",
    "    print(\"2. Parla\")\n",
    "    print(\"3. Sortir\")\n",
    "    while True:\n",
    "\n",
    "        opcio = input(\"Selecciona una opció (1, 2 o 3): \")\n",
    "\n",
    "        if opcio == '1':\n",
    "            print(\"Hola! Com estàs?\")\n",
    "        elif opcio == '2':\n",
    "            x = [\"Tinc un gos que es diu Pelut\",\"M'agrada menjar xocolata\",\"Vull vitajar al Japó\"]\n",
    "            y = random.choice(x)\n",
    "            print(f\"{y}\")\n",
    "        elif opcio == '3':\n",
    "            print(\"Sortint del programa. Adéu!\")\n",
    "            break\n",
    "        else:\n",
    "            print(\"Opció no vàlida. Si us plau, selecciona 1, 2 o 3.\")\n",
    "\n",
    "mostrar_menu()"
   ]
  },
  {
   "cell_type": "markdown",
   "metadata": {},
   "source": [
    "## Exercici 3\n",
    "\n",
    "Fes un programa per jugar a \"Roca, Paper, Tisores\"\n",
    "\n",
    "El programa demanarà a cada iteració quina és la opció de l'usuari i generarà una opció automàtica per part de l'ordinador.\n",
    "\n",
    "Es sortirà del bucle 'while' quan un dels dos participants hagi guanyat tres cops o bé quan l'usuari escrigui \"sortir\".\n",
    "\n",
    "Si l'usuari escriu sortir, s'escriu \"L'usuari ha sortit\"\n",
    "\n",
    "Exemple d'execució:\n",
    "```text\n",
    "Escriu la teva opció [Roca, Paper, Tisores, Sortir]: Roca\n",
    " - Jugador Roca vs. Ordinador Paper - Puntuació: Jugador 0 - Ordinador 1\n",
    "Escriu la teva opció [Roca, Paper, Tisores, Sortir]: Paper\n",
    " - Jugador Tisora vs. Ordinador Roca - Puntuació: Jugador 0 - Ordinador 2\n",
    "Escriu la teva opció [Roca, Paper, Tisores, Sortir]: Tisores\n",
    " - Jugador Tisora vs. Ordinador Tisora - Puntuació: Jugador 0 - Ordinador 2\n",
    "Escriu la teva opció [Roca, Paper, Tisores, Sortir]: Roca\n",
    " - Jugador Paper vs. Ordinador Roca - Puntuació: Jugador 1 - Ordinador 2\n",
    "Escriu la teva opció [Roca, Paper, Tisores, Sortir]: Paper\n",
    " - Jugador Paper vs. Ordinador Tisora - Puntuació: Jugador 1 - Ordinador 3\n",
    "Ha guanyat l'ordinador.\n",
    "```"
   ]
  },
  {
   "cell_type": "code",
   "execution_count": null,
   "metadata": {},
   "outputs": [],
   "source": [
    "# Fes aquí el codi de l'exercici 3"
   ]
  },
  {
   "cell_type": "markdown",
   "metadata": {},
   "source": [
    "***\n",
    "# Programació 'while' avançada\n",
    "\n",
    "Alguns llenguatges de programació, a part de l'estructura 'while' tenen l'estructura 'do while'.\n",
    "***"
   ]
  },
  {
   "cell_type": "markdown",
   "metadata": {},
   "source": [
    "# Simular 'do while' en Python\n",
    "\n",
    "'do while' és una estructura que permet repetir un bloc de codi mentre una condició sigui certa, executant el bloc de codi almenys una vegada.\n",
    "\n",
    "Això fa que el bucle s'executi almenys una vegada.\n",
    "\n",
    "<center><img src=\"./assets/07a_01.png\" style=\"width: 400px;\" /></center>\n",
    "\n",
    "Es pot simular l'estructura 'do while' fent ús de 'break'."
   ]
  },
  {
   "cell_type": "code",
   "execution_count": null,
   "metadata": {},
   "outputs": [],
   "source": [
    "# Simular 'do while' amb 'break'\n",
    "\n",
    "secret_word = \"python\"\n",
    "counter = 0\n",
    "\n",
    "while True:\n",
    "    word = input(\"Enter the secret word: \").lower()\n",
    "    counter = counter + 1\n",
    "    if word == secret_word:\n",
    "        break\n",
    "    if word != secret_word and counter > 3: \n",
    "        break"
   ]
  }
 ],
 "metadata": {
  "kernelspec": {
   "display_name": "Python 3",
   "language": "python",
   "name": "python3"
  },
  "language_info": {
   "codemirror_mode": {
    "name": "ipython",
    "version": 3
   },
   "file_extension": ".py",
   "mimetype": "text/x-python",
   "name": "python",
   "nbconvert_exporter": "python",
   "pygments_lexer": "ipython3",
   "version": "3.9.6"
  },
  "orig_nbformat": 4
 },
 "nbformat": 4,
 "nbformat_minor": 2
}
