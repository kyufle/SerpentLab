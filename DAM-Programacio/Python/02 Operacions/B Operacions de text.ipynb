{
 "cells": [
  {
   "cell_type": "markdown",
   "metadata": {},
   "source": [
    "<div style=\"display: flex; width: 100%;\">\n",
    "    <div style=\"flex: 1; padding: 0px;\">\n",
    "        <p>© Albert Palacios Jiménez, 2023</p>\n",
    "    </div>\n",
    "    <div style=\"flex: 1; padding: 0px; text-align: right;\">\n",
    "        <img src=\"./assets/ieti.png\" height=\"32\" alt=\"Logo de IETI\" style=\"max-height: 32px;\">\n",
    "    </div>\n",
    "</div>\n",
    "<hr/>"
   ]
  },
  {
   "cell_type": "markdown",
   "metadata": {},
   "source": [
    "# Operacions amb text\n",
    "\n",
    "<center><img src=\"./assets/02b_00.png\" height=\"200\" style=\"max-height: 200px;\" /></center>\n",
    "\n",
    "Els programes, sovint han de modificar cadenes de text per mostrar o organitzar informació.\n",
    "\n",
    "Hi ha una sèrie d'operacions que ens permeten modificar cadenes de text."
   ]
  },
  {
   "cell_type": "code",
   "execution_count": 27,
   "metadata": {},
   "outputs": [
    {
     "name": "stdout",
     "output_type": "stream",
     "text": [
      "El valor de '2' + '2' és 22\n",
      "El tipus de la variable 'a' és: str\n",
      "El valor de 2 + 2 és 4\n",
      "El tipus de la variable 'b' és: int\n"
     ]
    }
   ],
   "source": [
    "# Exemple introductori de les operacions amb text\n",
    "a = '2' + '2'\n",
    "print(f\"El valor de '2' + '2' és {a}\")\n",
    "print(f\"El tipus de la variable 'a' és: {type(a).__name__}\")\n",
    "\n",
    "b = 2 + 2\n",
    "print(f\"El valor de 2 + 2 és {b}\")\n",
    "print(f\"El tipus de la variable 'b' és: {type(b).__name__}\")"
   ]
  },
  {
   "cell_type": "markdown",
   "metadata": {},
   "source": [
    "# Operacions bàsiques amb cadenes de text\n",
    "\n",
    "Aquestes són les operacions que es fan habitualment per manipular cadenes de text:\n",
    "\n",
    "* **Longitud**: Obtenir la longitud d'una cadena de text\n",
    "\n",
    "* **Concatenació**: Ajuntar dues o més cadenes de text en una sola\n",
    "\n",
    "* **Idexació**: Accedir a caràcters individuals d'una cadena de text\n",
    "\n",
    "* **Subcadena**: Accedir a una part de text d'una cadena més llarga\n",
    "\n",
    "* **Repetició**: Repetir una cadena de text diverses vegades\n",
    "\n",
    "* **Conversió**: Convertir una cadena de text a majúscules (o minúscules)\n",
    "\n",
    "* **Ordenar**: Ordenar les lletres en una cadena de text\n",
    "\n",
    "* **Substitució**: Substituir una part d'una cadena per una altre\n",
    "\n",
    "* **Cerca**: Buscar sub-cadenes de text en un text (retorna -1 si no troba el sub-text)"
   ]
  },
  {
   "cell_type": "markdown",
   "metadata": {},
   "source": [
    "### Important!\n",
    "\n",
    "Quan es compten les posicions d'una cadena de text, es compten a partir de 0. \n",
    "\n",
    "És a dir, mira el següent text quina posició correspon a cada caràcter:\n",
    "```text\n",
    "    Hola, món!\n",
    "    0123456789\n",
    "```"
   ]
  },
  {
   "cell_type": "code",
   "execution_count": 1,
   "metadata": {},
   "outputs": [
    {
     "name": "stdout",
     "output_type": "stream",
     "text": [
      "La longitud de la cadena és: 10\n"
     ]
    }
   ],
   "source": [
    "# Exemple de longitud:\n",
    "cadena = \"Hola, món!\"\n",
    "longitud = len(cadena)\n",
    "print(f\"La longitud de la cadena és: {longitud}\")\n",
    "\n"
   ]
  },
  {
   "cell_type": "code",
   "execution_count": 2,
   "metadata": {},
   "outputs": [
    {
     "name": "stdout",
     "output_type": "stream",
     "text": [
      "Frase concatenada: Hola, Maria!\n",
      "Suma dels textos '2' + '3': '23'\n"
     ]
    }
   ],
   "source": [
    "# Exemple de concatenació (amb +)\n",
    "salutacio = \"Hola\"\n",
    "nom = \"Maria\"\n",
    "frase = salutacio + \", \" + nom + \"!\"\n",
    "print(f\"Frase concatenada: {frase}\")\n",
    "\n",
    "text_2 = \"2\"\n",
    "text_3 = \"3\"\n",
    "suma_text = text_2 + text_3\n",
    "print(f\"Suma dels textos '{text_2}' + '{text_3}': '{suma_text}'\")"
   ]
  },
  {
   "cell_type": "code",
   "execution_count": 3,
   "metadata": {},
   "outputs": [
    {
     "name": "stdout",
     "output_type": "stream",
     "text": [
      "El primer caràcter és: P\n",
      "El tercer caràcter és: t\n",
      "El cinquè caràcter és: o\n"
     ]
    }
   ],
   "source": [
    "# Exemple d'indexació (conta a partir de 0!)\n",
    "cadena = \"Python\"\n",
    "primer_caracter = cadena[0]\n",
    "tercer_caracter = cadena[2]\n",
    "cinque_caracter = cadena[4]\n",
    "print(f\"El primer caràcter és: {primer_caracter}\")\n",
    "print(f\"El tercer caràcter és: {tercer_caracter}\")\n",
    "print(f\"El cinquè caràcter és: {cinque_caracter}\")"
   ]
  },
  {
   "cell_type": "code",
   "execution_count": 4,
   "metadata": {},
   "outputs": [
    {
     "name": "stdout",
     "output_type": "stream",
     "text": [
      "Subcadena: 'thon és'\n"
     ]
    }
   ],
   "source": [
    "#Exemple de subcadena\n",
    "cadena = \"Python és divertit\"\n",
    "subcadena = cadena[2:9]  # Troç de cadena entre \"t\" i \"é\"\n",
    "print(f\"Subcadena: '{subcadena}'\")"
   ]
  },
  {
   "cell_type": "code",
   "execution_count": 5,
   "metadata": {},
   "outputs": [
    {
     "name": "stdout",
     "output_type": "stream",
     "text": [
      "A\n",
      "b\n",
      "r\n"
     ]
    }
   ],
   "source": [
    "# Exemple d'obtenir un caràcter d'una cadena de text\n",
    "nom=\"Albert\"\n",
    "print(nom[0]) # Escriu A\n",
    "print(nom[2]) # Escriu b\n",
    "print(nom[4]) # Escriu r"
   ]
  },
  {
   "cell_type": "code",
   "execution_count": 6,
   "metadata": {},
   "outputs": [
    {
     "name": "stdout",
     "output_type": "stream",
     "text": [
      "Repetició: 'Hola Hola Hola '\n"
     ]
    }
   ],
   "source": [
    "# Exemple de repetició\n",
    "cadena = \"Hola \"\n",
    "repetida = cadena * 3  # Repetim la cadena 3 vegades\n",
    "print(f\"Repetició: '{repetida}'\")"
   ]
  },
  {
   "cell_type": "code",
   "execution_count": 7,
   "metadata": {},
   "outputs": [
    {
     "name": "stdout",
     "output_type": "stream",
     "text": [
      "Majúscules: EXEMPLE\n",
      "Minúscules: exemple\n",
      "Text amb la primera lletra en majúscula: Python\n"
     ]
    }
   ],
   "source": [
    "# Exemple de conversió\n",
    "text = \"Exemple\"\n",
    "majuscules = text.upper()\n",
    "minuscules = text.lower()\n",
    "print(f\"Majúscules: {majuscules}\")\n",
    "print(f\"Minúscules: {minuscules}\")\n",
    "\n",
    "# Exemple de convertir la primera lletra en majúscula\n",
    "text = \"python\"\n",
    "text = text.capitalize()\n",
    "print(f\"Text amb la primera lletra en majúscula: {text}\")"
   ]
  },
  {
   "cell_type": "code",
   "execution_count": 8,
   "metadata": {},
   "outputs": [
    {
     "name": "stdout",
     "output_type": "stream",
     "text": [
      "Ordena els caràcters de 'Hola, adeu': [' ', ',', 'H', 'a', 'a', 'd', 'e', 'l', 'o', 'u']\n",
      "Ordena els caràcters de 'hola, HOLA': [' ', ',', 'A', 'H', 'L', 'O', 'a', 'h', 'l', 'o']\n",
      "Ordena els caràcters de 'hola, hola': [' ', ',', 'a', 'a', 'h', 'h', 'l', 'l', 'o', 'o']\n"
     ]
    }
   ],
   "source": [
    "# Exemple d'ordenació\n",
    "text = \"Hola, adeu\"\n",
    "ordenat = sorted(text)\n",
    "print(f\"Ordena els caràcters de '{text}': {ordenat}\")\n",
    "\n",
    "text = \"hola, HOLA\"\n",
    "ordenat = sorted(text)\n",
    "print(f\"Ordena els caràcters de '{text}': {ordenat}\")\n",
    "\n",
    "text = \"hola, HOLA\".lower()\n",
    "ordenat = sorted(text)\n",
    "print(f\"Ordena els caràcters de '{text}': {ordenat}\")"
   ]
  },
  {
   "cell_type": "code",
   "execution_count": 9,
   "metadata": {},
   "outputs": [
    {
     "name": "stdout",
     "output_type": "stream",
     "text": [
      "Substitució a la frase 'Hola, món!': Hola, Maria!\n",
      "Substitució a la frase 'En Bob s'ha llevat amb bon peu': EnBobshallevatambbonpeu\n"
     ]
    }
   ],
   "source": [
    "# Exemple de substitució\n",
    "text = \"Hola, món!\"\n",
    "nou_text = text.replace(\"món\", \"Maria\")\n",
    "print(f\"Substitució a la frase '{text}': {nou_text}\")\n",
    "\n",
    "text = \"En Bob s'ha llevat amb bon peu\"\n",
    "nou_text = text.replace(\" \", \"\").replace(\"'\", \"\")\n",
    "print(f\"Substitució a la frase '{text}': {nou_text}\")"
   ]
  },
  {
   "cell_type": "code",
   "execution_count": 10,
   "metadata": {},
   "outputs": [
    {
     "name": "stdout",
     "output_type": "stream",
     "text": [
      "Posició de 'món' a la frase 'Hola, món!': 6\n",
      "Posició de 'Maria' a la frase 'Hola, món!': -1\n",
      "La primera posició de 'pantalons' a la frase 'En Bob s'ha posat pantalons nets': 18\n",
      "La segona  posició de 'pantalons' a la frase 'En Bob s'ha posat pantalons nets i ha rentat els pantalons d'ahir.': 49\n",
      "La última  posició de 'pantalons' a la frase 'En Bob s'ha posat pantalons nets i ha rentat els pantalons d'ahir, ha guardat els pantalons nets': 82\n"
     ]
    }
   ],
   "source": [
    "# Exemple de cerca\n",
    "text = \"Hola, món!\"\n",
    "posicio = text.find(\"món\")\n",
    "print(f\"Posició de 'món' a la frase '{text}': {posicio}\")\n",
    "\n",
    "text = \"Hola, món!\"\n",
    "posicio = text.find(\"Maria\")\n",
    "print(f\"Posició de 'Maria' a la frase '{text}': {posicio}\")\n",
    "\n",
    "text = \"En Bob s'ha posat pantalons nets\"\n",
    "posicio = text.find(\"pantalons\")\n",
    "print(f\"La primera posició de 'pantalons' a la frase '{text}': {posicio}\")\n",
    "\n",
    "text = \"En Bob s'ha posat pantalons nets i ha rentat els pantalons d'ahir.\"\n",
    "posicio_primera = text.find(\"pantalons\")\n",
    "posicio_segona = text.find(\"pantalons\", posicio_primera + 1)\n",
    "print(f\"La segona  posició de 'pantalons' a la frase '{text}': {posicio_segona}\")\n",
    "\n",
    "text = \"En Bob s'ha posat pantalons nets i ha rentat els pantalons d'ahir, ha guardat els pantalons nets\"\n",
    "posicio_ultima = text.rfind(\"pantalons\")\n",
    "print(f\"La última  posició de 'pantalons' a la frase '{text}': {posicio_ultima}\")"
   ]
  },
  {
   "cell_type": "markdown",
   "metadata": {},
   "source": [
    "## Exercici 0\n",
    "\n",
    "Fes un programa amb una variable que tingui el següent text: \"Monsters Are Victims Too\"\n",
    "\n",
    "Després manipula aquest text per aconseguir mostrar:\n",
    "* La llargada de la frase\n",
    "* La subcadena 'Are' fent servir [:]\n",
    "* Repeteix la subcadena anterior 5 vegades\n",
    "* La frase amb només la primera M majúscula"
   ]
  },
  {
   "cell_type": "code",
   "execution_count": 18,
   "metadata": {},
   "outputs": [
    {
     "name": "stdout",
     "output_type": "stream",
     "text": [
      "La longitut de la frase és: 24\n",
      "Are\n",
      "Monsters Are Victims TooMonsters Are Victims TooMonsters Are Victims TooMonsters Are Victims TooMonsters Are Victims Too\n",
      "Monsters are victims too\n"
     ]
    }
   ],
   "source": [
    "# Fes aquí el codi de l'exercici 0\n",
    "frase = \"Monsters Are Victims Too\"\n",
    "longitud = len(frase)\n",
    "print(f\"La longitut de la frase és: {longitud}\")\n",
    "subcadena = frase[9:12]\n",
    "print(subcadena)\n",
    "cadena_repetida = frase * 5\n",
    "print(cadena_repetida)\n",
    "print(frase.capitalize())"
   ]
  },
  {
   "cell_type": "markdown",
   "metadata": {},
   "source": [
    "## Invertir cadenes de text\n",
    "\n",
    "L'operador 'retallar' [:] que hem fet servir per obtenir subcadenes, té altres usos.\n",
    "\n",
    "Un de molt interessant és la capacitat d'invertir cadenes de text amb la notació [::-1]"
   ]
  },
  {
   "cell_type": "code",
   "execution_count": 19,
   "metadata": {},
   "outputs": [
    {
     "name": "stdout",
     "output_type": "stream",
     "text": [
      "titrevid sé nohtyP\n"
     ]
    }
   ],
   "source": [
    "# Exemple de com invertir una cadena de text\n",
    "frase = \"Python és divertit\"\n",
    "print(frase[::-1])"
   ]
  },
  {
   "cell_type": "markdown",
   "metadata": {},
   "source": [
    "## Exercici 1\n",
    "\n",
    "Fes un programa amb una variable que tingui el següent text: \"Gotta Lose Something To Get Something\"\n",
    "\n",
    "Després manipula aquest text per aconseguir mostrar:\n",
    "* La llargada de la frase\n",
    "* La subcadena 'Something' en majúscules\n",
    "* Les subcadenes \"Lose\" i \"Get\" repetides dos cops cada una \"LoseLoseGetGet\"\n",
    "* La cadena intercanviant paraules en majúscules i minúscules: \"GOTTA lose SOMETHING to GET something\"\n",
    "* La subcadena invertida, sense espais, de la part: \"Lose Something To\""
   ]
  },
  {
   "cell_type": "code",
   "execution_count": 43,
   "metadata": {},
   "outputs": [
    {
     "name": "stdout",
     "output_type": "stream",
     "text": [
      "37\n",
      "SOMETHING\n",
      "LoseLoseGetGet\n",
      "GOTTA lose SOMETHING to GET something\n",
      "oTgnihtemoSesoL\n"
     ]
    }
   ],
   "source": [
    "# Fes aquí el codi de l'exercici 1\n",
    "frase = \"Gotta Lose Something To Get Something\"\n",
    "print(len(frase))\n",
    "print(frase[11:20].upper())\n",
    "print(frase[6:10]*2 + frase[24:27]*2)\n",
    "print(frase[:6].upper()+frase[6:10].lower()+frase[10:20].upper()+frase[20:23].lower()+frase[23:27].upper()+frase[27:].lower())\n",
    "print(frase[6:24][::-1].replace(\" \",\"\"))\n"
   ]
  },
  {
   "cell_type": "markdown",
   "metadata": {},
   "source": [
    "## Exercici 2\n",
    "\n",
    "Fes un programa amb una variable que tingui el següent text: \"The pain you feel today will be the strength you'll have tomorrow.\"\n",
    "\n",
    "Després manipula aquest text per aconseguir mostrar:\n",
    "* La llargada de la frase\n",
    "* La subcadena \"The strength you'll have tomorrow\"\n",
    "* Subcadenes concatenades per fer una nova frase: \"Today you'll have the strength you'll feel tomorrow.\"\n",
    "* La subcadena invertida, sense espais ni cometes simples, de la part: \"you'll have the\""
   ]
  },
  {
   "cell_type": "code",
   "execution_count": null,
   "metadata": {},
   "outputs": [],
   "source": [
    "# Fes aquí el codi de l'exercici 2"
   ]
  },
  {
   "cell_type": "markdown",
   "metadata": {},
   "source": [
    "## Funcions de posicionament\n",
    "\n",
    "Python permet posicionar les cadenes de text que surten per pantalla\n",
    "\n",
    "* **ljust(ample, caracter_emplenat)**: Alinea el text a l'esquerra\n",
    "\n",
    "* **center(ample, caracter_emplenat)**: Centra el text segons l'ample indicat\n",
    "\n",
    "* **rjust(ample, caracter_emplenat)**: Alinea el text a la dreta"
   ]
  },
  {
   "cell_type": "code",
   "execution_count": null,
   "metadata": {},
   "outputs": [],
   "source": [
    "# Exemple d'alineació de text\n",
    "\n",
    "titol_esquerra = \"Text a l'esquerra\".ljust(25)\n",
    "titol_centrat = \"Text al centre\".center(25)\n",
    "titol_dreta = \"Text a la dreta\".rjust(25)\n",
    "\n",
    "text = \"Avui fa fred\"\n",
    "text_esquerra = text.ljust(20, '-')\n",
    "text_centrat = text.center(20, '-')\n",
    "text_dreta = text.rjust(20, '-')\n",
    "\n",
    "print(titol_esquerra + '|' + text_esquerra)\n",
    "print(titol_centrat + '|' + text_centrat)\n",
    "print(titol_dreta + '|' + text_dreta)"
   ]
  },
  {
   "cell_type": "markdown",
   "metadata": {},
   "source": [
    "## Retallat d'espais inicials i finals\n",
    "\n",
    "Quan tenim cadenes de text amb espais al principi o al final, ens pot interessar ometre'ls\n",
    "\n",
    "* **lstrip**: Retorna la cadena de text sense els espais inicials\n",
    "\n",
    "* **rstrip**: Retorna la cadena de text sense els espais finals\n",
    "\n",
    "* **strip** : Retorna la cadena de text sense els espais inicials i finals omesos"
   ]
  },
  {
   "cell_type": "code",
   "execution_count": null,
   "metadata": {},
   "outputs": [],
   "source": [
    "# Exemple de retallat d'espais\n",
    "\n",
    "text = \"   Avui fa fred   \"\n",
    "\n",
    "text_retallat_esquerra = text.lstrip()\n",
    "print(f\"Text retallat a l'esquerra: '{text_retallat_esquerra}'\")\n",
    "\n",
    "text_retallat_dreta = text.rstrip()\n",
    "print(f\"Text retallat a la dreta: '{text_retallat_dreta}'\")\n",
    "\n",
    "text_retallat = text.strip()\n",
    "print(f\"Text retallat: '{text_retallat}'\")"
   ]
  },
  {
   "cell_type": "markdown",
   "metadata": {},
   "source": [
    "## Exercici 3\n",
    "\n",
    "Crea un menú tal que la sortida sigui així:\n",
    "```text\n",
    "        ********Menú Principal********\n",
    "        1.                Veure perfil                 \n",
    "        2.         Canviar contrasenya         \n",
    "        3.                      Sortir\n",
    "```"
   ]
  },
  {
   "cell_type": "code",
   "execution_count": null,
   "metadata": {},
   "outputs": [],
   "source": [
    "# Fes aquí el codi de l'exercici 3"
   ]
  }
 ],
 "metadata": {
  "kernelspec": {
   "display_name": "Python 3",
   "language": "python",
   "name": "python3"
  },
  "language_info": {
   "codemirror_mode": {
    "name": "ipython",
    "version": 3
   },
   "file_extension": ".py",
   "mimetype": "text/x-python",
   "name": "python",
   "nbconvert_exporter": "python",
   "pygments_lexer": "ipython3",
   "version": "3.13.0"
  },
  "orig_nbformat": 4
 },
 "nbformat": 4,
 "nbformat_minor": 2
}
