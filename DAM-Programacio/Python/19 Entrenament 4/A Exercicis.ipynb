{
 "cells": [
  {
   "cell_type": "markdown",
   "metadata": {},
   "source": [
    "<div style=\"display: flex; width: 100%;\">\n",
    "    <div style=\"flex: 1; padding: 0px;\">\n",
    "        <p>© Albert Palacios Jiménez, 2023</p>\n",
    "    </div>\n",
    "    <div style=\"flex: 1; padding: 0px; text-align: right;\">\n",
    "        <img src=\"../assets/ieti.png\" height=\"32\" alt=\"Logo de IETI\" style=\"max-height: 32px;\">\n",
    "    </div>\n",
    "</div>\n",
    "<hr/>"
   ]
  },
  {
   "cell_type": "markdown",
   "metadata": {},
   "source": [
    "# Entrenament 3\n",
    "\n",
    "Anem a fer alguns exercicis, per anar agafant pràctica."
   ]
  },
  {
   "cell_type": "markdown",
   "metadata": {},
   "source": [
    "## Exercici 0\n",
    "\n",
    "Fes una funció recursiva que rep 2 paràmetres 'rectangle(base,alt)' i dibuixa un rectangle emplenat d'asteriscos:\n",
    "\n",
    "```text\n",
    "base = 4, alt = 3\n",
    "* * * *\n",
    "* * * *\n",
    "* * * *\n",
    "```"
   ]
  },
  {
   "cell_type": "code",
   "execution_count": null,
   "metadata": {},
   "outputs": [],
   "source": [
    "# Fes aquí el codi de l'exercici 0"
   ]
  },
  {
   "cell_type": "markdown",
   "metadata": {},
   "source": [
    "## Exercici 1\n",
    "\n",
    "Fes una funció recursiva que retorni 'True' si els caràcters d'una paraua estàn ordenats alfabèticament"
   ]
  },
  {
   "cell_type": "code",
   "execution_count": null,
   "metadata": {},
   "outputs": [],
   "source": [
    "# Fes aquí el codi de l'exercici 1"
   ]
  },
  {
   "cell_type": "markdown",
   "metadata": {},
   "source": [
    "## Exercici 2\n",
    "\n",
    "Fes una funció recursiva que calculi els nombres de Lucas, on:\n",
    "\n",
    "L0 = 2\n",
    "L1 = 1\n",
    "LX = L(X-1) + L(X-2)\n",
    "\n",
    "La seqüència és: 2, 1, 3, 4, 7, 11, 18, 29, 47, 76, 123"
   ]
  },
  {
   "cell_type": "code",
   "execution_count": null,
   "metadata": {},
   "outputs": [],
   "source": [
    "# Fes aquí el codi de l'exercici 2"
   ]
  },
  {
   "cell_type": "markdown",
   "metadata": {},
   "source": [
    "## Exercici 3\n",
    "\n",
    "Fes una funció recursiva 'quadrat(quantitat, inici) que escrigui els 'n' primers quadrats perfectes que no són números parells.\n",
    "\n",
    "```text\n",
    "quadrat(4, 1) escriu 1, 9, 25, 49\n",
    "quadrat(2,10) escriu 121, 169\n",
    "```\n"
   ]
  },
  {
   "cell_type": "code",
   "execution_count": null,
   "metadata": {},
   "outputs": [],
   "source": [
    "# Fes aquí el codi de l'exercici 3"
   ]
  },
  {
   "cell_type": "markdown",
   "metadata": {},
   "source": [
    "## Exercici 4\n",
    "\n",
    "Fes una funció 'mostraMenu(opcions)' que a partir d'una llista d'opcions, mostri un menú numerat de 1 fins a X (on X és el número per la última opció).\n",
    "\n",
    "La funció haurà de mostrar el menú, validar amb 'try-except' que la opció escollida és vàlida i retornar el valor escollit per l'usuari.\n",
    "\n"
   ]
  },
  {
   "cell_type": "code",
   "execution_count": null,
   "metadata": {},
   "outputs": [],
   "source": [
    "# Fes aquí el codi de l'exercici 4"
   ]
  }
 ],
 "metadata": {
  "kernelspec": {
   "display_name": "Python 3",
   "language": "python",
   "name": "python3"
  },
  "language_info": {
   "name": "python",
   "version": "3.11.5"
  }
 },
 "nbformat": 4,
 "nbformat_minor": 2
}
