{
 "cells": [
  {
   "cell_type": "markdown",
   "metadata": {},
   "source": [
    "<div style=\"display: flex; width: 100%;\">\n",
    "    <div style=\"flex: 1; padding: 0px;\">\n",
    "        <p>© Albert Palacios Jiménez, 2023</p>\n",
    "    </div>\n",
    "    <div style=\"flex: 1; padding: 0px; text-align: right;\">\n",
    "        <img src=\"../assets/ieti.png\" height=\"32\" alt=\"Logo de IETI\" style=\"max-height: 32px;\">\n",
    "    </div>\n",
    "</div>\n",
    "<hr/>"
   ]
  },
  {
   "cell_type": "markdown",
   "metadata": {},
   "source": [
    "## Guardar dades\n",
    "\n",
    "Hi ha diverses maneres de guardar dades cap a arxius, les més populars són:\n",
    "\n",
    "- Guardar dades en format binari (en desús)\n",
    "\n",
    "- Guardar dades en format JSON\n",
    "\n",
    "**Nota**: <a href=\"https://ca.wikipedia.org/wiki/JSON\">JSON</a> és un format lliure per guardar dades en format clau/valor"
   ]
  },
  {
   "cell_type": "code",
   "execution_count": 1,
   "metadata": {},
   "outputs": [
    {
     "name": "stdout",
     "output_type": "stream",
     "text": [
      "{'nom': 'Abert', 'edat': 45}\n"
     ]
    }
   ],
   "source": [
    "# Exemple de com guardar i llegir dades en format binari\n",
    "# L'arxiu \"dades.bin\" no es pot llegir amb un editor de text\n",
    "\n",
    "import pickle\n",
    "\n",
    "# Escriure les dades en format binari (amb 'pickle')\n",
    "dades = {\"nom\": \"Abert\", \"edat\": 45 }\n",
    "f = open(\"dades.bin\", \"wb\")\n",
    "pickle.dump(dades, f)\n",
    "f.close()\n",
    "\n",
    "# Llegir les dades (d'un arxiu binari guardat amb 'pickle')\n",
    "f = open(\"dades.bin\", \"rb\")\n",
    "dadesLlegides = pickle.load(f)\n",
    "f.close()\n",
    "print(dadesLlegides)"
   ]
  },
  {
   "cell_type": "code",
   "execution_count": 2,
   "metadata": {},
   "outputs": [
    {
     "name": "stdout",
     "output_type": "stream",
     "text": [
      "{'nom': 'Marina', 'edat': 25}\n"
     ]
    }
   ],
   "source": [
    "# Exemple de com guardar i llegir dades en format JSON\n",
    "# Obriu l'arxiu \"dades.json\" per veure com es guarden les dades\n",
    "\n",
    "import json\n",
    "\n",
    "# Escriure les dades en format JSON\n",
    "dades = {\"nom\": \"Marina\", \"edat\": 25 }\n",
    "f = open(\"dades.json\", \"w\")\n",
    "json.dump(dades, f)\n",
    "f.close()\n",
    "\n",
    "# Llegir les dades (d'un arxiu JSON)\n",
    "f = open(\"dades.json\", \"r\")\n",
    "dadesLlegides = json.load(f)\n",
    "f.close()\n",
    "print(dadesLlegides)"
   ]
  },
  {
   "cell_type": "markdown",
   "metadata": {},
   "source": [
    "## Exercici 0\n",
    "\n",
    "Feu un programa que:\n",
    "```text\n",
    "A - Treballa amb un arxiu de dades de 'persones.dat' (el crea si no existeix)\n",
    "B - Té un menú amb aquestes opcions (llista, afegir, esborrar, modificar, sortir)\n",
    "B - Permet afegir persones segons els següents camps (id, nom, edat), l'identificador ha de ser únic\n",
    "C - La opció 'esborrar' necessita l'identificador, per exemple: esborrar 5\n",
    "D - La opció 'modificar' necessita l'identificador, el camp i el nou valor, per exemple: modificar 1 nom Joan\n",
    "```"
   ]
  },
  {
   "cell_type": "code",
   "execution_count": null,
   "metadata": {},
   "outputs": [],
   "source": [
    "# Resol aquí l'exercici 0"
   ]
  },
  {
   "cell_type": "markdown",
   "metadata": {},
   "source": [
    "## Exercici 1\n",
    "\n",
    "Feu un programa que:\n",
    "```text\n",
    "A - Treballa amb un arxiu de dades de 'animals.json' (el crea si no existeix)\n",
    "B - Té un menú amb aquestes opcions (llista, afegir, esborrar, modificar, sortir)\n",
    "B - Permet afegir animals segons els següents camps (id, nom, especie), l'identificador ha de ser únic\n",
    "C - La opció 'esborrar' necessita l'identificador, per exemple: esborrar 5\n",
    "D - La opció 'modificar' necessita l'identificador, el camp i el nou valor, per exemple: modificar 1 especie gat\n",
    "```"
   ]
  },
  {
   "cell_type": "code",
   "execution_count": null,
   "metadata": {},
   "outputs": [],
   "source": [
    "# Resol aquí l'exercici 1"
   ]
  }
 ],
 "metadata": {
  "kernelspec": {
   "display_name": "Python 3",
   "language": "python",
   "name": "python3"
  },
  "language_info": {
   "codemirror_mode": {
    "name": "ipython",
    "version": 3
   },
   "file_extension": ".py",
   "mimetype": "text/x-python",
   "name": "python",
   "nbconvert_exporter": "python",
   "pygments_lexer": "ipython3",
   "version": "3.11.6"
  }
 },
 "nbformat": 4,
 "nbformat_minor": 2
}
