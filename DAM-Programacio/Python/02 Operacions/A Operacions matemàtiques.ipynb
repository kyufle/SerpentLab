{
 "cells": [
  {
   "cell_type": "markdown",
   "metadata": {},
   "source": [
    "<div style=\"display: flex; width: 100%;\">\n",
    "    <div style=\"flex: 1; padding: 0px;\">\n",
    "        <p>© Albert Palacios Jiménez, 2023</p>\n",
    "    </div>\n",
    "    <div style=\"flex: 1; padding: 0px; text-align: right;\">\n",
    "        <img src=\"../assets/ieti.png\" height=\"32\" alt=\"Logo de IETI\" style=\"max-height: 32px;\">\n",
    "    </div>\n",
    "</div>\n",
    "<hr/>"
   ]
  },
  {
   "cell_type": "markdown",
   "metadata": {},
   "source": [
    "# Operacions matemàtiques\n",
    "\n",
    "<center><img src=\"../assets/02a_00.png\" height=\"250\" style=\"max-height: 200px;\" /></center>\n",
    "\n",
    "En programació, es demana als ordinadors que fàcin moltes operacions matemàtiques\n",
    "\n",
    "Així no cal fer-les a mà\n",
    "\n",
    "Però cal saber en quin ordre executa l'ordinador les operacions\n",
    "\n",
    "Per exemple, què creus que farà l'ordinador amb aquesta expressió?\n",
    "```python\n",
    "    2 + 3 * 4 ?\n",
    "```"
   ]
  },
  {
   "cell_type": "code",
   "execution_count": 1,
   "metadata": {},
   "outputs": [
    {
     "name": "stdout",
     "output_type": "stream",
     "text": [
      "14\n"
     ]
    }
   ],
   "source": [
    "# Exemple\n",
    "x = 2 + 3 * 4\n",
    "print(x)"
   ]
  },
  {
   "cell_type": "markdown",
   "metadata": {},
   "source": [
    "## Operacions \"+=\" i \"-=\"\n",
    "\n",
    "L'operador `a+=X` incrementa el valor de 'a' en el valor X de la dreta\n",
    "* Equival a fer a = a + x\n",
    "\n",
    "L'operador `b-=X` decrementa el valor de 'b' en el valor X de la dreta\n",
    "* Equival a fer b = b - x"
   ]
  },
  {
   "cell_type": "code",
   "execution_count": 2,
   "metadata": {},
   "outputs": [
    {
     "name": "stdout",
     "output_type": "stream",
     "text": [
      "El valor de a: 7\n",
      "El valor de a: 12\n",
      "El valor de b: -1\n",
      "El valor de b: -6\n"
     ]
    }
   ],
   "source": [
    "#Exemple\n",
    "\n",
    "a = 3\n",
    "a = a + 4\n",
    "print(f\"El valor de a: {a}\")\n",
    "a += 5\n",
    "print(f\"El valor de a: {a}\")\n",
    "\n",
    "b = 3\n",
    "b = b - 4\n",
    "print(f\"El valor de b: {b}\")\n",
    "b -= 5\n",
    "print(f\"El valor de b: {b}\")"
   ]
  },
  {
   "cell_type": "markdown",
   "metadata": {},
   "source": [
    "## Ordre de les operacions\n",
    "\n",
    "L'ordre de les operacions és el següent:\n",
    "1. Parèntesis\n",
    "2. Exponents\n",
    "3. Multiplicació i Divisió (igual prioritat però avaluades de dreta a esquerra)\n",
    "4. Mòdul\n",
    "5. Suma i Resta (igual prioritat però avaluades de dreta a esquerra)"
   ]
  },
  {
   "cell_type": "code",
   "execution_count": 3,
   "metadata": {},
   "outputs": [
    {
     "name": "stdout",
     "output_type": "stream",
     "text": [
      "20\n",
      "14\n"
     ]
    }
   ],
   "source": [
    "# Primer, es calculen les operacions que estàn entre parèntesis\n",
    "\n",
    "x = (2 + 3) * 4\n",
    "    # 2 + 3 = 5\n",
    "    # 5 * 4 = 20\n",
    "print(x)\n",
    "\n",
    "x = 2 + (3 * 4)\n",
    "    # 3 * 4 = 12\n",
    "    # 2 + 12 = 14\n",
    "print(x)"
   ]
  },
  {
   "cell_type": "code",
   "execution_count": 4,
   "metadata": {},
   "outputs": [
    {
     "name": "stdout",
     "output_type": "stream",
     "text": [
      "2 ** 3 = 8\n",
      "2 ** 2 + 4 ** 2 = 20\n",
      "2 ** 3 * 4 = 32\n",
      "2 ** (3 * 4) = 4096\n",
      "(2 ** 3) * 4 = 32\n"
     ]
    }
   ],
   "source": [
    "# Els exponents es fan amb doble asterisc\n",
    "\n",
    "x = 2 ** 3\n",
    "    # 2 elevat a 3 = 8\n",
    "print(f'2 ** 3 = {x}')\n",
    "\n",
    "x = 2 ** 2 + 4 ** 2\n",
    "    # 2 elevat a 2 = 4\n",
    "    # 4 elevat a 2 = 16  \n",
    "    # 4 + 16 = 20\n",
    "print(f'2 ** 2 + 4 ** 2 = {x}')\n",
    "\n",
    "x = 2 ** 3 * 4\n",
    "    # 2 elevat a 3 = 8\n",
    "    # 8 * 4 = 32\n",
    "print(f'2 ** 3 * 4 = {x}')\n",
    "\n",
    "x = 2 ** (3 * 4)\n",
    "    # 3 * 4 = 12\n",
    "    # 2 elevat a 12 = 4096\n",
    "print(f'2 ** (3 * 4) = {x}')\n",
    "\n",
    "x = (2 ** 3) * 4\n",
    "    # 2 elevat a 3 = 8\n",
    "    # 8 * 4 = 32\n",
    "print(f'(2 ** 3) * 4 = {x}')"
   ]
  },
  {
   "cell_type": "code",
   "execution_count": 5,
   "metadata": {},
   "outputs": [
    {
     "name": "stdout",
     "output_type": "stream",
     "text": [
      "10 * 2 / 5 = 4.0\n",
      "(10 * 2) / 5 = 4.0\n",
      "10 * (2 / 5) = 4.0\n",
      "10 / 2 * 5 = 25.0\n",
      "(10 / 2) * 5 = 25.0\n",
      "10 / (2 * 8) = 0.625\n"
     ]
    }
   ],
   "source": [
    "# Les multiplicacions i divisions es fan de dreta a esquerra\n",
    "\n",
    "x = 10 * 2 / 5\n",
    "    # 10 * 2 = 20\n",
    "    # 20 / 5 = 4\n",
    "print(f'10 * 2 / 5 = {x}')\n",
    "\n",
    "x = (10 * 2) / 5\n",
    "    # 10 * 2 = 20\n",
    "    # 20 / 5 = 4\n",
    "print(f'(10 * 2) / 5 = {x}')\n",
    "\n",
    "x = 10 * (2 / 5)\n",
    "    # 2 / 5 = 0.4\n",
    "    # 10 * 0.4 = 4\n",
    "print(f'10 * (2 / 5) = {x}')\n",
    "\n",
    "x = 10 / 2 * 5\n",
    "    # 10 / 2 = 5\n",
    "    # 5 * 5 = 25\n",
    "print(f'10 / 2 * 5 = {x}')\n",
    "\n",
    "x = (10 / 2) * 5\n",
    "    # 10 / 2 = 5\n",
    "    # 5 * 5 = 25\n",
    "print(f'(10 / 2) * 5 = {x}')\n",
    "\n",
    "x = 10 / (2 * 8)\n",
    "    # 2 * 8 = 16\n",
    "    # 10 / 16 = 0.625\n",
    "print(f'10 / (2 * 8) = {x}')"
   ]
  },
  {
   "cell_type": "code",
   "execution_count": 6,
   "metadata": {},
   "outputs": [
    {
     "name": "stdout",
     "output_type": "stream",
     "text": [
      "10 % 3 = 1\n",
      "10 % 2 = 0\n",
      "10 % 3 % 2 = 1\n",
      "(10 % 3) % 2 = 1\n",
      "10 % (3 % 2) = 0\n"
     ]
    }
   ],
   "source": [
    "# Els mòduls es fan amb %\n",
    "\n",
    "x = 10 % 3\n",
    "    # El residu de dividir 10 entre 3 = 1\n",
    "print(f'10 % 3 = {x}')\n",
    "\n",
    "x = 10 % 2\n",
    "    # El residu de dividir 10 entre 2 = 0\n",
    "print(f'10 % 2 = {x}')\n",
    "\n",
    "x = 10 % 3 % 2\n",
    "    # El residu de dividir 10 entre 3 = 1\n",
    "    # El residu de dividir 1 entre 2 = 1\n",
    "print(f'10 % 3 % 2 = {x}')\n",
    "\n",
    "x = (10 % 3) % 2\n",
    "    # El residu de dividir 10 entre 3 = 1\n",
    "    # El residu de dividir 1 entre 2 = 1\n",
    "print(f'(10 % 3) % 2 = {x}')\n",
    "\n",
    "x = 10 % (3 % 2)\n",
    "    # El residu de dividir 3 entre 2 = 1\n",
    "    # El residu de dividir 10 entre 1 = 0\n",
    "print(f'10 % (3 % 2) = {x}')"
   ]
  },
  {
   "cell_type": "code",
   "execution_count": 7,
   "metadata": {},
   "outputs": [
    {
     "name": "stdout",
     "output_type": "stream",
     "text": [
      "10 + 2 - 5 = 7\n",
      "(10 + 2) - 5 = 7\n",
      "10 + (2 - 5) = 7\n"
     ]
    }
   ],
   "source": [
    "# Les sumes i restes es fan de dreta a esquerra\n",
    "# (la propietat associativa fa que els parètesis no tinguin importancia)\n",
    "\n",
    "x = 10 + 2 - 5\n",
    "    # 10 + 2 = 12\n",
    "    # 12 - 5 = 7\n",
    "print(f'10 + 2 - 5 = {x}')\n",
    "\n",
    "x = (10 + 2) - 5\n",
    "    # 10 + 2 = 12\n",
    "    # 12 - 5 = 7\n",
    "print(f'(10 + 2) - 5 = {x}')\n",
    "\n",
    "x = 10 + (2 - 5)\n",
    "    # 2 - 5 = -3\n",
    "    # 10 + (-3) = 7\n",
    "print(f'10 + (2 - 5) = {x}')"
   ]
  },
  {
   "cell_type": "markdown",
   "metadata": {},
   "source": [
    "## Exercici 0\n",
    "\n",
    "Intenta predir el resultat de les següents expressions:\n",
    "```python\n",
    "    7 + 3 - 2\n",
    "    6 * 4 / 2\n",
    "    2 ** 3 + 1\n",
    "    2 + 10 % 3\n",
    "    (4 + 2) * (5 - 1)\n",
    "```\n",
    "Després fés un programa on comprovis si has encertat"
   ]
  },
  {
   "cell_type": "code",
   "execution_count": null,
   "metadata": {},
   "outputs": [
    {
     "name": "stdout",
     "output_type": "stream",
     "text": [
      "El resultat de 7+3-2 és 8\n",
      "El resultat de 6*4/2 és 12.0\n",
      "El resultat de 2**3+1 és 9\n",
      "El resultat de 2+10%3 és 3\n",
      "El resultat de (4+2)*(5-1) és 24\n"
     ]
    }
   ],
   "source": [
    "# Fes aquí les operacions de l'exercici 0\n",
    "#7+3 = 10\n",
    "#10-2 = 8\n",
    "calcul = 7+3-2\n",
    "print(f\"El resultat de 7+3-2 és {calcul}\")\n",
    "#6*4 = 24\n",
    "#24/2 = 12\n",
    "calcul = 6*4/2\n",
    "print(f\"El resultat de 6*4/2 és {calcul}\")\n",
    "#2**3 = 8\n",
    "#8+1 = 9\n",
    "calcul = 2**3+1\n",
    "print(f\"El resultat de 2**3+1 és {calcul}\")\n",
    "#10%3 = 1\n",
    "#2+1 = 3\n",
    "calcul = 2+10%3\n",
    "print(f\"El resultat de 2+10%3 és {calcul}\")\n",
    "#(4+2)= 6\n",
    "#(5-1) = 4\n",
    "#6*4 = 24\n",
    "calcul = (4+2)*(5-1)\n",
    "print(f\"El resultat de (4+2)*(5-1) és {calcul}\")"
   ]
  },
  {
   "cell_type": "markdown",
   "metadata": {},
   "source": [
    "## Exercici 1\n",
    "\n",
    "Primer intenta predir el resultat de les següents expressions, després fés un programa per coprovar que ho has encertat:\n",
    "```python\n",
    "    x = 9\n",
    "    y = 11 + (x / 3)\n",
    "```\n",
    "- Fes un print en aquest punt, per mostrar els valors actuals de x i de y\n",
    "```python\n",
    "    x = 4\n",
    "    z = y - 7 + x\n",
    "```\n",
    "- Fes un print en aquest punt, per mostrar els valors actuals de x i de x\n",
    "```python\n",
    "    x = 8\n",
    "    z = y * (x / 2)\n",
    "```\n",
    "- Fes un print en aquest punt, per mostrar els valors actuals de x, de y i de z\n",
    "```python\n",
    "    y = 3\n",
    "    x = (6 + y) * 2\n",
    "```\n",
    "- Fes un print en aquest punt, per mostrar els valors actuals de x i de y\n",
    "```python\n",
    "    x = 5\n",
    "    y = 12 - (4 / 2)\n",
    "    z = x + y\n",
    "```\n",
    "- Fes un print en aquest punt, per mostrar els valors actuals de x, de y i de z\n",
    "```python\n",
    "    z = 4\n",
    "    x = (2 * z) + z\n",
    "    y = (x + 6) / 3\n",
    "```\n",
    "- Fes un print en aquest punt, per mostrar els valors actuals de x, de y i de z\n"
   ]
  },
  {
   "cell_type": "code",
   "execution_count": 21,
   "metadata": {},
   "outputs": [
    {
     "name": "stdout",
     "output_type": "stream",
     "text": [
      "El resultat de 11+ (9/3) és 14.0\n",
      "-----------\n",
      "El resultat de y-7+x és 11.0\n",
      "-----------\n",
      "El resultat de y-7+x és 56.0\n",
      "-----------\n",
      "El resultat de y-7+x és 15.0\n",
      "-----------\n",
      "El resultat de (2*z) + z,(x+6) / 3 és 6.0\n",
      "-----------\n"
     ]
    }
   ],
   "source": [
    "# Fes aquí el programa de l'exercici 1\n",
    "x = 9\n",
    "y = 11+ (x/3)\n",
    "#(x/3) = 3\n",
    "#11 +3 = 14\n",
    "calcul = y\n",
    "print(f\"El resultat de 11+ ({x}/3) és {calcul}\")\n",
    "print(\"-----------\")\n",
    "x = 4\n",
    "z = y-7+x\n",
    "# 14-7= 7\n",
    "#7+4 = 11\n",
    "calcul = z\n",
    "print(f\"El resultat de y-7+x és {calcul}\")\n",
    "print(\"-----------\")\n",
    "x = 8\n",
    "z = y*(x/2)\n",
    "# 8/2 = 4\n",
    "#4*14 = 56\n",
    "calcul = z\n",
    "print(f\"El resultat de y-7+x és {calcul}\")\n",
    "print(\"-----------\")\n",
    "x = 5\n",
    "y = 12 - (4/2)\n",
    "z = x+y\n",
    "# (4/2) = 2 , 12-2 = 10\n",
    "# 5+10 = 15\n",
    "calcul = z\n",
    "print(f\"El resultat de y-7+x és {calcul}\")\n",
    "print(\"-----------\")\n",
    "z = 4\n",
    "x = (2*z) + z\n",
    "y = (x+6) / 3\n",
    "calcul = y\n",
    "# (2*4) = 8 , 8 + 4 = 12\n",
    "# (12+6) = 18 /3 = 6\n",
    "print(f\"El resultat de (2*z) + z,(x+6) / 3 és {calcul}\")\n",
    "print(\"-----------\")"
   ]
  },
  {
   "cell_type": "markdown",
   "metadata": {},
   "source": [
    "## Exercici 2\n",
    "\n",
    "Primer intenta predir el resultat de les següents expressions, després fes un programa per comprovar que ho has encertat:\n",
    "```python\n",
    "    x = 5\n",
    "    y = 20\n",
    "    z = 2\n",
    "    x = x + z + 1\n",
    "    a = y - x / z\n",
    "```\n",
    "- Fes un print en aquest punt, per mostrar els valors actuals de x, y, z i a\n",
    "```python\n",
    "    x = x + y\n",
    "    z = x - a * 5\n",
    "```\n",
    "- Fes un print en aquest punt, per mostrar els valors actuals de x, y, z i a\n",
    "```python\n",
    "    x = 4\n",
    "    y = y - 12\n",
    "    x = y * x / 2\n",
    "    z = z + x * y\n",
    "```\n",
    "- Fes un print en aquest punt, per mostrar els valors actuals de x, y, z i a"
   ]
  },
  {
   "cell_type": "code",
   "execution_count": null,
   "metadata": {},
   "outputs": [
    {
     "name": "stdout",
     "output_type": "stream",
     "text": [
      "El resultat de y-x/z és 16.0. Valors 8,20,2,16.0\n",
      "-----------\n",
      "El resultat de x-a*5 és -52.0. Valors 28,20,-52.0,16.0\n",
      "-----------\n",
      "El resultat de x-a*5 és 900.0. Valors 112.0,8,900.0,16.0\n"
     ]
    }
   ],
   "source": [
    "# Fes aquí les operacions de l'exercici 2\n",
    "x=5\n",
    "y=20\n",
    "z=2\n",
    "x=x+z+1\n",
    "a = y-x/z\n",
    "#5+2+1 = 8\n",
    "#20-8/2 = 8/2 = 4, 20-4 = 16\n",
    "print(f\"El resultat de y-x/z és {a}. Valors {x},{y},{z},{a}\")\n",
    "print(\"-----------\")\n",
    "x = x+y\n",
    "z = x-a*5\n",
    "#8+20 = 28\n",
    "# 28 - (16*5) = 16*5 = 28-80 = -52\n",
    "print(f\"El resultat de x-a*5 és {z}. Valors {x},{y},{z},{a}\")\n",
    "print(\"-----------\")\n",
    "z=4\n",
    "y=y-12\n",
    "x=y*x/2\n",
    "z = z+x*y\n",
    "#20-12 = 8\n",
    "#8*28/2 = 28*4 = 224 /2 = 112\n",
    "#4+(112*8) = 4+ 896= 900\n",
    "print(f\"El resultat de z+x*y és {z}. Valors {x},{y},{z},{a}\")\n",
    "\n",
    "\n"
   ]
  }
 ],
 "metadata": {
  "kernelspec": {
   "display_name": "Python 3",
   "language": "python",
   "name": "python3"
  },
  "language_info": {
   "codemirror_mode": {
    "name": "ipython",
    "version": 3
   },
   "file_extension": ".py",
   "mimetype": "text/x-python",
   "name": "python",
   "nbconvert_exporter": "python",
   "pygments_lexer": "ipython3",
   "version": "3.13.0"
  },
  "orig_nbformat": 4
 },
 "nbformat": 4,
 "nbformat_minor": 2
}
