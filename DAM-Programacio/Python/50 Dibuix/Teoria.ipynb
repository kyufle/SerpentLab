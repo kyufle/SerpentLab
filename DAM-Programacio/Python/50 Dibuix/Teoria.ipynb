{
 "cells": [
  {
   "cell_type": "markdown",
   "metadata": {},
   "source": [
    "<div style=\"display: flex; width: 100%;\">\n",
    "    <div style=\"flex: 1; padding: 0px;\">\n",
    "        <p>© Albert Palacios Jiménez, 2023</p>\n",
    "    </div>\n",
    "    <div style=\"flex: 1; padding: 0px; text-align: right;\">\n",
    "        <img src=\"../assets/ieti.png\" height=\"32\" alt=\"Logo de IETI\" style=\"max-height: 32px;\">\n",
    "    </div>\n",
    "</div>\n",
    "<hr/>"
   ]
  },
  {
   "cell_type": "markdown",
   "metadata": {
    "id": "qDQPPM3dtsAZ"
   },
   "source": [
    "# Dibuix\n",
    "\n",
    "Molts llenguatges de programació tenen eines o llibreries, per obrir finestres, fer-hi dibuixos o mostrar-hi imatges.\n",
    "\n",
    "Per poder fer anar aquestes eines, calen coneixements bàsics de programació: variables, funcions, condicions, bucles, ...\n",
    "\n",
    "En Python hi ha moltes llibreries, però una de les més senzilles és **pyGame**.\n",
    "\n",
    "Instal·lació:\n",
    "```bash\n",
    "pip install pygame\n",
    "pip install Ipython ipykernel -U --user --force-reinstall\n",
    "```\n",
    "\n",
    "A Linux:\n",
    "```bash\n",
    "sudo apt install install python3-pygame\n",
    "```\n",
    "\n",
    "A macOS amb *brew* o també a Linux:\n",
    "```bash\n",
    "python3 -m pip install pygame --break-system-package\n",
    "python3 -m pip install Ipython ipykernel -U --user --force-reinstall --break-system-package\n",
    "```"
   ]
  },
  {
   "cell_type": "markdown",
   "metadata": {},
   "source": [
    "## Finestres i aplicacions\n",
    "\n",
    "Per poder dibuixar, primer necessitem una finestra d'aplicació.\n",
    "\n",
    "```python\n",
    "screen = pygame.display.set_mode((640, 480))\n",
    "pygame.display.set_caption('Window Title')\n",
    "```\n",
    "\n",
    "Però un cop tenim la finestra, s'ha de definir què fer amb ella. És a dir, el **bucle de l'aplicació**\n",
    "\n",
    "```python\n",
    "def main():\n",
    "    is_looping = True\n",
    "\n",
    "    while is_looping:\n",
    "        is_looping = app_events()\n",
    "        app_run()\n",
    "        app_draw()\n",
    "\n",
    "        clock.tick(30) # Limitar a 30 FPS\n",
    "\n",
    "    # Fora del bucle, tancar l'aplicació\n",
    "    pygame.quit()\n",
    "    sys.exit()\n",
    "```"
   ]
  },
  {
   "cell_type": "markdown",
   "metadata": {},
   "source": [
    "### Exemple 000"
   ]
  },
  {
   "cell_type": "code",
   "execution_count": null,
   "metadata": {},
   "outputs": [],
   "source": [
    "# Codi de l'exemple\n",
    "import utils; utils.show_code('./exemple000.py')"
   ]
  },
  {
   "cell_type": "code",
   "execution_count": null,
   "metadata": {},
   "outputs": [],
   "source": [
    "# Fer anar l'exemple\n",
    "import utils; utils.run_code('./exemple000.py')"
   ]
  },
  {
   "cell_type": "markdown",
   "metadata": {},
   "source": [
    "# Dibuix\n",
    "\n",
    "Un cop tenim definida la finesta, i el bucle de l'aplciació, ja es poden dibuixar cosses al a funció **app_draw**\n",
    "\n",
    "```python\n",
    "def app_draw():\n",
    "    \n",
    "    # Pintar el fons de blanc\n",
    "    screen.fill(WHITE)\n",
    "\n",
    "    # Escriure un text de prova\n",
    "    font = pygame.font.SysFont(\"Arial\", 55)\n",
    "    text = font.render('Hello World!', True, BLACK)\n",
    "    screen.blit(text, (50, 200))\n",
    "\n",
    "    # Actualitzar el dibuix a la finestra\n",
    "    pygame.display.update()\n",
    "```"
   ]
  },
  {
   "cell_type": "markdown",
   "metadata": {},
   "source": [
    "## Ordre de dibuix (canvas)\n",
    "\n",
    "Normalment les llibreries de dibuix funcionen com un quadre *(canvas)*, són una superfície a la que vas dibuixant. I el què dibuixes últim, queda per damunt de tot el què ja has dibuixat.\n",
    "\n",
    "<br/>\n",
    "<center><img src=\"./assets/drawingorder.png\" style=\"max-height: 400px\" alt=\"\">\n",
    "<br/></center>\n",
    "<br/>\n",
    "<br/>"
   ]
  },
  {
   "cell_type": "markdown",
   "metadata": {},
   "source": [
    "## Eix de coordenades\n",
    "\n",
    "Indiquem a quina posició volem dibuixar a través de coordenades X,Y.\n",
    "\n",
    "A **pygame** les coordenades són **\"top/left\"**, el què vol dir que el 0,0 de la finestra és la posició de dalt a l'equerra.\n",
    "\n",
    "A l'exemple de la imatge, les coordenades són (x = 80, y = 50):\n",
    "\n",
    "<br/>\n",
    "<center><img src=\"./assets/coordinates.png\" style=\"max-height: 250px\" alt=\"\">\n",
    "<br/></center>\n",
    "<br/>\n",
    "<br/>"
   ]
  },
  {
   "cell_type": "markdown",
   "metadata": {},
   "source": [
    "## Dibuix basic\n",
    "\n",
    "Pygame proporciona diverses funcions per dibuixar formes bàsiques:\n",
    "```python\n",
    "# Una línia entre dos punts.\n",
    "pygame.draw.line(screen, color, start_pos, end_pos, width)\n",
    "\n",
    "# Un rectangle \n",
    "pygame.draw.rect(screen, color, (x, y, width, height))\n",
    "\n",
    "# Un cercle\n",
    "pygame.draw.circle(screen, GREEN, (x, y), radius)\n",
    "\n",
    "# Una el·lipse dins d'un rectangle delimitador.\n",
    "pygame.draw.ellipse(screen, color, (x, y, width, height))\n",
    "\n",
    "# Un arc dins d'un rectangle delimitador.\n",
    "pygame.draw.arc(screen, color, (x, y, width, height), start_angle, end_angle, width)\n",
    "\n",
    "# Un polígon connectant una sèrie de punts.\n",
    "pygame.draw.polygon(screen, color, [(x1, y1), (x2, y2), (x3, y3)], width)\n",
    "\n",
    "# Una sèrie de línies connectades entre diversos punts.\n",
    "pygame.draw.lines(screen, color, closed, point_list, width)\n",
    "```\n"
   ]
  },
  {
   "cell_type": "markdown",
   "metadata": {},
   "source": [
    "### Exemple 001\n",
    "\n",
    "Dibuix de formes bàsiques, fixar-se en com s'escriuen les coordenades i en l'ordre de dibuix."
   ]
  },
  {
   "cell_type": "code",
   "execution_count": null,
   "metadata": {},
   "outputs": [],
   "source": [
    "# Codi de l'exemple\n",
    "import utils; utils.show_code('./exemple001.py', function_name='app_draw')"
   ]
  },
  {
   "cell_type": "code",
   "execution_count": null,
   "metadata": {},
   "outputs": [],
   "source": [
    "# Fer anar el codi d'exemple\n",
    "import utils; utils.run_code('./exemple001.py')"
   ]
  },
  {
   "cell_type": "markdown",
   "metadata": {},
   "source": [
    "### Exercici 000\n",
    "\n",
    "Modifica la funció **app_draw** de l'arxiu **\"./exercici000.py\"** per fer el següent dibuix, a partir de dos bucles **for**\n",
    "\n",
    "**Nota**: La mida de gruix de la línia és 5\n",
    "\n",
    "<br/>\n",
    "<center><img src=\"./assets/exercici000.png\" style=\"max-height: 400px\" alt=\"\">\n",
    "<br/></center>\n",
    "<br/>"
   ]
  },
  {
   "cell_type": "code",
   "execution_count": null,
   "metadata": {},
   "outputs": [],
   "source": [
    "# Fer anar el codi de l'exercici\n",
    "import utils; utils.run_code('./exercici000.py')"
   ]
  },
  {
   "cell_type": "markdown",
   "metadata": {},
   "source": [
    "## Colors\n",
    "\n",
    "**pyGame** permet fer dibuixos amb colors RGB (Red, Green Blue)\n",
    "\n",
    "Els colors són **tuples** de tres paràmetres entre 0 i 255, on:\n",
    "\n",
    "- El primer valor representa el vermell (Red)\n",
    "- El segon valor representa el verd (Green)\n",
    "- El tercer valor representa el blau (Blue)\n",
    "\n",
    "Així, els colors clàssics són:\n",
    "\n",
    "<span style=\"color:rgb(255, 255, 255)\">■</span> WHITE = (255, 255, 255)  \n",
    "<span style=\"color:rgb(0, 0, 0)\">■</span> BLACK = (0, 0, 0)  \n",
    "<span style=\"color:rgb(255, 0, 0)\">■</span> RED = (255, 0, 0)  \n",
    "<span style=\"color:rgb(0, 255, 0)\">■</span> GREEN = (0, 255, 0)  \n",
    "<span style=\"color:rgb(0, 0, 255)\">■</span> BLUE = (0, 0, 255)  \n",
    "<span style=\"color:rgb(255, 255, 0)\">■</span> YELLOW = (255, 255, 0)  \n",
    "<span style=\"color:rgb(0, 255, 255)\">■</span> CYAN = (0, 255, 255)  \n",
    "<span style=\"color:rgb(255, 0, 255)\">■</span> MAGENTA = (255, 0, 255)  \n",
    "<span style=\"color:rgb(255, 165, 0)\">■</span> ORANGE = (255, 165, 0)  \n",
    "<span style=\"color:rgb(128, 0, 128)\">■</span> PURPLE = (128, 0, 128)  \n",
    "<span style=\"color:rgb(255, 192, 203)\">■</span> PINK = (255, 192, 203)  \n",
    "<span style=\"color:rgb(128, 128, 128)\">■</span> GRAY = (128, 128, 128)  \n",
    "<span style=\"color:rgb(165, 42, 42)\">■</span> BROWN = (165, 42, 42)  \n",
    "<span style=\"color:rgb(0, 0, 128)\">■</span> NAVY = (0, 0, 128)  \n",
    "<span style=\"color:rgb(0, 128, 128)\">■</span> TEAL = (0, 128, 128)  \n",
    "<span style=\"color:rgb(0, 255, 0)\">■</span> LIME = (0, 255, 0)  \n",
    "<span style=\"color:rgb(75, 0, 130)\">■</span> INDIGO = (75, 0, 130)  \n",
    "<span style=\"color:rgb(238, 130, 238)\">■</span> VIOLET = (238, 130, 238)\n"
   ]
  },
  {
   "cell_type": "markdown",
   "metadata": {},
   "source": [
    "## Relleus i Emplenats\n",
    "\n",
    "Hi ha dos modes de dibuix:\n",
    "\n",
    "- Emplenat (**fill**): És el color o patró que omple l’interior d'una forma. Per exemple, si dibuixes un cercle i l'emplenes de color blau, tot l'interior del cercle serà blau.\n",
    "\n",
    "- Relleu (**stroke**): És el contorn o línia exterior de la forma, que pot tenir un color i gruix diferents. Si dibuixes un cercle amb relleu vermell de 5 píxels, el contorn del cercle serà vermell amb una amplada de 5 píxels, però l'interior pot estar buit o emplenat d’un altre color.\n",
    "\n",
    "Aquestes propietats permeten que una forma tingui un aspecte amb un interior (emplenat) diferent del seu contorn (relleu)"
   ]
  },
  {
   "cell_type": "code",
   "execution_count": null,
   "metadata": {},
   "outputs": [],
   "source": [
    "# Codi de l'exemple\n",
    "import utils; utils.show_code('./exemple002.py', function_name='app_draw')"
   ]
  },
  {
   "cell_type": "code",
   "execution_count": null,
   "metadata": {},
   "outputs": [],
   "source": [
    "# Fer anar l'exemple\n",
    "import utils; utils.run_code('./exemple002.py')"
   ]
  },
  {
   "cell_type": "markdown",
   "metadata": {},
   "source": [
    "### Exercici 001\n",
    "\n",
    "Al codi **\"exercici001.py\"**, modifica la funció **app_draw** per fer el següent dibuix:\n",
    "\n",
    "**Nota**: Per dibuixar l'arc taronja, fer servir la següent informació:\n",
    "\n",
    "- Coordenades: x = 400, y = 250\n",
    "- Mida: ample = 200, alt = 100\n",
    "- Angle inicial: math.radians(45)\n",
    "- Angle final: math.radians(180)\n",
    "- Gruix: 5\n",
    "\n",
    "<br/>\n",
    "<center><img src=\"./assets/exercici001.png\" style=\"max-height: 400px\" alt=\"\">\n",
    "<br/></center>\n",
    "<br/>"
   ]
  },
  {
   "cell_type": "code",
   "execution_count": null,
   "metadata": {},
   "outputs": [],
   "source": [
    "# Fer anar el codi de l'exercici\n",
    "import utils; utils.run_code('./exercici001.py')"
   ]
  },
  {
   "cell_type": "markdown",
   "metadata": {},
   "source": [
    "## Texts\n",
    "\n",
    "Per dibuixar un text cal seguir els següents passos:\n",
    "\n",
    "- Definir un estil de font\n",
    "- Definir un text (si es pot, fora del bucle)\n",
    "- Dibuixar el text (dins del bucle)\n",
    "\n",
    "**Nota:** Com que l'estil de font, i el text són variables, millor posar-les fora del bucle de l'aplicació."
   ]
  },
  {
   "cell_type": "markdown",
   "metadata": {},
   "source": [
    "## Imatges\n",
    "\n",
    "Per dibuixar imatges cal\n",
    "\n",
    "- Carregar la imatge en una variable\n",
    "- Dibuixar la imatge (dins del bucle)\n",
    "\n",
    "**Nota**: Quan es carrega la imatge se li pot canviar la mida, amb *pygame.transform.smoothscale*"
   ]
  },
  {
   "cell_type": "code",
   "execution_count": null,
   "metadata": {},
   "outputs": [],
   "source": [
    "# Codi de l'exemple\n",
    "import utils; utils.show_code('./exemple003.py', function_name='app_draw')"
   ]
  },
  {
   "cell_type": "code",
   "execution_count": null,
   "metadata": {},
   "outputs": [],
   "source": [
    "# Fer anar l'exemple\n",
    "import utils; utils.run_code('./exemple003.py')"
   ]
  },
  {
   "cell_type": "markdown",
   "metadata": {},
   "source": [
    "## Superficies\n",
    "\n",
    "Les superficies permeten definir areas de dibuix, que no es veuen per pantalla.\n",
    "\n",
    "Així podem dibuixar sobre les superfícies sense dibuixar directament a la finestra.\n",
    "\n",
    "Quan volem dibuixar el contingut d'una superfície a la finestra, es fa de manera similar a com es dibuixen les imatges.\n",
    "\n",
    "Això vol dir que la podem dibuixar diverses vegades sense repetir les comandes de dibuix\n",
    "\n",
    "A més, podem dibuixar porcions d'una superfície."
   ]
  },
  {
   "cell_type": "code",
   "execution_count": null,
   "metadata": {},
   "outputs": [],
   "source": [
    "# Codi de l'exemple main\n",
    "import utils; utils.show_code('./exemple004.py', function_name='main')"
   ]
  },
  {
   "cell_type": "code",
   "execution_count": null,
   "metadata": {},
   "outputs": [],
   "source": [
    "# Codi de l'exemple app_draw\n",
    "import utils; utils.show_code('./exemple004.py', function_name='app_draw')"
   ]
  },
  {
   "cell_type": "code",
   "execution_count": null,
   "metadata": {},
   "outputs": [],
   "source": [
    "# Fer anar l'exemple\n",
    "import utils; utils.run_code('./exemple004.py')"
   ]
  },
  {
   "cell_type": "markdown",
   "metadata": {},
   "source": [
    "## Events, lògica i dibuix\n",
    "\n",
    "Cal entendre que quan fem aplicacions gràfiques, el bucle de l'aplicació es divideix en parts:\n",
    "\n",
    "- **Obtenció d'events**: és a dir la informació que rep l'aplicació\n",
    "\n",
    "- **Càlculs lògics**: els que defineixen l'estat de l'aplicació, i modifiquen les variables\n",
    "\n",
    "- **Dibuix**: a partir dels càlculs anteriors dibuixar el què correspon\n",
    "\n",
    "**Important**: Separar la lògica dels càlculs de les instruccions de dibuix, permet que les instruccions que s'envien a la **tarjeta gràfica** estiguin més optimitzades, i l'aplicació funcioni més ràpid. \n",
    "\n",
    "Quan es posa codi per calcular la lògica dins de la funció de dibuix, les instruccions que s'envien a la tarja gràfica queden fragmentades, i no es poden optimitzar."
   ]
  },
  {
   "cell_type": "markdown",
   "metadata": {},
   "source": [
    "## Animacions \n",
    "\n",
    "Les animacions permeten canviar el valor d'una variable en el temps, per tal de fer efectes de moviment o de canvi d'estat.\n",
    "\n",
    "Per tal que les animacions siguin coherents en tots els equips (sempre triguin el mateix), no canviarem els valors de les animacions en funció dels cops que hem dibuixat sinó **en funció del temps** que triquem a dibuixar."
   ]
  },
  {
   "cell_type": "code",
   "execution_count": null,
   "metadata": {},
   "outputs": [],
   "source": [
    "# Codi de l'exemple (comprovar si l'usuari vol tancar l'aplicació per sortir del bucle)\n",
    "import utils; utils.show_code('./exemple005.py', function_name='app_run')"
   ]
  },
  {
   "cell_type": "code",
   "execution_count": null,
   "metadata": {},
   "outputs": [],
   "source": [
    "# Codi de l'exemple (comprovar si l'usuari vol tancar l'aplicació per sortir del bucle)\n",
    "import utils; utils.show_code('./exemple005.py', function_name='app_draw')"
   ]
  },
  {
   "cell_type": "code",
   "execution_count": null,
   "metadata": {},
   "outputs": [],
   "source": [
    "# Codi de l'exemple (canviar el valor de la variable posició X)\n",
    "import utils; utils.run_code('./exemple005.py')"
   ]
  },
  {
   "cell_type": "markdown",
   "metadata": {},
   "source": [
    "### Exercici 002\n",
    "\n",
    "La següent funció, dona una posició X,Y al perímetre d'un cercle a partir dels paràmetres:\n",
    "\n",
    "- Centre del cercle {\"x\": x, \"y\": y}\n",
    "- Radi del cercle\n",
    "- Angle (en graus)"
   ]
  },
  {
   "cell_type": "code",
   "execution_count": null,
   "metadata": {},
   "outputs": [],
   "source": [
    "import utils\n",
    "\n",
    "utils.point_on_circle(center, radius, angle_degrees)"
   ]
  },
  {
   "cell_type": "markdown",
   "metadata": {},
   "source": [
    "Al codi **\"exercici002.py\"**, fes l'animació d'una linia que dóna voltes relatives a un cercle:\n",
    "\n",
    "**Nota**: Fes que la velocitat sigui: *50 * delta_time*\n",
    "\n",
    "<center>\n",
    "<video width=\"100%\" controls allowfullscreen style=\"max-width: 90%; width: 400px; max-height: 200px\">\n",
    "  <source src=\"./assets/exercici002.mov\" type=\"video/mp4\">\n",
    "</video>\n",
    "</center>\n",
    "<br/>"
   ]
  },
  {
   "cell_type": "code",
   "execution_count": null,
   "metadata": {},
   "outputs": [],
   "source": [
    "# Fer anar el codi de l'exercici\n",
    "import utils; utils.run_code('./exercici002.py')"
   ]
  },
  {
   "cell_type": "markdown",
   "metadata": {},
   "source": [
    "## Events de teclat\n",
    "\n",
    "Els events són **missatges que el programa rep quan passa alguna cosa**, normalment quan l'usuari interacciona amb l'aplicació a través del mouse o el teclat.\n",
    "\n",
    "Hi ha molts tipus d'events: de la finestra, del mouse, del teclat, ...\n",
    "\n",
    "Amb la informació dels events, podem modificar variables del nostre codi (i conseqüentment modificar el dibuix)"
   ]
  },
  {
   "cell_type": "markdown",
   "metadata": {},
   "source": [
    "### Exemple 005\n",
    "\n",
    "Els **events de teclat** ens avisen quan s'apreta o s'allibera una tecla. Cal tenir en compte:\n",
    "\n",
    "- Múltiples tecles poden estar apretades al mateix temps\n",
    "- Hi ha tecles de modificació com *control*, *alt*, *command* ... que canvien el comportament de les tecles\n",
    "\n",
    "No s'ha de confondre l'**event d'apretar o aixecar** una tecla:\n",
    "\n",
    "- pygame.KEYDOWN\n",
    "- pygame.KEYUP\n",
    "\n",
    "Amb les **tecles** 'amunt' i 'avall'\n",
    "\n",
    "- pygame.K_UP\n",
    "- pygame.K_DOWN"
   ]
  },
  {
   "cell_type": "code",
   "execution_count": null,
   "metadata": {},
   "outputs": [],
   "source": [
    "# Codi de l'exemple\n",
    "import utils; utils.show_code('./exemple006.py', function_name='app_events')"
   ]
  },
  {
   "cell_type": "code",
   "execution_count": null,
   "metadata": {},
   "outputs": [],
   "source": [
    "# Codi de l'exemple\n",
    "import utils; utils.show_code('./exemple006.py', function_name='app_run')"
   ]
  },
  {
   "cell_type": "code",
   "execution_count": null,
   "metadata": {},
   "outputs": [],
   "source": [
    "# Codi de l'exemple\n",
    "import utils; utils.show_code('./exemple006.py', function_name='app_draw')"
   ]
  },
  {
   "cell_type": "code",
   "execution_count": null,
   "metadata": {},
   "outputs": [],
   "source": [
    "# Fer anar l'exemple\n",
    "import utils; utils.run_code('./exemple006.py')"
   ]
  },
  {
   "cell_type": "markdown",
   "metadata": {},
   "source": [
    "### Exercici 003\n",
    "\n",
    "Al codi **\"exercici003.py\"**, arregla l'exemple anterior perquè el quadre taronja no surti mai dels limits del quadre blau.\n",
    "\n",
    "<br/>\n",
    "<center><img src=\"./assets/exercici003.png\" style=\"max-height: 200px;\" alt=\"\">\n",
    "<br/></center>\n",
    "<br/>"
   ]
  },
  {
   "cell_type": "code",
   "execution_count": null,
   "metadata": {},
   "outputs": [],
   "source": [
    "# Fer anar el codi de l'exercici\n",
    "import utils; utils.run_code('./exercici003.py')"
   ]
  },
  {
   "cell_type": "markdown",
   "metadata": {},
   "source": [
    "## Events de ratolí\n",
    "\n",
    "Al igual que el teclat els events de ratolí ens avisen de:\n",
    "\n",
    "- La posició del mouse\n",
    "- Si s'apreta algún botó del ratolí\n",
    "- Si s'allibera algún botó del ratolí"
   ]
  },
  {
   "cell_type": "code",
   "execution_count": null,
   "metadata": {},
   "outputs": [],
   "source": [
    "# Codi de l'exemple\n",
    "import utils; utils.show_code('./exemple007.py', function_name='app_events')"
   ]
  },
  {
   "cell_type": "code",
   "execution_count": null,
   "metadata": {},
   "outputs": [],
   "source": [
    "# Codi de l'exemple\n",
    "import utils; utils.show_code('./exemple007.py', function_name='app_run')"
   ]
  },
  {
   "cell_type": "code",
   "execution_count": null,
   "metadata": {},
   "outputs": [],
   "source": [
    "# Codi de l'exemple\n",
    "import utils; utils.show_code('./exemple007.py', function_name='app_draw')"
   ]
  },
  {
   "cell_type": "code",
   "execution_count": null,
   "metadata": {},
   "outputs": [],
   "source": [
    "# Codi de l'exemple\n",
    "import utils; utils.run_code('./exemple007.py')"
   ]
  },
  {
   "cell_type": "markdown",
   "metadata": {},
   "source": [
    "### Exercici 004\n",
    "\n",
    "Al codi **\"exercici004.py\"**, arregla l'exemple anterior perquè l'ull dret estigui dins dels seus limits"
   ]
  },
  {
   "cell_type": "code",
   "execution_count": null,
   "metadata": {},
   "outputs": [],
   "source": [
    "# Fer anar el codi de l'exercici\n",
    "import utils; utils.run_code('./exercici004.py')"
   ]
  },
  {
   "cell_type": "markdown",
   "metadata": {},
   "source": [
    "## Botons del ratolí apretats o alliberats\n",
    "\n",
    "Al igual que amb el teclat, es produeix un event quan s'apreta o allibera un botó del ratolí.\n",
    "\n",
    "Amb aquest event, podem saber les coordenades on s'ha fet 'click'."
   ]
  },
  {
   "cell_type": "code",
   "execution_count": null,
   "metadata": {},
   "outputs": [],
   "source": [
    "# Codi de l'exemple\n",
    "import utils; utils.show_code('./exemple008.py', function_name='app_events')"
   ]
  },
  {
   "cell_type": "code",
   "execution_count": null,
   "metadata": {},
   "outputs": [],
   "source": [
    "# Codi de l'exemple\n",
    "import utils; utils.show_code('./exemple008.py', function_name='app_run')"
   ]
  },
  {
   "cell_type": "code",
   "execution_count": null,
   "metadata": {},
   "outputs": [],
   "source": [
    "# Codi de l'exemple\n",
    "import utils; utils.show_code('./exemple008.py', function_name='app_draw')"
   ]
  },
  {
   "cell_type": "code",
   "execution_count": null,
   "metadata": {},
   "outputs": [],
   "source": [
    "# Codi de l'exemple\n",
    "import utils; utils.run_code('./exemple008.py')"
   ]
  },
  {
   "cell_type": "markdown",
   "metadata": {},
   "source": [
    "## Arrossegar objectes\n",
    "\n",
    "Per arrossegar s'han de seguir diversos passos:\n",
    "\n",
    "- Capturar els events de botons de mouse\n",
    "- Comprovar si es fa click a sobre d'un objecte o a fora\n",
    "- Apuntar la diferència entre la posició on es fa click i l'origen de dibuix de l'objecte\n",
    "- Moure l'objecte amb el ratolí (segons la diferència anterior)\n",
    "- Alliberar l'arrosegament quan s'allibera el botó del ratolí\n",
    "\n",
    "**Nota:** Per guardar la diferència entre la posició on s'ha fet click i l'origen del dibuix, tenim una variable **\"drag_offset\"**\n",
    "\n"
   ]
  },
  {
   "cell_type": "code",
   "execution_count": null,
   "metadata": {},
   "outputs": [],
   "source": [
    "# Codi de l'exemple\n",
    "import utils; utils.show_code('./exemple009.py', function_name='app_events')"
   ]
  },
  {
   "cell_type": "code",
   "execution_count": null,
   "metadata": {},
   "outputs": [],
   "source": [
    "# Codi de l'exemple\n",
    "import utils; utils.show_code('./exemple009.py', function_name='app_run')"
   ]
  },
  {
   "cell_type": "code",
   "execution_count": null,
   "metadata": {},
   "outputs": [],
   "source": [
    "# Codi de l'exemple\n",
    "import utils; utils.show_code('./exemple009.py', function_name='app_draw')"
   ]
  },
  {
   "cell_type": "code",
   "execution_count": null,
   "metadata": {},
   "outputs": [],
   "source": [
    "# Codi de l'exemple\n",
    "import utils; utils.run_code('./exemple009.py')"
   ]
  },
  {
   "cell_type": "markdown",
   "metadata": {},
   "source": [
    "### Exercici 005\n",
    "\n",
    "Al codi **\"exercici005.py\"**, modifica l'exemple anterior per tal que quan els dos poligons estàn sobreposats i a més s'estàn arrossegant, es dibuixin tots dos de color taronja."
   ]
  },
  {
   "cell_type": "code",
   "execution_count": null,
   "metadata": {},
   "outputs": [],
   "source": [
    "# Fer anar el codi de l'exercici\n",
    "import utils; utils.run_code('./exercici005.py')"
   ]
  }
 ],
 "metadata": {
  "colab": {
   "authorship_tag": "ABX9TyPVbRvc9ZXjdvEcZF7RaE6C",
   "provenance": [],
   "toc_visible": true
  },
  "kernelspec": {
   "display_name": "Python 3",
   "name": "python3"
  },
  "language_info": {
   "codemirror_mode": {
    "name": "ipython",
    "version": 3
   },
   "file_extension": ".py",
   "mimetype": "text/x-python",
   "name": "python",
   "nbconvert_exporter": "python",
   "pygments_lexer": "ipython3",
   "version": "3.13.0"
  }
 },
 "nbformat": 4,
 "nbformat_minor": 0
}
