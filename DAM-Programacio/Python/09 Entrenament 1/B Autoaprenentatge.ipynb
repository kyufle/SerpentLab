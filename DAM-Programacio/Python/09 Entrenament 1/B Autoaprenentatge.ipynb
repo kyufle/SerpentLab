{
 "cells": [
  {
   "cell_type": "markdown",
   "metadata": {},
   "source": [
    "<div style=\"display: flex; width: 100%;\">\n",
    "    <div style=\"flex: 1; padding: 0px;\">\n",
    "        <p>© Albert Palacios Jiménez, 2023</p>\n",
    "    </div>\n",
    "    <div style=\"flex: 1; padding: 0px; text-align: right;\">\n",
    "        <img src=\"../assets/ieti.png\" height=\"32\" alt=\"Logo de IETI\" style=\"max-height: 32px;\">\n",
    "    </div>\n",
    "</div>\n",
    "<hr/>"
   ]
  },
  {
   "cell_type": "markdown",
   "metadata": {},
   "source": [
    "# Autoaprenentatge 1\n",
    "\n",
    "Aquests exercicis estàn resolts, perquè primer practiquis i després comprovis si ho has fet bé.\n",
    "\n",
    "Recorda que no hi ha una única solució correcta, hi ha diferents maneres de resoldre un mateix problema.\n",
    "\n",
    "Però no facis trampes, recorda també que cada mentida fa un sopar més agre."
   ]
  },
  {
   "cell_type": "markdown",
   "metadata": {},
   "source": [
    "## Exercici 0\n",
    "\n",
    "Fes un generador de nombres imparells entre 2 i un numero donat."
   ]
  },
  {
   "cell_type": "code",
   "execution_count": null,
   "metadata": {},
   "outputs": [],
   "source": [
    "limit = int(input(\"Escriu un número: \"))\n",
    "imparells = \"\"\n",
    "for cnt in range(0, limit):\n",
    "    unio = \", \"\n",
    "    if (cnt <= 1):\n",
    "        unio = \"\"\n",
    "    if ((cnt % 2) == 1):\n",
    "        imparells = imparells + unio + str(cnt)\n",
    "\n",
    "print(f\"Imparells fins a {limit}: {imparells}\")"
   ]
  },
  {
   "cell_type": "markdown",
   "metadata": {},
   "source": [
    "## Exercici 1\n",
    "\n",
    "Fes un programa que simuli una partida entre en Pau i la Paz\n",
    "\n",
    "Tiren una moneda a l'aire i guanya el primer que treu tres cops cara\n",
    "\n",
    "A cada tirada es mostra, segons correspon:\n",
    "```text\n",
    "En Pau ha tret cara (2), la Paz ha tret cara (1)\n",
    "```"
   ]
  },
  {
   "cell_type": "code",
   "execution_count": null,
   "metadata": {},
   "outputs": [],
   "source": [
    "import random\n",
    "def tira_moneda():\n",
    "    resultat = random.randint(1, 2)\n",
    "    if resultat == 1:\n",
    "        return \"cara\"\n",
    "    else:\n",
    "        return \"creu\"\n",
    "    \n",
    "guanyaPau = 0\n",
    "guanyaPaz = 0\n",
    "while (guanyaPau < 3 and guanyaPaz < 3):\n",
    "    modedaPau = tira_moneda()\n",
    "    modedaPaz = tira_moneda()\n",
    "    if modedaPau == \"cara\":\n",
    "        guanyaPau += 1\n",
    "    if modedaPaz == \"cara\":\n",
    "        guanyaPaz += 1\n",
    "    print(f\"En Pau ha tret {modedaPau} ({guanyaPau}), la Paz ha tret {modedaPaz} ({guanyaPaz})\")\n",
    "\n",
    "if guanyaPau >= 3:\n",
    "    print(\"Ha guanyat en Pau\")\n",
    "else:\n",
    "    print(\"Ha guanyat la Paz\")"
   ]
  },
  {
   "cell_type": "markdown",
   "metadata": {},
   "source": [
    "## Exercici 2\n",
    "\n",
    "Fes un programa que dibuixi un rectangle a partir d'asteriscos.\n",
    "\n",
    "El programa té com a entrada un ample i un alt.\n",
    "\n",
    "La part interior del rectangle ha d'estar emplenada amb o"
   ]
  },
  {
   "cell_type": "code",
   "execution_count": null,
   "metadata": {},
   "outputs": [],
   "source": [
    "def dibuixar_rectangle(ample, alt):\n",
    "    for i in range(alt):\n",
    "        if i == 0 or i == alt - 1:\n",
    "            print('*' * ample)\n",
    "        else:\n",
    "            print('*' + 'o' * (ample - 2) + '*')\n",
    "\n",
    "ample = 10\n",
    "alt = 5\n",
    "dibuixar_rectangle(ample, alt)"
   ]
  },
  {
   "cell_type": "markdown",
   "metadata": {},
   "source": [
    "## Exercici 3\n",
    "\n",
    "Fes un programa que demani una data i digui quin dia de la setmana és.\n",
    "\n",
    "Primer demana la data de naixement en format dd/mm/aaaa.\n",
    "\n",
    "Si el format no és correcte, mostra el missatge \"Format incorrecte\" i torna a demanar la data."
   ]
  },
  {
   "cell_type": "code",
   "execution_count": null,
   "metadata": {},
   "outputs": [],
   "source": [
    "# Exemple d'obtenir el dia de la setmana a partir d'una data\n",
    "import datetime\n",
    "data = datetime.datetime.strptime(\"03/11/2023\", \"%d/%m/%Y\")\n",
    "print(data.strftime(\"%A\"))"
   ]
  },
  {
   "cell_type": "code",
   "execution_count": null,
   "metadata": {},
   "outputs": [],
   "source": [
    "import datetime\n",
    "\n",
    "def obtenir_dia_setmana(data):\n",
    "    try:\n",
    "        data_obj = datetime.datetime.strptime(data, \"%d/%m/%Y\")\n",
    "        week_day = data_obj.strftime(\"%A\")\n",
    "        if (week_day == \"Monday\"):\n",
    "            dia_setmana = \"Dilluns\"\n",
    "        elif (week_day == \"Tuesday\"):\n",
    "            dia_setmana = \"Dimarts\"\n",
    "        elif (week_day == \"Wednesday\"):\n",
    "            dia_setmana = \"Dimecres\"\n",
    "        elif (week_day == \"Thursday\"):\n",
    "            dia_setmana = \"Dijous\"\n",
    "        elif (week_day == \"Friday\"):\n",
    "            dia_setmana = \"Divendres\"\n",
    "        elif (week_day == \"Saturday\"):\n",
    "            dia_setmana = \"Dissabte\"\n",
    "        else:\n",
    "            dia_setmana = \"Diumenge\"\n",
    "        return dia_setmana\n",
    "    except ValueError:\n",
    "        return \"Format incorrecte. Si us plau, escriu la data en format dd/mm/aaaa.\"\n",
    "\n",
    "while True:\n",
    "    data_input = input(\"Escriu una data (dd/mm/aaaa): \")\n",
    "    dia_setmana = obtenir_dia_setmana(data_input)\n",
    "    print(dia_setmana)\n",
    "    if dia_setmana != \"Format incorrecte. Si us plau, escriu la data en format dd/mm/aaaa.\":\n",
    "        break"
   ]
  },
  {
   "cell_type": "markdown",
   "metadata": {},
   "source": [
    "## Exercici 4\n",
    "\n",
    "Fes un programa que demani a l'usuari el radi d'un cercle (un nombre positiu) i calculi l'àrea d'aquest cercle. \n",
    "\n",
    "Si el valor escrit no és positiu, torna a demanar-lo. \n",
    "\n",
    "Mostra l'àrea del cercle al final.\n",
    "\n",
    "L'àra d'un cercle es calcula amb la fórmula A = π * (r^2), on r és el radi."
   ]
  },
  {
   "cell_type": "code",
   "execution_count": null,
   "metadata": {},
   "outputs": [],
   "source": [
    "# Exemple de PI en python\n",
    "import math\n",
    "print(math.pi)"
   ]
  },
  {
   "cell_type": "code",
   "execution_count": null,
   "metadata": {},
   "outputs": [],
   "source": [
    "import math\n",
    "\n",
    "def area_cercle(radi):\n",
    "    area = math.pi * (radi ** 2)\n",
    "    return area\n",
    "\n",
    "while True:\n",
    "    radi = float(input(\"Escriu el radi d'un cercle (nombre positiu): \"))\n",
    "    if radi >= 0:\n",
    "        print(f\"L'àrea del cercle amb radi {radi} és {area_cercle(radi):.2f}\")\n",
    "        break\n",
    "    else:\n",
    "        print(\"Si us plau, escriu un nombre positiu.\")"
   ]
  },
  {
   "cell_type": "markdown",
   "metadata": {},
   "source": [
    "## Exercici 5\n",
    "\n",
    "Fes un programa que pregunti quants nombres es volen generar.\n",
    "\n",
    "Si l'usuari escriu un valor incorrecte, el torna a demanar.\n",
    "\n",
    "Després ha de generar 'x' nombres aleatoris (entre 0 i x, on x és el nombre escrit per l'usuari)\n",
    "\n",
    "Per cada nombre generat, mostra els següents missatges segons correspongui:\n",
    "\n",
    "L - El nombre X és més gran que l'anterior\n",
    "\n",
    "L - En nombre X és igual a l'anterior\n",
    "\n",
    "L - El nombre X és més petit que l'anterior\n",
    "\n",
    "I així fins que hagi generat tots els nombres.\n",
    "\n",
    "L és el número de línia comença per 0"
   ]
  },
  {
   "cell_type": "code",
   "execution_count": null,
   "metadata": {},
   "outputs": [],
   "source": [
    "import random\n",
    "\n",
    "def mostrar_comparacions(quantitat):\n",
    "    if quantitat <= 0:\n",
    "        return\n",
    "\n",
    "    anterior = random.randint(0, quantitat)\n",
    "    print(f\"El nombre {anterior} és igual a l'anterior\")\n",
    "\n",
    "    for cnt in range(quantitat - 1):\n",
    "        nombre = random.randint(0, quantitat)\n",
    "        if nombre > anterior:\n",
    "            print(f\"{cnt} - El nombre {nombre} és més gran que l'anterior\")\n",
    "        elif nombre < anterior:\n",
    "            print(f\"{cnt} - El nombre {nombre} és més petit que l'anterior\")\n",
    "        else:\n",
    "            print(f\"{cnt} - El nombre {nombre} és igual a l'anterior\")\n",
    "        \n",
    "        anterior = nombre\n",
    "\n",
    "while True:\n",
    "    quantitat = int(input(\"Escriu la quantitat de nombres a generar: \"))\n",
    "    if quantitat > 0:\n",
    "        mostrar_comparacions(quantitat)\n",
    "        break\n",
    "    else:\n",
    "        print(\"Si us plau, escriu un valor vàlid major que zero.\")\n",
    "\n"
   ]
  },
  {
   "cell_type": "markdown",
   "metadata": {},
   "source": [
    "## Exercici 6\n",
    "\n",
    "Fes un programa que a partir de dos nombres per dividir\n",
    "\n",
    "El resultat ha d'estar formatat amb columnes d'aquesta manera:\n",
    "```text\n",
    "Operands       |   Resultat   |         Residu|\n",
    "10 / 3         |     3.33     |              1|\n",
    "```\n",
    "Cada columna ha de tenir 15 caràcters de llarg.\n",
    "* La primera columna ha de ser alineada a l'esquerra\n",
    "* La segona columna ha de ser centrada\n",
    "* La tercera columna ha de ser alineada a la dreta"
   ]
  },
  {
   "cell_type": "code",
   "execution_count": null,
   "metadata": {},
   "outputs": [],
   "source": [
    "numerador = 15\n",
    "denominador = 4\n",
    "\n",
    "resultat = numerador / denominador\n",
    "residu = numerador % denominador\n",
    "\n",
    "format_operands = f\"{numerador} / {denominador}\"\n",
    "format_resultat = f\"{resultat:.2f}\"\n",
    "format_residu = f\"{residu}\"\n",
    "\n",
    "print(f\"{'Operands'.ljust(15)} |{'Resultat'.center(15)} |{'Residu'.rjust(15)}|\")\n",
    "print(f\"{format_operands.ljust(15)} |{format_resultat.center(15)} |{format_residu.rjust(15)}|\")"
   ]
  },
  {
   "cell_type": "markdown",
   "metadata": {},
   "source": [
    "## Exercici 7\n",
    "\n",
    "Fes un programa que demani a l'usuari un número entre 1 i 9.\n",
    "\n",
    "Si l'usuari escriu un valor incorrecte, el torna a demanar.\n",
    "\n",
    "Deprés fes una funció (es_multiple) que rep dos valors, un número i un múltiple. La funció retorna True si el número és múltiple del múltiple.\n",
    "\n",
    "És a dir:\n",
    "```python\n",
    "es_multiple(10, 5) # True\n",
    "es_multiple(10, 3) # False\n",
    "```\n",
    "\n",
    "Després fes que el programa generi un número aleatori entre 50 i 100.\n",
    "\n",
    "Finalment, el programa ha de:\n",
    "* Mostrar tots els múltiples entre 1 i el número aleatori generat.\n",
    "* Multiplicar tots els múltiples entre 1 i el número aleatori generat."
   ]
  },
  {
   "cell_type": "code",
   "execution_count": null,
   "metadata": {},
   "outputs": [],
   "source": [
    "import random\n",
    "\n",
    "# Funció per comprovar si un número és múltiple d'un altre\n",
    "def es_multiple(numero, multiple):\n",
    "    return numero % multiple == 0\n",
    "\n",
    "multiple_usuari = 0\n",
    "# Demana a l'usuari un número entre 1 i 9\n",
    "while True:\n",
    "    try:\n",
    "        multiple_usuari = int(input(\"Escriu un número entre 1 i 9: \"))\n",
    "        if 1 <= multiple_usuari and multiple_usuari <= 9:\n",
    "            break\n",
    "        else:\n",
    "            print(\"Si us plau, escriu un valor entre 1 i 9.\")\n",
    "    except ValueError:\n",
    "        print(\"Si us plau, escriu un nombre enter vàlid.\")\n",
    "\n",
    "# Genera un número aleatori entre 50 i 100\n",
    "numero_aleatori = random.randint(50, 100)\n",
    "\n",
    "# Calcula i mostra els múltiples del número escrit entre 0 i el número aleatori\n",
    "print(f\"Número aleatori: {numero_aleatori}\")\n",
    "print(f\"Múltiples de {multiple_usuari} entre 0 i {numero_aleatori}:\")\n",
    "\n",
    "multiplicacio = 1\n",
    "txt = \"\";\n",
    "for i in range(1, numero_aleatori + 1):\n",
    "    if es_multiple(i, multiple_usuari):\n",
    "        multiplicacio = multiplicacio * i\n",
    "        txt = txt + str(i) + \", \"\n",
    "\n",
    "print(f\"Múltiples: {txt[2:]}\")\n",
    "print(f\"Multiplicació: {multiplicacio}\")"
   ]
  },
  {
   "cell_type": "markdown",
   "metadata": {},
   "source": [
    "## Exercici 8\n",
    "\n",
    "Fes un programa que dibuixi les lletres majúscules de l'abecedari en 5 files i 6 columnes d'aquesta manera:\n",
    "\n",
    "```text\n",
    "A B C D E F\n",
    "G H I J K L\n",
    "M N O P Q R\n",
    "S T U V W X\n",
    "Y Z\n",
    "```\n",
    "Fes servir la funció chr() per convertir un número en un caràcter.\n",
    "\n",
    "El valor ASCII de la lletra A és 65, el de la Z és 90."
   ]
  },
  {
   "cell_type": "code",
   "execution_count": null,
   "metadata": {},
   "outputs": [],
   "source": [
    "# Inicialitzem el valor ASCII inicial per 'A'\n",
    "valor_ascii = 65\n",
    "\n",
    "# Nombre de files i columnes\n",
    "files = 5\n",
    "columnes = 6\n",
    "\n",
    "for fila in range(files):\n",
    "    txt = \"\"\n",
    "    for columna in range(columnes):\n",
    "        if (valor_ascii <= 90):\n",
    "            txt = txt + \" \" + chr(valor_ascii)\n",
    "        valor_ascii += 1\n",
    "    print(txt)"
   ]
  },
  {
   "cell_type": "markdown",
   "metadata": {},
   "source": [
    "## Exercici 9\n",
    "\n",
    "Fes un programa que dibuixi la taula invertida següent:\n",
    "\n",
    "```text\n",
    "f e d c b a \n",
    "l k j i h g \n",
    "r q p o n m \n",
    "x w v u t s \n",
    "z y \n",
    "```\n",
    "\n",
    "El valor ASCII de la lletra a és 97, el de la z és 122."
   ]
  },
  {
   "cell_type": "code",
   "execution_count": null,
   "metadata": {},
   "outputs": [],
   "source": [
    "# Inicialitzem el valor ASCII inicial per 'A'\n",
    "valor_ascii = 97\n",
    "\n",
    "# Nombre de files i columnes\n",
    "files = 5\n",
    "columnes = 6\n",
    "\n",
    "for fila in range(files):\n",
    "    txt = \"\"\n",
    "    for columna in range(columnes):\n",
    "        if (valor_ascii <= 122):\n",
    "            txt = chr(valor_ascii) + \" \" + txt\n",
    "        valor_ascii += 1\n",
    "    print(txt)"
   ]
  },
  {
   "cell_type": "markdown",
   "metadata": {},
   "source": [
    "## Exercici 10\n",
    "\n",
    "Fes un programa que dibuixi la taula alternada següent:\n",
    "```text\n",
    "A 1 B 2 C 3 D 4\n",
    "E 5 F 6 G 7 H 8\n",
    "I 9 J 0 K 1 L 2\n",
    "M 3 N 4 O 5 P 6\n",
    "```\n",
    "El valor ASCII de la lletra A és 65, el de la P és 80.\n",
    "El valor ASCII del número 1 és 49, el del 9 és 57."
   ]
  },
  {
   "cell_type": "code",
   "execution_count": null,
   "metadata": {},
   "outputs": [],
   "source": [
    "# Valors ASCII\n",
    "ascii_A = 65\n",
    "ascii_P = 80\n",
    "ascii_1 = 49\n",
    "ascii_9 = 57\n",
    "\n",
    "# Nombre de files i columnes\n",
    "files = 4\n",
    "columnes = 8\n",
    "\n",
    "# Inicialitzem els valors ASCII actuals\n",
    "valor_letra = ascii_A\n",
    "valor_numero = ascii_1\n",
    "\n",
    "for fila in range(files):\n",
    "    txt = \"\"\n",
    "    for columna in range(columnes):\n",
    "        # Alterna entre lletra i número en cada columna\n",
    "        if columna % 2 == 0:\n",
    "            caracter = chr(valor_letra)\n",
    "            valor_letra += 1\n",
    "        else:\n",
    "            caracter = chr(valor_numero)\n",
    "            valor_numero += 1\n",
    "            if valor_numero > ascii_9:\n",
    "                valor_numero = ascii_1 - 1\n",
    "        txt = txt + \" \" + caracter\n",
    "    print(txt)"
   ]
  }
 ],
 "metadata": {
  "kernelspec": {
   "display_name": "Python 3",
   "language": "python",
   "name": "python3"
  },
  "language_info": {
   "codemirror_mode": {
    "name": "ipython",
    "version": 3
   },
   "file_extension": ".py",
   "mimetype": "text/x-python",
   "name": "python",
   "nbconvert_exporter": "python",
   "pygments_lexer": "ipython3",
   "version": "3.11.5"
  },
  "orig_nbformat": 4
 },
 "nbformat": 4,
 "nbformat_minor": 2
}
