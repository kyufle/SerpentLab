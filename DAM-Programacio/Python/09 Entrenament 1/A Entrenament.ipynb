{
 "cells": [
  {
   "cell_type": "markdown",
   "metadata": {},
   "source": [
    "<div style=\"display: flex; width: 100%;\">\n",
    "    <div style=\"flex: 1; padding: 0px;\">\n",
    "        <p>© Albert Palacios Jiménez, 2023</p>\n",
    "    </div>\n",
    "    <div style=\"flex: 1; padding: 0px; text-align: right;\">\n",
    "        <img src=\"../assets/ieti.png\" height=\"32\" alt=\"Logo de IETI\" style=\"max-height: 32px;\">\n",
    "    </div>\n",
    "</div>\n",
    "<hr/>"
   ]
  },
  {
   "cell_type": "markdown",
   "metadata": {},
   "source": [
    "# Entrenament 1\n",
    "\n",
    "Anem a fer alguns exercicis, per anar agafant pràctica."
   ]
  },
  {
   "cell_type": "markdown",
   "metadata": {},
   "source": [
    "## Exercici 0\n",
    "\n",
    "Fes una funció (escriu_imparells) que tingui com a paràmetre un número enter, i escrigui tots els valors imparells entre 0 i el número escrit."
   ]
  },
  {
   "cell_type": "code",
   "execution_count": null,
   "metadata": {},
   "outputs": [],
   "source": [
    "# Fes aquí el codi de l'exericici 0"
   ]
  },
  {
   "cell_type": "markdown",
   "metadata": {},
   "source": [
    "## Exercici 1\n",
    "\n",
    "Fes un programa que demani a l'usuari el seu nom, i fent ús d'un bucle 'for' escrigui cada lletra en una línia diferent perquè quedi en format vertical.\n",
    "\n",
    "Exemple:\n",
    "```python\n",
    "Escriu el teu nom: Tom\n",
    "T\n",
    "o\n",
    "m\n",
    "```\n",
    "\n",
    "**Nota**: Per obtenir un caràcter d'una cadena de text, pots fer servir [X], on X és la posició que vols obtenir."
   ]
  },
  {
   "cell_type": "code",
   "execution_count": null,
   "metadata": {},
   "outputs": [],
   "source": [
    "# Exemple d'obtenir un caràcter d'un string\n",
    "nom=\"Albert\"\n",
    "print(nom[0]) # Escriu A\n",
    "print(nom[2]) # Escriu b\n",
    "print(nom[4]) # Escriu r"
   ]
  },
  {
   "cell_type": "code",
   "execution_count": null,
   "metadata": {},
   "outputs": [],
   "source": [
    "# Fes aquí el codi de l'exercici 1"
   ]
  },
  {
   "cell_type": "markdown",
   "metadata": {},
   "source": [
    "## Exercici 2\n",
    "\n",
    "Fes un programa que demani a l'usuari que escrigui una paraula.\n",
    "\n",
    "Segueixi demanant paraules fins que l'usuari escrigui \"fi\". \n",
    "\n",
    "Finalment, es mostra una cadena de text amb totes les paraules escrites separades per espai"
   ]
  },
  {
   "cell_type": "code",
   "execution_count": null,
   "metadata": {},
   "outputs": [],
   "source": [
    "# Fes aquí el codi de l'exercici 2"
   ]
  },
  {
   "cell_type": "markdown",
   "metadata": {},
   "source": [
    "## Exerici 3\n",
    "\n",
    "Fes un programa que demani a l'usuari una direcció de correu electrònic i validi que:\n",
    "\n",
    "- Conté un símbol @\n",
    "- Conté un punt\n",
    "- El símbol @ no està al principi\n",
    "- El símbol @ no està al final\n",
    "- El punt no està al principi\n",
    "- El punt no està al final\n",
    "- El símbol @ i el punt no estan junts\n",
    "\n",
    "El programa tornarà a demanar el correu electrònic, fins que se n'escrigui un de vàlid.\n"
   ]
  },
  {
   "cell_type": "code",
   "execution_count": null,
   "metadata": {},
   "outputs": [],
   "source": [
    "# Fes aquí el codi de l'exercici 3"
   ]
  },
  {
   "cell_type": "markdown",
   "metadata": {},
   "source": [
    "## Exerici 4\n",
    "\n",
    "Fes un programa que doni només 3 intents a l'usuari per escriure una contrasenya correcta.\n",
    "\n",
    "Si l'usuari escriu la contrasenya correcta, el programa escriu \"Accés permès\" i s'acaba.\n",
    "\n",
    "Si l'usuari escriu una contrasenya incorrecta, el programa escriu \"Contrasenya incorrecta\" i torna a demanar la contrasenya.\n",
    "\n",
    "La contrasenya correcta és \"1234\"."
   ]
  },
  {
   "cell_type": "code",
   "execution_count": null,
   "metadata": {},
   "outputs": [],
   "source": [
    "# Fes aquí el codi de l'exercici 4"
   ]
  },
  {
   "cell_type": "markdown",
   "metadata": {},
   "source": [
    "## Exerici 5\n",
    "\n",
    "Fes una funció (compta_vendes), que demani a l'usuari el valor en € d'unes quantes vendes. La funció ha de retornar:\n",
    "\n",
    "- El nombre de vendes entrades\n",
    "- La suma total\n",
    "- La mitjana\n",
    "\n",
    "Per deixar d'escriure vendes, l'usuari escriu 'fi'.\n",
    "\n",
    "Al final, el programa ha de mostrar:\n",
    "\n",
    "```\n",
    "S'han apuntat X vendes, amb un total de Y € i una mitjana de Z €.\n",
    "```"
   ]
  },
  {
   "cell_type": "code",
   "execution_count": null,
   "metadata": {},
   "outputs": [],
   "source": [
    "# Fes aquí el codi de l'exercici 5"
   ]
  },
  {
   "cell_type": "markdown",
   "metadata": {},
   "source": [
    "## Exerici 6\n",
    "\n",
    "Fes una funció (calcula_comisió), que demana a un empleat que escrigui les vendes que ha realitzat.\n",
    "\n",
    "Demanarà vendes fins que l'empleat escrigui 'fi'.\n",
    "\n",
    "Per cada venda, es calcula la comissió següent:\n",
    "\n",
    "* Si la venda és inferior a 1000 €, la comissió és del 5%\n",
    "* Si la venda és igual o superior a 1000 € i inferior a 5000 €, la comissió és del 7%\n",
    "* Si la venda és igual o superior a 5000 €, la comissió és del 10%\n",
    "\n",
    "La funció ha de retornar:\n",
    "\n",
    "* El nombre de vendes entrades\n",
    "* La suma total\n",
    "* La suma sense la comissió\n",
    "* La mitjana\n",
    "* La comissió total\n",
    "\n",
    "Al final, el programa ha de mostrar:\n",
    "```text\n",
    "S'han entrat X vendes, amb un total de Y € i una mitjana de Z €. \n",
    "S'ha aconseguit una comissió de W €.\n",
    "```"
   ]
  },
  {
   "cell_type": "code",
   "execution_count": null,
   "metadata": {},
   "outputs": [],
   "source": [
    "# Fes aquí el codi de l'exercici 6"
   ]
  },
  {
   "cell_type": "markdown",
   "metadata": {},
   "source": [
    "## Exerici 7\n",
    "\n",
    "**Compta el preu de la frase.**\n",
    "\n",
    "Fes una funció que rep una frase com a paràmetre, i torna el preu de la frase.\n",
    "\n",
    "El preu de la frase és:\n",
    "\n",
    "* 0.05 per cada lletra\n",
    "* 0.10 per cada número\n",
    "* 0.05 per cada 'a', o 'A'\n",
    "* 0.15 per cada 'b', 'f', 'h', 'l', 'p', 't', 'v'\n",
    "* 0.30 per cada 'G', 'J', 'K', 'M', 'N', 'Q', 'Z'\n",
    "\n",
    "Comprova:\n",
    "```text\n",
    "El preu de la frase 'Hello World 123 AaBbZz' és: 2.4\n",
    "El preu de la frase 'En Gabriel ha comprat 3 kg de taronges' és: 2.9\n",
    "El preu de la frase 'Jo tinc 2 germans, un es diu Quim i l\\'altre Zahir' és: 3.69\n",
    "```\n"
   ]
  },
  {
   "cell_type": "code",
   "execution_count": null,
   "metadata": {},
   "outputs": [],
   "source": [
    "# Exemples de trobar una lletra en un string que et poden ser útils\n",
    "nom=\"Albert\"\n",
    "print(nom.find(\"A\"))\n",
    "print('b' in nom) "
   ]
  },
  {
   "cell_type": "code",
   "execution_count": null,
   "metadata": {},
   "outputs": [],
   "source": [
    "# Fes aquí el codi de l'exercici 7"
   ]
  },
  {
   "cell_type": "markdown",
   "metadata": {},
   "source": [
    "## Exerici 8\n",
    "\n",
    "Fes una funció que rebi un número llarg com a paràmetre, el transformi a cadena text i retorni dos paràmetres:\n",
    "\n",
    "* El nombre de números parells\n",
    "* El nombre de números senars"
   ]
  },
  {
   "cell_type": "code",
   "execution_count": null,
   "metadata": {},
   "outputs": [],
   "source": [
    "# Exemple de com saber si un número és parell o senar\n",
    "num = 4\n",
    "if (num % 2 == 0):\n",
    "    print(\"El número és parell\")\n",
    "else:\n",
    "    print(\"El número és senar\")\n",
    "\n",
    "# Exemple de com recórrer una cadena de text caràcter a caràcter\n",
    "nom=\"Bob\"\n",
    "for lletra in nom:\n",
    "    print(lletra)"
   ]
  },
  {
   "cell_type": "code",
   "execution_count": null,
   "metadata": {},
   "outputs": [],
   "source": [
    "# Fes aquí el codi de l'exercici 8"
   ]
  },
  {
   "cell_type": "markdown",
   "metadata": {},
   "source": [
    "## Exerici 9\n",
    "\n",
    "Fes una funció (porcio_taula) que rebi tres paràmetres:\n",
    "\n",
    "* Número\n",
    "* Valor inici\n",
    "* Valor final\n",
    "\n",
    "La funció ha d'escriure la porció de la taula de multiplicar entre 'inici' i 'final'\n",
    "\n",
    "Exemples:\n",
    "\n",
    "```python\n",
    "porcio_taula(2, 4, 7)\n",
    "4 x 2 = 8\n",
    "5 x 2 = 10\n",
    "6 x 2 = 12\n",
    "7 x 2 = 14\n",
    "\n",
    "porcio_taula(5, 3, 5)\n",
    "3 x 5 = 15\n",
    "4 x 5 = 20\n",
    "5 x 5 = 25\n",
    "```"
   ]
  },
  {
   "cell_type": "code",
   "execution_count": null,
   "metadata": {},
   "outputs": [],
   "source": [
    "# Fes aquí el codi de l'exercici 9"
   ]
  },
  {
   "cell_type": "markdown",
   "metadata": {},
   "source": [
    "## Exerici 10\n",
    "\n",
    "Fes una funció (taules_sumar) que rebi dos paràmetres:\n",
    "\n",
    "* Taula inicial\n",
    "* Taula final\n",
    "\n",
    "I escrigui per pantalla les taules de sumar des de la taula inicial fins a la taula final, per valors entre 0 i 4.\n",
    "\n",
    "Ha de separar les taules amb cinc guions \"-----\".\n",
    "\n",
    "Exemples:\n",
    "\n",
    "```python\n",
    "taules_sumar(3, 4)\n",
    "3 + 0 = 3\n",
    "3 + 1 = 4\n",
    "3 + 2 = 5\n",
    "3 + 3 = 6\n",
    "3 + 4 = 7\n",
    "-----\n",
    "4 + 0 = 4\n",
    "4 + 1 = 5\n",
    "4 + 2 = 6\n",
    "4 + 3 = 7\n",
    "4 + 4 = 8\n",
    "-----\n",
    "\n",
    "taules_sumar(5, 7)\n",
    "5 + 0 = 5\n",
    "5 + 1 = 6\n",
    "5 + 2 = 7\n",
    "5 + 3 = 8\n",
    "5 + 4 = 9\n",
    "-----\n",
    "6 + 0 = 6\n",
    "6 + 1 = 7\n",
    "6 + 2 = 8\n",
    "6 + 3 = 9\n",
    "6 + 4 = 10\n",
    "-----\n",
    "7 + 0 = 7\n",
    "7 + 1 = 8\n",
    "7 + 2 = 9\n",
    "7 + 3 = 10\n",
    "7 + 4 = 11\n",
    "-----\n",
    "```"
   ]
  },
  {
   "cell_type": "code",
   "execution_count": null,
   "metadata": {},
   "outputs": [],
   "source": [
    "# Fes aquí el codi de l'exercici 10"
   ]
  },
  {
   "cell_type": "markdown",
   "metadata": {},
   "source": [
    "## Exerici 11\n",
    "\n",
    "Fes un programa que a partir de dos bucles anidats (un bucle dins d'un altre), mostri la següent taula:\n",
    "\n",
    "```text\n",
    "x,y\n",
    "0,0 1,0 2,0 3,0 4,0 5,0\n",
    "0,1 1,1 2,1 3,1 4,1 5,1\n",
    "0,2 1,2 2,2 3,2 4,2 5,2\n",
    "0,3 1,3 2,3 3,3 4,3 5,3\n",
    "0,4 1,4 2,4 3,4 4,4 5,4\n",
    "0,5 1,5 2,5 3,5 4,5 5,5\n",
    "\n",
    "```"
   ]
  },
  {
   "cell_type": "code",
   "execution_count": null,
   "metadata": {},
   "outputs": [],
   "source": [
    "# Fes aquí el codi de l'exercici 11"
   ]
  },
  {
   "cell_type": "markdown",
   "metadata": {},
   "source": [
    "## Exercici 12\n",
    "\n",
    "Fes un programa que mostri el següent menú:\n",
    "```text\n",
    "    CALCULADORA\n",
    "    Menú Principal\n",
    "\n",
    "    1 - Sumar\n",
    "    2 - Restar\n",
    "    3 - Multiplicar\n",
    "    4 - Dividir\n",
    "    0 - Sortir\n",
    "    Opció: \n",
    "```\n",
    "L'usuari escriu el número d'opció, si s'escull una opció no coneguda \n",
    "es mostra el menú de nou amb el text \"Opció incorrecta\" a sobre de la línia \"Opció: \"\n",
    "\n",
    "Un cop escollida una\n",
    "\n",
    "* Si és la 0 s'acaba el programa.\n",
    "* Si és una altra, demana dos números i mostra el resultat de l'operació."
   ]
  },
  {
   "cell_type": "code",
   "execution_count": null,
   "metadata": {},
   "outputs": [],
   "source": [
    "# Fes aquí el codi de l'exercici 12"
   ]
  },
  {
   "cell_type": "markdown",
   "metadata": {},
   "source": [
    "## Exercici 13\n",
    "\n",
    "Fes un programa que mostri i compti els múltiples de 7 entre 1 i 1000\n",
    "\n",
    "Nota, els múltiples de 7 dónen 0 com a residu quan es divideixen entre 7.\n",
    "\n",
    "Per exemple:\n",
    "```text\n",
    "7 / 7 = 1 i residu 0, és múltiple de 7\n",
    "14 / 7 = 2 i residu 0, és múltiple de 7\n",
    "15 / 7 = 2 i residu 1, no és múltiple de 7\n",
    "21 / 7 = 3 i residu 0, és múltiple de 7\n",
    "27 / 7 = 3 i residu 6, no és múltiple de 7\n",
    "```\n",
    "Per exemple, per 149:\n",
    "22: 0, 7, 14, 21, 28, 35, 42, 49, 56, 63, 70, 77, 84, 91, 98, 105, 112, 119, 126, 133, 140, 147, "
   ]
  },
  {
   "cell_type": "code",
   "execution_count": null,
   "metadata": {},
   "outputs": [],
   "source": [
    "# Fes aquí el codi de l'exercici 13\n",
    "## Exercici 14\n",
    "\n",
    "**Programa el següent joc**\n",
    "\n",
    "La Clara i el Jordi estan competint en una cursa especial. \n",
    "\n",
    "Cada un comença a la posició 0 en una línia numèrica. La meta està a la posició 10.\n",
    "\n",
    "El joc funciona de la següent manera:\n",
    "\n",
    "Cada torn, un jugador tira un dau virtual:\n",
    "\n",
    "* Si surt 1 o 2, avança un pas, dos o tres\n",
    "* Si surt 3 o 4, es queda on està.\n",
    "* Si surt 5 o 6, retrocedeix un pas.\n",
    "\n",
    "El joc continua fins que un dels dos jugadors arriba a la meta.\n",
    "\n",
    "La sortida ha de ser d'aquest estil:\n",
    "```text\n",
    "La Clara ha tret un 1 i avança a la posició 1\n",
    "El Jordi ha tret un 5 i retrocedeix a la posició -1\n",
    "La Clara ha tret un 3 i es queda a la posició 1\n",
    "...\n",
    "La Clara ha arribat a la meta i guanya la cursa!\n",
    "```"
   ]
  },
  {
   "cell_type": "code",
   "execution_count": 12,
   "metadata": {},
   "outputs": [
    {
     "name": "stdout",
     "output_type": "stream",
     "text": [
      "\n",
      " La Clara ha tret un 5 i Clara retrocedeix a la posició -1\n",
      " En Jordi ha tret un 4Jordi es queda a la posició 0\n",
      "\n",
      " La Clara ha tret un 6 i Clara retrocedeix a la posició -2\n",
      " En Jordi ha tret un 1Jordi avança a la posició 3\n",
      "\n",
      " La Clara ha tret un 2 i Clara avança a la posició -1\n",
      " En Jordi ha tret un 5Jordi retrocedeix a la posició 2\n",
      "\n",
      " La Clara ha tret un 2 i Clara avança a la posició 2\n",
      " En Jordi ha tret un 2Jordi avança a la posició 3\n",
      "\n",
      " La Clara ha tret un 1 i Clara avança a la posició 5\n",
      " En Jordi ha tret un 6Jordi retrocedeix a la posició 2\n",
      "\n",
      " La Clara ha tret un 3 i Clara es queda a la posició 5\n",
      " En Jordi ha tret un 6Jordi retrocedeix a la posició 1\n",
      "\n",
      " La Clara ha tret un 5 i Clara retrocedeix a la posició 4\n",
      " En Jordi ha tret un 3Jordi es queda a la posició 1\n",
      "\n",
      " La Clara ha tret un 3 i Clara es queda a la posició 4\n",
      " En Jordi ha tret un 5Jordi retrocedeix a la posició 0\n",
      "\n",
      " La Clara ha tret un 2 i Clara avança a la posició 6\n",
      " En Jordi ha tret un 6Jordi retrocedeix a la posició -1\n",
      "\n",
      " La Clara ha tret un 4 i Clara es queda a la posició 6\n",
      " En Jordi ha tret un 5Jordi retrocedeix a la posició -2\n",
      "\n",
      " La Clara ha tret un 3 i Clara es queda a la posició 6\n",
      " En Jordi ha tret un 1Jordi avança a la posició 0\n",
      "\n",
      " La Clara ha tret un 3 i Clara es queda a la posició 6\n",
      " En Jordi ha tret un 1Jordi avança a la posició 2\n",
      "\n",
      " La Clara ha tret un 3 i Clara es queda a la posició 6\n",
      " En Jordi ha tret un 1Jordi avança a la posició 3\n",
      "\n",
      " La Clara ha tret un 2 i Clara avança a la posició 8\n",
      " En Jordi ha tret un 4Jordi es queda a la posició 3\n",
      "\n",
      " La Clara ha tret un 6 i Clara retrocedeix a la posició 7\n",
      " En Jordi ha tret un 3Jordi es queda a la posició 3\n",
      "\n",
      " La Clara ha tret un 6 i Clara retrocedeix a la posició 6\n",
      " En Jordi ha tret un 3Jordi es queda a la posició 3\n",
      "\n",
      " La Clara ha tret un 4 i Clara es queda a la posició 6\n",
      " En Jordi ha tret un 2Jordi avança a la posició 6\n",
      "\n",
      " La Clara ha tret un 3 i Clara es queda a la posició 6\n",
      " En Jordi ha tret un 6Jordi retrocedeix a la posició 5\n",
      "\n",
      " La Clara ha tret un 3 i Clara es queda a la posició 6\n",
      " En Jordi ha tret un 4Jordi es queda a la posició 5\n",
      "\n",
      " La Clara ha tret un 3 i Clara es queda a la posició 6\n",
      " En Jordi ha tret un 4Jordi es queda a la posició 5\n",
      "\n",
      " La Clara ha tret un 5 i Clara retrocedeix a la posició 5\n",
      " En Jordi ha tret un 5Jordi retrocedeix a la posició 4\n",
      "\n",
      " La Clara ha tret un 4 i Clara es queda a la posició 5\n",
      " En Jordi ha tret un 4Jordi es queda a la posició 4\n",
      "\n",
      " La Clara ha tret un 6 i Clara retrocedeix a la posició 4\n",
      " En Jordi ha tret un 6Jordi retrocedeix a la posició 3\n",
      "\n",
      " La Clara ha tret un 3 i Clara es queda a la posició 4\n",
      " En Jordi ha tret un 4Jordi es queda a la posició 3\n",
      "\n",
      " La Clara ha tret un 5 i Clara retrocedeix a la posició 3\n",
      " En Jordi ha tret un 5Jordi retrocedeix a la posició 2\n",
      "\n",
      " La Clara ha tret un 3 i Clara es queda a la posició 3\n",
      " En Jordi ha tret un 1Jordi avança a la posició 3\n",
      "\n",
      " La Clara ha tret un 4 i Clara es queda a la posició 3\n",
      " En Jordi ha tret un 4Jordi es queda a la posició 3\n",
      "\n",
      " La Clara ha tret un 1 i Clara avança a la posició 4\n",
      " En Jordi ha tret un 6Jordi retrocedeix a la posició 2\n",
      "\n",
      " La Clara ha tret un 5 i Clara retrocedeix a la posició 3\n",
      " En Jordi ha tret un 4Jordi es queda a la posició 2\n",
      "\n",
      " La Clara ha tret un 5 i Clara retrocedeix a la posició 2\n",
      " En Jordi ha tret un 2Jordi avança a la posició 5\n",
      "\n",
      " La Clara ha tret un 2 i Clara avança a la posició 4\n",
      " En Jordi ha tret un 1Jordi avança a la posició 7\n",
      "\n",
      " La Clara ha tret un 2 i Clara avança a la posició 5\n",
      " En Jordi ha tret un 1Jordi avança a la posició 9\n",
      "\n",
      " La Clara ha tret un 4 i Clara es queda a la posició 5\n",
      " En Jordi ha tret un 3Jordi es queda a la posició 9\n",
      "\n",
      " La Clara ha tret un 3 i Clara es queda a la posició 5\n",
      " En Jordi ha tret un 3Jordi es queda a la posició 9\n",
      "\n",
      " La Clara ha tret un 5 i Clara retrocedeix a la posició 4\n",
      " En Jordi ha tret un 3Jordi es queda a la posició 9\n",
      "\n",
      " La Clara ha tret un 6 i Clara retrocedeix a la posició 3\n",
      " En Jordi ha tret un 6Jordi retrocedeix a la posició 8\n",
      "\n",
      " La Clara ha tret un 5 i Clara retrocedeix a la posició 2\n",
      " En Jordi ha tret un 3Jordi es queda a la posició 8\n",
      "En Jordi guanya\n"
     ]
    }
   ],
   "source": [
    "# Fes aquí el codi de l'exercici 14\n",
    "import random\n",
    "\n",
    "def tira_dau():\n",
    "    return random.randint(1, 6)\n",
    "\n",
    "def calcular_moviment(persona, dau, posicio):\n",
    "    txt = \"\"\n",
    "    if dau == 1 or dau == 2:\n",
    "        posicio = posicio + random.randint(1,3)\n",
    "        txt = f\"{persona} avança a la posició {posicio}\"\n",
    "    elif dau == 3 or dau == 4:\n",
    "        txt = f\"{persona} es queda a la posició {posicio}\"\n",
    "    else:\n",
    "        posicio = posicio - 1\n",
    "        txt = f\"{persona} retrocedeix a la posició {posicio}\"\n",
    "    return posicio, txt\n",
    "\n",
    "pos_clara = 0\n",
    "pos_jordi = 0\n",
    "\n",
    "while True:\n",
    "    txt = \"\"\n",
    "    tir_clara = tira_dau()\n",
    "    txt = f\"\\n La Clara ha tret un {tir_clara} i \"\n",
    "    pos_clara, tmp_txt = calcular_moviment(\"Clara\", tir_clara, pos_clara)\n",
    "    txt = txt + tmp_txt\n",
    "    if (pos_clara >= 10):\n",
    "        print(\"La Clara guanya\")\n",
    "        break\n",
    "    tir_jordi = tira_dau()\n",
    "    txt = txt + f\"\\n En Jordi ha tret un {tir_jordi} i \"\n",
    "    pos_jordi, tmp_txt = calcular_moviment(\"Jordi\", tir_jordi, pos_jordi)\n",
    "    txt = txt + tmp_txt\n",
    "    if (pos_jordi >= 10):\n",
    "        print(\"En Jordi guanya\")\n",
    "        break\n",
    "    print(txt)\n"
   ]
  }
 ],
 "metadata": {
  "kernelspec": {
   "display_name": "Python 3",
   "language": "python",
   "name": "python3"
  },
  "language_info": {
   "codemirror_mode": {
    "name": "ipython",
    "version": 3
   },
   "file_extension": ".py",
   "mimetype": "text/x-python",
   "name": "python",
   "nbconvert_exporter": "python",
   "pygments_lexer": "ipython3",
   "version": "3.9.6"
  },
  "orig_nbformat": 4
 },
 "nbformat": 4,
 "nbformat_minor": 2
}
