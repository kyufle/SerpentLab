{
 "cells": [
  {
   "cell_type": "markdown",
   "metadata": {},
   "source": [
    "<div style=\"display: flex; width: 100%;\">\n",
    "    <div style=\"flex: 1; padding: 0px;\">\n",
    "        <p>© Albert Palacios Jiménez, 2023</p>\n",
    "    </div>\n",
    "    <div style=\"flex: 1; padding: 0px; text-align: right;\">\n",
    "        <img src=\"../assets/ieti.png\" height=\"32\" alt=\"Logo de IETI\" style=\"max-height: 32px;\">\n",
    "    </div>\n",
    "</div>\n",
    "<hr/>"
   ]
  },
  {
   "cell_type": "markdown",
   "metadata": {},
   "source": [
    "## Funció 'sorted'\n",
    "\n",
    "La funció `sorted` retorna una llista ordenada."
   ]
  },
  {
   "cell_type": "code",
   "execution_count": null,
   "metadata": {},
   "outputs": [],
   "source": [
    "# Exemple de sorted\n",
    "nums = [5, 2, 9, 1, 5, 6]\n",
    "nums_ordenats = sorted(nums)\n",
    "\n",
    "print(nums_ordenats)"
   ]
  },
  {
   "cell_type": "code",
   "execution_count": null,
   "metadata": {},
   "outputs": [],
   "source": [
    "# Exemple de sorted amb cadenes de text 1\n",
    "frase = \"Avui en Martí i la Maria han anat a comprar al supermercat\"\n",
    "ordenades = sorted(frase.split(), key=str.lower)\n",
    "\n",
    "print(ordenades)"
   ]
  },
  {
   "cell_type": "code",
   "execution_count": null,
   "metadata": {},
   "outputs": [],
   "source": [
    "# Exemple de sorted amb cadenes de text 2\n",
    "cadena = \"Python\"\n",
    "cadena_ordenada = ''.join(sorted(cadena.lower()))\n",
    "print(cadena_ordenada)\n"
   ]
  },
  {
   "cell_type": "markdown",
   "metadata": {},
   "source": [
    "## Funció 'sorted' segons una funció 'lambda'\n",
    "\n",
    "A vegades, volem ordenar una llista segons un criteri diferent del valor de la llista. \n",
    "\n",
    "Per exemple, volem ordenar una llista de persones segons la seva edat.\n",
    "\n",
    "En aquest cas necessitem una funció que ens digui quin objecte (persona) és més gran que un altre.\n",
    "\n",
    "Això ho podem fer amb una funció lambda que ens retorni la edat de la persona.\n",
    "\n",
    "Aquesta funció la podem passar com a paràmetre a la funció sorted."
   ]
  },
  {
   "cell_type": "code",
   "execution_count": null,
   "metadata": {},
   "outputs": [],
   "source": [
    "# Exemple d'ordenació amb 'sort' en arrays\n",
    "persones = [\n",
    "    ['Joan', 10, ['natació', 'lectura']],\n",
    "    ['Maria', 30, ['pintura', 'ballar', 'natació']],\n",
    "    ['Pere', 16, ['fotografía', 'escalada']],\n",
    "    ['Laura', 18, ['ballar', 'viatjar']],\n",
    "    ['David', 25, ['jardineria', 'natació']],\n",
    "    ['Ana', 17, ['cuina', 'ballar']]\n",
    "]\n",
    "\n",
    "persones_ordenades = sorted(persones, key=lambda x: x[1])\n",
    "\n",
    "# Dibuixar la llista ordenada\n",
    "for persona in persones_ordenades:\n",
    "    print(persona)"
   ]
  },
  {
   "cell_type": "code",
   "execution_count": null,
   "metadata": {},
   "outputs": [],
   "source": [
    "# Exemple d'ordenació amb 'sort' en diccionaris\n",
    "persones = [\n",
    "    { 'nom': 'Joan',  'edat': 10, 'aficions': ['natació', 'lectura'] },\n",
    "    { 'nom': 'Maria', 'edat': 30, 'aficions': ['pintura', 'ballar', 'natació'] },\n",
    "    { 'nom': 'Pere',  'edat': 16, 'aficions': ['fotografía', 'escalada'] },\n",
    "    { 'nom': 'Laura', 'edat': 18, 'aficions': ['ballar', 'viatjar'] },\n",
    "    { 'nom': 'David', 'edat': 25, 'aficions': ['jardineria', 'natació'] },\n",
    "    { 'nom': 'Ana',   'edat': 17, 'aficions': ['cuina', 'ballar'] }\n",
    "]\n",
    "\n",
    "persones_ordenades = sorted(persones, key=lambda x: x['edat'])\n",
    "\n",
    "# Dibuixar la llista ordenada\n",
    "for persona in persones_ordenades:\n",
    "    print(persona)\n"
   ]
  },
  {
   "cell_type": "code",
   "execution_count": null,
   "metadata": {},
   "outputs": [],
   "source": [
    "# Exemple d'ordenació segons múltiples criteris (primer edat, després nom)\n",
    "persones = [\n",
    "    { 'nom': 'Joan',  'edat': 10 },\n",
    "    { 'nom': 'Maria', 'edat': 30 },\n",
    "    { 'nom': 'Pere',  'edat': 16 },\n",
    "    { 'nom': 'Laura', 'edat': 18 },\n",
    "    { 'nom': 'Tianlé', 'edat': 30 },\n",
    "    { 'nom': 'David', 'edat': 25 },\n",
    "    { 'nom': 'Ana',   'edat': 17 },\n",
    "    { 'nom': 'Carlos', 'edat': 16 },\n",
    "    { 'nom': 'Valèria', 'edat': 18 },\n",
    "    { 'nom': 'Elena', 'edat': 25 }\n",
    "]\n",
    "\n",
    "persones_ordenades = sorted(persones, key=lambda x: (x['edat'], x['nom']))\n",
    "\n",
    "# Dibuixar la llista ordenada\n",
    "for persona in persones_ordenades:\n",
    "    print(persona)\n"
   ]
  },
  {
   "cell_type": "markdown",
   "metadata": {},
   "source": [
    "## Exercici 0\n",
    "\n",
    "Fes un programa que ordeni les següents marques de cotxes segons l'any de fundació de la marca."
   ]
  },
  {
   "cell_type": "code",
   "execution_count": null,
   "metadata": {},
   "outputs": [],
   "source": [
    "# Fes aquí el codi de l'exercici 0\n",
    "marques_cotxes = [\n",
    "    { 'nom': 'Ford', 'pais': 'Estats Units', 'fundacio': 1903 },\n",
    "    { 'nom': 'Toyota', 'pais': 'Japó', 'fundacio': 1937 },\n",
    "    { 'nom': 'Volkswagen', 'pais': 'Alemanya', 'fundacio': 1937 },\n",
    "    { 'nom': 'Honda', 'pais': 'Japó', 'fundacio': 1948 },\n",
    "    { 'nom': 'Chevrolet', 'pais': 'Estats Units', 'fundacio': 1911 },\n",
    "    { 'nom': 'BMW', 'pais': 'Alemanya', 'fundacio': 1916 },\n",
    "    { 'nom': 'Nissan', 'pais': 'Japó', 'fundacio': 1933 },\n",
    "    { 'nom': 'Mercedes-Benz', 'pais': 'Alemanya', 'fundacio': 1926 },\n",
    "    { 'nom': 'Subaru', 'pais': 'Japó', 'fundacio': 1953 },\n",
    "    { 'nom': 'Chrysler', 'pais': 'Estats Units', 'fundacio': 1926 },\n",
    "    { 'nom': 'Audi', 'pais': 'Alemanya', 'fundacio': 1909 },\n",
    "]"
   ]
  },
  {
   "cell_type": "markdown",
   "metadata": {},
   "source": [
    "## Exercici 1\n",
    "\n",
    "Fes un programa que ordeni les següents marques de cotxes segons els tres criteris (i en aquest ordre):\n",
    "\n",
    "* Any\n",
    "* Orden alfabètic de la marca\n",
    "* País d'origen"
   ]
  },
  {
   "cell_type": "code",
   "execution_count": null,
   "metadata": {},
   "outputs": [],
   "source": [
    "# Fes aquí el codi de l'exercici 1\n",
    "marques_cotxes = [\n",
    "    { 'nom': 'Ford', 'pais': 'Estats Units', 'fundacio': 1903 },\n",
    "    { 'nom': 'Toyota', 'pais': 'Japó', 'fundacio': 1937 },\n",
    "    { 'nom': 'Volkswagen', 'pais': 'Alemanya', 'fundacio': 1937 },\n",
    "    { 'nom': 'Honda', 'pais': 'Japó', 'fundacio': 1948 },\n",
    "    { 'nom': 'Chevrolet', 'pais': 'Estats Units', 'fundacio': 1911 },\n",
    "    { 'nom': 'BMW', 'pais': 'Alemanya', 'fundacio': 1916 },\n",
    "    { 'nom': 'Nissan', 'pais': 'Japó', 'fundacio': 1933 },\n",
    "    { 'nom': 'Mercedes-Benz', 'pais': 'Alemanya', 'fundacio': 1926 },\n",
    "    { 'nom': 'Subaru', 'pais': 'Japó', 'fundacio': 1953 },\n",
    "    { 'nom': 'Chrysler', 'pais': 'Estats Units', 'fundacio': 1926 },\n",
    "    { 'nom': 'Audi', 'pais': 'Alemanya', 'fundacio': 1909 },\n",
    "]"
   ]
  },
  {
   "cell_type": "markdown",
   "metadata": {},
   "source": [
    "## Algorismes d'ordenació\n",
    "\n",
    "Hi ha diferents maneres d'ordenar dades, la funció 'sorted' de Python fa servir 'Timsort' perquè és molt eficient.\n",
    "\n",
    "L'eficiencia dels algorismes es medeix segons la seva complexitat, en aquests casos:\n",
    "\n",
    "* Timsort té una complexitat de `O(n log n)`\n",
    "* QuickSort té una complexitat de `O(n log n)`\n",
    "* Bombolla té una complexitat de `O(n^2)`\n",
    "\n",
    "Això vol dir que el rendiment de la Bombolla empitjora quan hi ha moltes dades.\n",
    "\n",
    "<center>\n",
    "    <img src=\"../assets/09e_00.png\" alt=\"Algorismes comparats\" style=\"width: 500px;\">\n",
    "</center>"
   ]
  },
  {
   "cell_type": "markdown",
   "metadata": {},
   "source": [
    "## Algorisme de la bombolla\n",
    "\n",
    "Aquest algorisme consisteix en comparar parelles d'elements consecutius i intercanviar-los si no estan en l'ordre correcte.\n",
    "\n",
    "Aquest procés es repeteix fins que tots els elements estan en l'ordre correcte.\n",
    "\n",
    "<center>\n",
    "    <img src=\"../assets/09e_01.gif\" alt=\"Algorisme de la bombolla\" style=\"width: 250px;\">\n",
    "</center>\n",
    "\n",
    "A cada passada, ha de valorar cada parella de números, es veu fàcilment que no és un algorisme eficient."
   ]
  },
  {
   "cell_type": "code",
   "execution_count": null,
   "metadata": {},
   "outputs": [],
   "source": [
    "## Algorisme de la bombolla per arrays\n",
    "def bubble_sort(arr):\n",
    "    sorted_arr = arr.copy()\n",
    "    n = len(sorted_arr)\n",
    "    for i in range(n - 1):\n",
    "        for j in range(0, n - i - 1):\n",
    "            if sorted_arr[j] > sorted_arr[j + 1]:\n",
    "                sorted_arr[j], sorted_arr[j + 1] = sorted_arr[j + 1], sorted_arr[j]\n",
    "    return sorted_arr\n",
    "\n",
    "nums = [5, 2, 9, 1, 5, 6]\n",
    "nums_ordenats = bubble_sort(nums)\n",
    "\n",
    "print(nums_ordenats)"
   ]
  },
  {
   "cell_type": "code",
   "execution_count": null,
   "metadata": {},
   "outputs": [],
   "source": [
    "# Algorisme de la bombolla per criteris de diccionaris\n",
    "def bubble_sort(objectes, criteris):\n",
    "    sorted_objectes = objectes.copy()\n",
    "    n = len(sorted_objectes)\n",
    "    for i in range(n - 1):\n",
    "        for j in range(0, n - i - 1):\n",
    "            element_actual = sorted_objectes[j]\n",
    "            element_seguent = sorted_objectes[j + 1]\n",
    "            clau_actual = tuple(element_actual[criteri] for criteri in criteris)\n",
    "            clau_seguent = tuple(element_seguent[criteri] for criteri in criteris)\n",
    "            if clau_actual > clau_seguent:\n",
    "                sorted_objectes[j], sorted_objectes[j + 1] = sorted_objectes[j + 1], sorted_objectes[j]\n",
    "    return sorted_objectes\n",
    "\n",
    "persones = [\n",
    "    { 'nom': 'Joan',  'edat': 10 },\n",
    "    { 'nom': 'Maria', 'edat': 30 },\n",
    "    { 'nom': 'Pere',  'edat': 16 },\n",
    "    { 'nom': 'Laura', 'edat': 18 },\n",
    "    { 'nom': 'Tianlé', 'edat': 30 },\n",
    "    { 'nom': 'David', 'edat': 25 },\n",
    "    { 'nom': 'Ana',   'edat': 17 },\n",
    "    { 'nom': 'Carlos', 'edat': 16 },\n",
    "    { 'nom': 'Valèria', 'edat': 18 },\n",
    "    { 'nom': 'Elena', 'edat': 25 }\n",
    "]\n",
    "\n",
    "# Ordenar persones per edat\n",
    "criteris = ['edat', 'nom']\n",
    "persones_ordenades = bubble_sort(persones, criteris)\n",
    "\n",
    "# Dibuixar la llista ordenada\n",
    "for persona in persones_ordenades:\n",
    "    print(persona)\n"
   ]
  }
 ],
 "metadata": {
  "kernelspec": {
   "display_name": "Python 3",
   "language": "python",
   "name": "python3"
  },
  "language_info": {
   "codemirror_mode": {
    "name": "ipython",
    "version": 3
   },
   "file_extension": ".py",
   "mimetype": "text/x-python",
   "name": "python",
   "nbconvert_exporter": "python",
   "pygments_lexer": "ipython3",
   "version": "3.11.5"
  },
  "orig_nbformat": 4
 },
 "nbformat": 4,
 "nbformat_minor": 2
}
