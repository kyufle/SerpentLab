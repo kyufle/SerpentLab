{
 "cells": [
  {
   "cell_type": "markdown",
   "metadata": {},
   "source": [
    "<div style=\"display: flex; width: 100%;\">\n",
    "    <div style=\"flex: 1; padding: 0px;\">\n",
    "        <p>© Albert Palacios Jiménez, 2023</p>\n",
    "    </div>\n",
    "    <div style=\"flex: 1; padding: 0px; text-align: right;\">\n",
    "        <img src=\"../assets/ieti.png\" height=\"32\" alt=\"Logo de IETI\" style=\"max-height: 32px;\">\n",
    "    </div>\n",
    "</div>\n",
    "<hr/>"
   ]
  },
  {
   "cell_type": "markdown",
   "metadata": {},
   "source": [
    "# Condicions (aka control de flux)\n",
    "\n",
    "Els programes necessiten pendre decisions, per aquest motiu, els llenguatges de programació tenen instruccions que ho fan possible.\n",
    "\n",
    "<center><img src=\"../assets/05a_00.png\" style=\"width: 300px;\" /></center>"
   ]
  },
  {
   "cell_type": "markdown",
   "metadata": {},
   "source": [
    "## If\n",
    "\n",
    "La instrucció 'if' permet executar un bloc de codi si una condició és certa.\n",
    "\n",
    "La sintaxi és:\n",
    "```python\n",
    "    if condició:\n",
    "        bloc de codi\n",
    "```\n",
    "Si la condició és certa, s'executa el bloc de codi. Si la condició és falsa, no s'executa el bloc de codi.\n",
    "\n",
    "La condició pot ser qualsevol expressió que retorni un valor booleà (True o False)."
   ]
  },
  {
   "cell_type": "code",
   "execution_count": null,
   "metadata": {},
   "outputs": [],
   "source": [
    "# Exemple de 'if', que entra dins el bloc\n",
    "\n",
    "edat = 17\n",
    "\n",
    "if (edat >= 18):\n",
    "    print(\"Ets major d'edat.\")\n",
    "    print(\"Pots votar.\")\n",
    "\n",
    "print(\"Fi del programa\")"
   ]
  },
  {
   "cell_type": "code",
   "execution_count": null,
   "metadata": {},
   "outputs": [],
   "source": [
    "# Exemple de 'if', que NO entra dins el bloc\n",
    "\n",
    "edat = 16\n",
    "\n",
    "if (edat >= 18):\n",
    "    print(\"Ets major d'edat.\")\n",
    "    print(\"Pots votar.\")\n",
    "\n",
    "print(\"Fi del programa\")"
   ]
  },
  {
   "cell_type": "markdown",
   "metadata": {},
   "source": [
    "## Exercici 0\n",
    "\n",
    "Fes una funció anomenada 'esParell' que retorni si un número és parell o imparell.\n",
    "\n",
    "La resposta ha de ser el text 'X és parell' si és imparell torna \"X és imparell\"\n",
    "\n",
    "**Nota**: Quan es fa un 'return' ja es surt de la funció, no cal fer un 'else'.\n",
    "\n",
    "Un número és parell quan dividida per 2 no té residu."
   ]
  },
  {
   "cell_type": "code",
   "execution_count": null,
   "metadata": {},
   "outputs": [],
   "source": [
    "# Completa aquest codi per fer l'exercici 0\n",
    "\n",
    "# Defineix aquí la funció 'esParell'\n"
   ]
  },
  {
   "cell_type": "markdown",
   "metadata": {},
   "source": [
    "## Exercici 1\n",
    "\n",
    "Fes una funció 'calculaOperacio' que a partir de dos números i una operació (suma, resta, multiplicació i divisió), retorna el resultat.\n",
    "\n",
    "Per exemple: \n",
    "\n",
    "calculaOperacio(2, 3, \"suma\") ha de retornar 5\n",
    "\n",
    "calculaOperacio(3, 4, \"multiplicació\") ha de retornar 12"
   ]
  },
  {
   "cell_type": "code",
   "execution_count": 1,
   "metadata": {},
   "outputs": [
    {
     "name": "stdout",
     "output_type": "stream",
     "text": [
      "El resultat de 2+3 és 5\n",
      "El resultat de 1-4 és -3\n",
      "El resultat de 56 és 30\n",
      "El resultat de 18/3 és 6.0\n"
     ]
    }
   ],
   "source": [
    "# Completa aquest codi per fer l'exercici 1\n",
    "\n",
    "# Defineix aquí la funció 'calculaOperacio'\n"
   ]
  },
  {
   "cell_type": "markdown",
   "metadata": {},
   "source": [
    "## If-Else\n",
    "\n",
    "L'estructura 'if-else' permet executar un bloc de codi si una condició és certa \n",
    "i un altre bloc de codi si la condició és falsa.\n",
    "\n",
    "La sintaxi és la següent:\n",
    "```python\n",
    "    if condició:\n",
    "        bloc de codi si és certa\n",
    "    else:\n",
    "        bloc de codi si és falsa\n",
    "```\n",
    "Aleshores:\n",
    "\n",
    "- Si la condició és certa, s'executarà el bloc de codi dins del 'if'. \n",
    "\n",
    "- Si la condició és falsa, s'executarà el bloc de codi dins del 'else'.\n",
    "\n",
    "La condició pot ser qualsevol expressió que retorni un valor booleà (True o False)."
   ]
  },
  {
   "cell_type": "code",
   "execution_count": null,
   "metadata": {},
   "outputs": [],
   "source": [
    "# Exemple de 'if', que entra dins el bloc\n",
    "\n",
    "edat = 18\n",
    "\n",
    "if (edat >= 18):\n",
    "    print(\"Ets major d'edat, \")\n",
    "    print(\"i pots votar.\")\n",
    "else:\n",
    "    print(\"Ets menor d'edat, \")\n",
    "    print(\"i NO pots votar.\")\n",
    "\n",
    "print(\"Fi del programa\")"
   ]
  },
  {
   "cell_type": "code",
   "execution_count": 2,
   "metadata": {},
   "outputs": [
    {
     "name": "stdout",
     "output_type": "stream",
     "text": [
      "Ets menor d'edat, \n",
      "i NO pots votar.\n",
      "Fi del programa\n"
     ]
    }
   ],
   "source": [
    "# Exemple de 'if', que entra dins el bloc\n",
    "\n",
    "edat = 16\n",
    "\n",
    "if (edat >= 18):\n",
    "    print(\"Ets major d'edat, \")\n",
    "    print(\"i pots votar.\")\n",
    "else:\n",
    "    print(\"Ets menor d'edat, \")\n",
    "    print(\"i NO pots votar.\")\n",
    "\n",
    "print(\"Fi del programa\")"
   ]
  },
  {
   "cell_type": "markdown",
   "metadata": {},
   "source": [
    "## Exercici 2\n",
    "\n",
    "Demana a l'usuari que escrigui una contrasenya.\n",
    "\n",
    "Crea la funció 'validaContrasenya' que apartir d'un text de contrasenya dirà que és vàlida si:\n",
    "\n",
    "- La contrasenya té almenys 8 caràcters\n",
    "\n",
    "- La contrasenya té almenys 2 lletres majúscules i 2 lletres minúscules\n",
    "\n",
    "La resposta de la funció serà el text:\n",
    "\n",
    "- \"La contrasenya és vàlida\" si és vàlida\n",
    "\n",
    "- \"La contrasenya NO és vàlida\" si no és vàlida\n",
    "\n",
    "Et caldrà una funció 'conta_majuscules' i una funció 'conta_minuscules', per fer aquestes funcions:\n",
    "```python\n",
    "    def conta_majuscules(text):\n",
    "        return len(list(filter(str.isupper, text)))\n",
    "```"
   ]
  },
  {
   "cell_type": "code",
   "execution_count": 4,
   "metadata": {},
   "outputs": [
    {
     "name": "stdout",
     "output_type": "stream",
     "text": [
      "La contrasenya iiABii NO és vàlida\n"
     ]
    }
   ],
   "source": [
    "# Completa aquest codi per fer l'exercici 2\n",
    "def conta_majuscules(text):\n",
    "        return len(list(filter(str.isupper, text)))\n",
    "\n",
    "# Defineix aquí la funció 'validaContrasenya'\n"
   ]
  },
  {
   "cell_type": "markdown",
   "metadata": {},
   "source": [
    "## if-elif-else\n",
    "\n",
    "A vegades hem de comparar múltiples condicions, Python permet fer-ho amb estructures 'elif':\n",
    "\n",
    "La sintaxi és la següent:\n",
    "```python\n",
    "    if condició:\n",
    "        bloc de codi si és certa\n",
    "    elif segona_condició:\n",
    "        bloc de codi si la segona condició és certa\n",
    "    elif tercera_condició:\n",
    "        bloc de codi si la tercera condició és certa\n",
    "    else:\n",
    "        bloc de codi si cap condició anterior és certa\n",
    "```\n",
    "Es poden posar tants 'elif' com faci falta\n"
   ]
  },
  {
   "cell_type": "code",
   "execution_count": 5,
   "metadata": {},
   "outputs": [
    {
     "name": "stdout",
     "output_type": "stream",
     "text": [
      "Ja començes a ser gran\n"
     ]
    }
   ],
   "source": [
    "# Exemple de 'elif'"
   ]
  },
  {
   "cell_type": "markdown",
   "metadata": {},
   "source": [
    "## Exercici 3\n",
    "\n",
    "Fes un programa que generi un número aleatòri entre 0 i 100, primer escriu \"El número escollit és: X\" on X és el número.\n",
    "\n",
    "Després:\n",
    "\n",
    "- Si el número és menor o igual a 25 escriurà \"El número és petit\"\n",
    "\n",
    "- Si el número està entre 26 o 74 inclòsos, escriurà \"El número és mitjà\"\n",
    "\n",
    "- Si el número és major o igual a 75 escriurà \"El número és gran\""
   ]
  },
  {
   "cell_type": "code",
   "execution_count": 12,
   "metadata": {},
   "outputs": [
    {
     "name": "stdout",
     "output_type": "stream",
     "text": [
      "El numero escollit és: 12\n"
     ]
    },
    {
     "data": {
      "text/plain": [
       "'El numero es petit.12'"
      ]
     },
     "execution_count": 12,
     "metadata": {},
     "output_type": "execute_result"
    }
   ],
   "source": [
    "# Fes aquí l'exercici 3 \n",
    "import random\n"
   ]
  },
  {
   "cell_type": "markdown",
   "metadata": {},
   "source": [
    "## Exercici 4\n",
    "\n",
    "Fes un programa que demani 3 edats, i aleshores les classifiqui de menor a major. \n",
    "\n",
    "Ha de mostrar el text: \"Les edats ordenades són X, Y, Z\" on X, Y i Z són tres números ordenats de més petit a més gran."
   ]
  },
  {
   "cell_type": "code",
   "execution_count": 13,
   "metadata": {},
   "outputs": [
    {
     "name": "stdout",
     "output_type": "stream",
     "text": [
      "Les edats són 8, 3 i 6\n",
      "Les edats ordenades són 3, 6, 8\n"
     ]
    }
   ],
   "source": [
    "# Fes aquí l'exercici 4"
   ]
  },
  {
   "cell_type": "markdown",
   "metadata": {},
   "source": [
    "## Exercici 5\n",
    "\n",
    "Fes un programa que demani una xifra a l'usuari entre 0 i 100.000\n",
    "\n",
    "El programa ha de dir: \"Per un import de X, els impostos que has de pagar són un Y% i el total és Z\"\n",
    "\n",
    "Aleshores:\n",
    "\n",
    "- Si el valor és menor a 10.000 calcularà un 10% del valor. (Y serà 10% i Z el resultat del càlcul)\n",
    "\n",
    "- Si el valor està entre 10.001 i 50.000 calcularà un 20% del valor. (Y serà 20% i Z el resultat del càlcul)\n",
    "\n",
    "- Si el valor és superior a 50.000 calcularà un 30% del valor (Y serà 30% i Z el resultat del càlcul)\n",
    "\n",
    "Recorda que Z ha de tornar el total a pagar, és a dir els impostos més el valor inicial."
   ]
  },
  {
   "cell_type": "code",
   "execution_count": 14,
   "metadata": {},
   "outputs": [
    {
     "name": "stdout",
     "output_type": "stream",
     "text": [
      "Per un import de 25000, els impostos que has de pagar són un 20% i el total és 30000.0\n"
     ]
    }
   ],
   "source": [
    "# Fes aquí l'exercici 5"
   ]
  },
  {
   "cell_type": "markdown",
   "metadata": {},
   "source": [
    "## Exercici 6\n",
    "\n",
    "Fes un programa que demani un dia de la setmana i digui si s'ha d'anar a l'escola (de dilluns a divendres) o no.\n",
    "\n",
    "No facis servir \"elif\", fes-ho només amb un if-else."
   ]
  },
  {
   "cell_type": "code",
   "execution_count": 16,
   "metadata": {},
   "outputs": [
    {
     "name": "stdout",
     "output_type": "stream",
     "text": [
      "El diumenge no has d'anar a l'escola\n"
     ]
    }
   ],
   "source": [
    "# Fes aquí l'exercici 6"
   ]
  }
 ],
 "metadata": {
  "kernelspec": {
   "display_name": "Python 3",
   "language": "python",
   "name": "python3"
  },
  "language_info": {
   "codemirror_mode": {
    "name": "ipython",
    "version": 3
   },
   "file_extension": ".py",
   "mimetype": "text/x-python",
   "name": "python",
   "nbconvert_exporter": "python",
   "pygments_lexer": "ipython3",
   "version": "3.9.6"
  },
  "orig_nbformat": 4
 },
 "nbformat": 4,
 "nbformat_minor": 2
}
